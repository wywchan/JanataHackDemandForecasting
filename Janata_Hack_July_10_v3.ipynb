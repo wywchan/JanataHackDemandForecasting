{
 "cells": [
  {
   "cell_type": "markdown",
   "metadata": {},
   "source": [
    "# Janata Hack Demand Forecasting"
   ]
  },
  {
   "cell_type": "markdown",
   "metadata": {},
   "source": [
    "## Table of Contents\n",
    "\n",
    "1. [Introduction](#Introduction)\n",
    "2. [EDA](#EDA)\n",
    "3. [Data Cleaning](#Data-Cleaning)\n",
    "4. [Visualizations](#Visualizations)\n",
    "5. [Modelling](#Modelling)\n",
    "5. [Neural Network](#Neural-Network)\n",
    "6. [Predictions](#Predictions)\n",
    "7. [Conclusion](#Conclusion)\n",
    "8. [Future Improvements](#Future-Improvements)"
   ]
  },
  {
   "cell_type": "markdown",
   "metadata": {},
   "source": [
    "## Introduction\n",
    "AnalyticsVidhya.com hosted a hackathon for forecasting the product sales for different stores. \n",
    "\n",
    "---\n",
    "Problem Statement:\n",
    "One of the largest retail chains in the world wants to use their vast data source to build an efficient forecasting model to predict the sales for each SKU in its portfolio at its 76 different stores using historical sales data for the past 3 years on a week-on-week basis. Sales and promotional information is also available for each week - product and store wise.\n",
    "\n",
    "However, no other information regarding stores and products are available. Can you still forecast accurately the sales values for every such product/SKU-store combination for the next 12 weeks accurately? If yes, then dive right in!\n",
    "\n",
    "---\n",
    "\n",
    "We approached this problem using common Scikit-Learn classifiers and then comparing the best performing ones with a neural network.\n",
    "\n",
    "Ultimately, our best performing solution was a Random Forest model which had an R2 score of 0.72 and RMLSE score of 42."
   ]
  },
  {
   "cell_type": "markdown",
   "metadata": {
    "colab": {},
    "colab_type": "code",
    "id": "zUj9tls2S6Rk"
   },
   "source": [
    "### Library Imports"
   ]
  },
  {
   "cell_type": "code",
   "execution_count": 2,
   "metadata": {
    "colab": {
     "base_uri": "https://localhost:8080/",
     "height": 69
    },
    "colab_type": "code",
    "id": "V0ecfOdGS6Ru",
    "outputId": "439fe359-767a-42a1-c93f-dc8a76ac0ae0"
   },
   "outputs": [
    {
     "name": "stderr",
     "output_type": "stream",
     "text": [
      "Using TensorFlow backend.\n"
     ]
    }
   ],
   "source": [
    "import pandas as pd\n",
    "import numpy as np\n",
    "import datetime as dt\n",
    "import statsmodels.api as sm\n",
    "import matplotlib.pyplot as plt\n",
    "import seaborn as sns\n",
    "from sklearn.ensemble import RandomForestRegressor\n",
    "from sklearn.model_selection import train_test_split, cross_val_score\n",
    "from sklearn.metrics import r2_score, mean_squared_log_error\n",
    "from sklearn.preprocessing import StandardScaler\n",
    "from sklearn.preprocessing import PolynomialFeatures\n",
    "\n",
    "import tensorflow as tf\n",
    "import tensorflow.keras as keras\n",
    "from keras.models import Sequential\n",
    "from keras.layers import Dense, Dropout\n",
    "from keras.metrics import mean_squared_logarithmic_error\n",
    "from keras.callbacks import EarlyStopping"
   ]
  },
  {
   "cell_type": "markdown",
   "metadata": {},
   "source": [
    "allocating expandable gpu memory"
   ]
  },
  {
   "cell_type": "code",
   "execution_count": 3,
   "metadata": {},
   "outputs": [],
   "source": [
    "physical_devices = tf.config.experimental.list_physical_devices('GPU')\n",
    "if len(physical_devices) > 0:\n",
    "    tf.config.experimental.set_memory_growth(physical_devices[0], True)"
   ]
  },
  {
   "cell_type": "markdown",
   "metadata": {},
   "source": [
    "Function to plot accuracy and error for NN"
   ]
  },
  {
   "cell_type": "code",
   "execution_count": 4,
   "metadata": {},
   "outputs": [],
   "source": [
    "def plot_history(history):\n",
    "    '''\n",
    "    Plot model accuracy/loss for training/validation set vs epochs\n",
    "    \n",
    "    PARAMS:\n",
    "        history: Training history from model\n",
    "    RETURNS:\n",
    "    '''\n",
    "    \n",
    "    fig, axs = plt.subplots(2, figsize=(15,10))\n",
    "    \n",
    "    # create accuracy subplots:\n",
    "    axs[0].plot(history.history['mean_squared_logarithmic_error'], label='train mse')\n",
    "    axs[0].plot(history.history['val_mean_squared_logarithmic_error'], label='test mse')\n",
    "    axs[0].set_ylabel('mse')\n",
    "    axs[0].legend(loc='lower right')\n",
    "    axs[0].set_title('mse eval')\n",
    "    \n",
    "    # create error subplot:\n",
    "    axs[1].plot(history.history['loss'], label='train error')\n",
    "    axs[1].plot(history.history['val_loss'], label = 'test error')\n",
    "    axs[1].set_ylabel('Error')\n",
    "    axs[1].set_xlabel('Epoch')\n",
    "    axs[1].legend(loc='upper right')\n",
    "    axs[1].set_title('Error eval')\n",
    "    \n",
    "    plt.show()\n",
    "    "
   ]
  },
  {
   "cell_type": "code",
   "execution_count": 7,
   "metadata": {
    "colab": {},
    "colab_type": "code",
    "id": "26GviuQeh6Gt"
   },
   "outputs": [],
   "source": [
    "sample_sub = pd.read_csv('test_nfaJ3J5.csv')"
   ]
  },
  {
   "cell_type": "markdown",
   "metadata": {
    "colab": {},
    "colab_type": "code",
    "id": "wOn9zqSQS6SG"
   },
   "source": [
    "## EDA"
   ]
  },
  {
   "cell_type": "code",
   "execution_count": 11,
   "metadata": {
    "colab": {},
    "colab_type": "code",
    "id": "xwTQdKGrOyXz"
   },
   "outputs": [],
   "source": [
    "train = pd.read_csv('train_0irEZ2H.csv')"
   ]
  },
  {
   "cell_type": "code",
   "execution_count": 12,
   "metadata": {
    "colab": {},
    "colab_type": "code",
    "id": "HdDkGxbgS6SL"
   },
   "outputs": [],
   "source": [
    "test = pd.read_csv('test_nfaJ3J5.csv')"
   ]
  },
  {
   "cell_type": "code",
   "execution_count": 13,
   "metadata": {
    "colab": {
     "base_uri": "https://localhost:8080/",
     "height": 206
    },
    "colab_type": "code",
    "id": "Kkfoem4jS6SP",
    "outputId": "24c44505-27b4-40c8-f434-293a1688f052"
   },
   "outputs": [
    {
     "data": {
      "text/html": [
       "<div>\n",
       "<style scoped>\n",
       "    .dataframe tbody tr th:only-of-type {\n",
       "        vertical-align: middle;\n",
       "    }\n",
       "\n",
       "    .dataframe tbody tr th {\n",
       "        vertical-align: top;\n",
       "    }\n",
       "\n",
       "    .dataframe thead th {\n",
       "        text-align: right;\n",
       "    }\n",
       "</style>\n",
       "<table border=\"1\" class=\"dataframe\">\n",
       "  <thead>\n",
       "    <tr style=\"text-align: right;\">\n",
       "      <th></th>\n",
       "      <th>record_ID</th>\n",
       "      <th>week</th>\n",
       "      <th>store_id</th>\n",
       "      <th>sku_id</th>\n",
       "      <th>total_price</th>\n",
       "      <th>base_price</th>\n",
       "      <th>is_featured_sku</th>\n",
       "      <th>is_display_sku</th>\n",
       "      <th>units_sold</th>\n",
       "    </tr>\n",
       "  </thead>\n",
       "  <tbody>\n",
       "    <tr>\n",
       "      <th>0</th>\n",
       "      <td>1</td>\n",
       "      <td>17/01/11</td>\n",
       "      <td>8091</td>\n",
       "      <td>216418</td>\n",
       "      <td>99.0375</td>\n",
       "      <td>111.8625</td>\n",
       "      <td>0</td>\n",
       "      <td>0</td>\n",
       "      <td>20</td>\n",
       "    </tr>\n",
       "    <tr>\n",
       "      <th>1</th>\n",
       "      <td>2</td>\n",
       "      <td>17/01/11</td>\n",
       "      <td>8091</td>\n",
       "      <td>216419</td>\n",
       "      <td>99.0375</td>\n",
       "      <td>99.0375</td>\n",
       "      <td>0</td>\n",
       "      <td>0</td>\n",
       "      <td>28</td>\n",
       "    </tr>\n",
       "    <tr>\n",
       "      <th>2</th>\n",
       "      <td>3</td>\n",
       "      <td>17/01/11</td>\n",
       "      <td>8091</td>\n",
       "      <td>216425</td>\n",
       "      <td>133.9500</td>\n",
       "      <td>133.9500</td>\n",
       "      <td>0</td>\n",
       "      <td>0</td>\n",
       "      <td>19</td>\n",
       "    </tr>\n",
       "    <tr>\n",
       "      <th>3</th>\n",
       "      <td>4</td>\n",
       "      <td>17/01/11</td>\n",
       "      <td>8091</td>\n",
       "      <td>216233</td>\n",
       "      <td>133.9500</td>\n",
       "      <td>133.9500</td>\n",
       "      <td>0</td>\n",
       "      <td>0</td>\n",
       "      <td>44</td>\n",
       "    </tr>\n",
       "    <tr>\n",
       "      <th>4</th>\n",
       "      <td>5</td>\n",
       "      <td>17/01/11</td>\n",
       "      <td>8091</td>\n",
       "      <td>217390</td>\n",
       "      <td>141.0750</td>\n",
       "      <td>141.0750</td>\n",
       "      <td>0</td>\n",
       "      <td>0</td>\n",
       "      <td>52</td>\n",
       "    </tr>\n",
       "  </tbody>\n",
       "</table>\n",
       "</div>"
      ],
      "text/plain": [
       "   record_ID      week  store_id  sku_id  total_price  base_price  \\\n",
       "0          1  17/01/11      8091  216418      99.0375    111.8625   \n",
       "1          2  17/01/11      8091  216419      99.0375     99.0375   \n",
       "2          3  17/01/11      8091  216425     133.9500    133.9500   \n",
       "3          4  17/01/11      8091  216233     133.9500    133.9500   \n",
       "4          5  17/01/11      8091  217390     141.0750    141.0750   \n",
       "\n",
       "   is_featured_sku  is_display_sku  units_sold  \n",
       "0                0               0          20  \n",
       "1                0               0          28  \n",
       "2                0               0          19  \n",
       "3                0               0          44  \n",
       "4                0               0          52  "
      ]
     },
     "execution_count": 13,
     "metadata": {},
     "output_type": "execute_result"
    }
   ],
   "source": [
    "train.head()"
   ]
  },
  {
   "cell_type": "code",
   "execution_count": 14,
   "metadata": {
    "colab": {
     "base_uri": "https://localhost:8080/",
     "height": 206
    },
    "colab_type": "code",
    "id": "Qx7CbHiyS6ST",
    "outputId": "8c32a1b4-2d5a-4f86-a887-c5add8329fe4"
   },
   "outputs": [
    {
     "data": {
      "text/html": [
       "<div>\n",
       "<style scoped>\n",
       "    .dataframe tbody tr th:only-of-type {\n",
       "        vertical-align: middle;\n",
       "    }\n",
       "\n",
       "    .dataframe tbody tr th {\n",
       "        vertical-align: top;\n",
       "    }\n",
       "\n",
       "    .dataframe thead th {\n",
       "        text-align: right;\n",
       "    }\n",
       "</style>\n",
       "<table border=\"1\" class=\"dataframe\">\n",
       "  <thead>\n",
       "    <tr style=\"text-align: right;\">\n",
       "      <th></th>\n",
       "      <th>record_ID</th>\n",
       "      <th>week</th>\n",
       "      <th>store_id</th>\n",
       "      <th>sku_id</th>\n",
       "      <th>total_price</th>\n",
       "      <th>base_price</th>\n",
       "      <th>is_featured_sku</th>\n",
       "      <th>is_display_sku</th>\n",
       "      <th>units_sold</th>\n",
       "    </tr>\n",
       "  </thead>\n",
       "  <tbody>\n",
       "    <tr>\n",
       "      <th>150145</th>\n",
       "      <td>212638</td>\n",
       "      <td>09/07/13</td>\n",
       "      <td>9984</td>\n",
       "      <td>223245</td>\n",
       "      <td>235.8375</td>\n",
       "      <td>235.8375</td>\n",
       "      <td>0</td>\n",
       "      <td>0</td>\n",
       "      <td>38</td>\n",
       "    </tr>\n",
       "    <tr>\n",
       "      <th>150146</th>\n",
       "      <td>212639</td>\n",
       "      <td>09/07/13</td>\n",
       "      <td>9984</td>\n",
       "      <td>223153</td>\n",
       "      <td>235.8375</td>\n",
       "      <td>235.8375</td>\n",
       "      <td>0</td>\n",
       "      <td>0</td>\n",
       "      <td>30</td>\n",
       "    </tr>\n",
       "    <tr>\n",
       "      <th>150147</th>\n",
       "      <td>212642</td>\n",
       "      <td>09/07/13</td>\n",
       "      <td>9984</td>\n",
       "      <td>245338</td>\n",
       "      <td>357.6750</td>\n",
       "      <td>483.7875</td>\n",
       "      <td>1</td>\n",
       "      <td>1</td>\n",
       "      <td>31</td>\n",
       "    </tr>\n",
       "    <tr>\n",
       "      <th>150148</th>\n",
       "      <td>212643</td>\n",
       "      <td>09/07/13</td>\n",
       "      <td>9984</td>\n",
       "      <td>547934</td>\n",
       "      <td>141.7875</td>\n",
       "      <td>191.6625</td>\n",
       "      <td>0</td>\n",
       "      <td>1</td>\n",
       "      <td>12</td>\n",
       "    </tr>\n",
       "    <tr>\n",
       "      <th>150149</th>\n",
       "      <td>212644</td>\n",
       "      <td>09/07/13</td>\n",
       "      <td>9984</td>\n",
       "      <td>679023</td>\n",
       "      <td>234.4125</td>\n",
       "      <td>234.4125</td>\n",
       "      <td>0</td>\n",
       "      <td>0</td>\n",
       "      <td>15</td>\n",
       "    </tr>\n",
       "  </tbody>\n",
       "</table>\n",
       "</div>"
      ],
      "text/plain": [
       "        record_ID      week  store_id  sku_id  total_price  base_price  \\\n",
       "150145     212638  09/07/13      9984  223245     235.8375    235.8375   \n",
       "150146     212639  09/07/13      9984  223153     235.8375    235.8375   \n",
       "150147     212642  09/07/13      9984  245338     357.6750    483.7875   \n",
       "150148     212643  09/07/13      9984  547934     141.7875    191.6625   \n",
       "150149     212644  09/07/13      9984  679023     234.4125    234.4125   \n",
       "\n",
       "        is_featured_sku  is_display_sku  units_sold  \n",
       "150145                0               0          38  \n",
       "150146                0               0          30  \n",
       "150147                1               1          31  \n",
       "150148                0               1          12  \n",
       "150149                0               0          15  "
      ]
     },
     "execution_count": 14,
     "metadata": {},
     "output_type": "execute_result"
    }
   ],
   "source": [
    "train.tail()"
   ]
  },
  {
   "cell_type": "code",
   "execution_count": 15,
   "metadata": {
    "colab": {
     "base_uri": "https://localhost:8080/",
     "height": 34
    },
    "colab_type": "code",
    "id": "w1W8w5dOS6SX",
    "outputId": "eebe52ec-a6d1-448e-807f-f9213268a3dd"
   },
   "outputs": [
    {
     "data": {
      "text/plain": [
       "(150150, 9)"
      ]
     },
     "execution_count": 15,
     "metadata": {},
     "output_type": "execute_result"
    }
   ],
   "source": [
    "train.shape"
   ]
  },
  {
   "cell_type": "code",
   "execution_count": 16,
   "metadata": {
    "colab": {
     "base_uri": "https://localhost:8080/",
     "height": 206
    },
    "colab_type": "code",
    "id": "L3BEosEBS6Sc",
    "outputId": "651b08ad-6f00-4a59-9abd-4e238b9172d8"
   },
   "outputs": [
    {
     "data": {
      "text/html": [
       "<div>\n",
       "<style scoped>\n",
       "    .dataframe tbody tr th:only-of-type {\n",
       "        vertical-align: middle;\n",
       "    }\n",
       "\n",
       "    .dataframe tbody tr th {\n",
       "        vertical-align: top;\n",
       "    }\n",
       "\n",
       "    .dataframe thead th {\n",
       "        text-align: right;\n",
       "    }\n",
       "</style>\n",
       "<table border=\"1\" class=\"dataframe\">\n",
       "  <thead>\n",
       "    <tr style=\"text-align: right;\">\n",
       "      <th></th>\n",
       "      <th>record_ID</th>\n",
       "      <th>week</th>\n",
       "      <th>store_id</th>\n",
       "      <th>sku_id</th>\n",
       "      <th>total_price</th>\n",
       "      <th>base_price</th>\n",
       "      <th>is_featured_sku</th>\n",
       "      <th>is_display_sku</th>\n",
       "    </tr>\n",
       "  </thead>\n",
       "  <tbody>\n",
       "    <tr>\n",
       "      <th>0</th>\n",
       "      <td>212645</td>\n",
       "      <td>16/07/13</td>\n",
       "      <td>8091</td>\n",
       "      <td>216418</td>\n",
       "      <td>108.3000</td>\n",
       "      <td>108.3000</td>\n",
       "      <td>0</td>\n",
       "      <td>0</td>\n",
       "    </tr>\n",
       "    <tr>\n",
       "      <th>1</th>\n",
       "      <td>212646</td>\n",
       "      <td>16/07/13</td>\n",
       "      <td>8091</td>\n",
       "      <td>216419</td>\n",
       "      <td>109.0125</td>\n",
       "      <td>109.0125</td>\n",
       "      <td>0</td>\n",
       "      <td>0</td>\n",
       "    </tr>\n",
       "    <tr>\n",
       "      <th>2</th>\n",
       "      <td>212647</td>\n",
       "      <td>16/07/13</td>\n",
       "      <td>8091</td>\n",
       "      <td>216425</td>\n",
       "      <td>133.9500</td>\n",
       "      <td>133.9500</td>\n",
       "      <td>0</td>\n",
       "      <td>0</td>\n",
       "    </tr>\n",
       "    <tr>\n",
       "      <th>3</th>\n",
       "      <td>212648</td>\n",
       "      <td>16/07/13</td>\n",
       "      <td>8091</td>\n",
       "      <td>216233</td>\n",
       "      <td>133.9500</td>\n",
       "      <td>133.9500</td>\n",
       "      <td>0</td>\n",
       "      <td>0</td>\n",
       "    </tr>\n",
       "    <tr>\n",
       "      <th>4</th>\n",
       "      <td>212649</td>\n",
       "      <td>16/07/13</td>\n",
       "      <td>8091</td>\n",
       "      <td>217390</td>\n",
       "      <td>176.7000</td>\n",
       "      <td>176.7000</td>\n",
       "      <td>0</td>\n",
       "      <td>0</td>\n",
       "    </tr>\n",
       "  </tbody>\n",
       "</table>\n",
       "</div>"
      ],
      "text/plain": [
       "   record_ID      week  store_id  sku_id  total_price  base_price  \\\n",
       "0     212645  16/07/13      8091  216418     108.3000    108.3000   \n",
       "1     212646  16/07/13      8091  216419     109.0125    109.0125   \n",
       "2     212647  16/07/13      8091  216425     133.9500    133.9500   \n",
       "3     212648  16/07/13      8091  216233     133.9500    133.9500   \n",
       "4     212649  16/07/13      8091  217390     176.7000    176.7000   \n",
       "\n",
       "   is_featured_sku  is_display_sku  \n",
       "0                0               0  \n",
       "1                0               0  \n",
       "2                0               0  \n",
       "3                0               0  \n",
       "4                0               0  "
      ]
     },
     "execution_count": 16,
     "metadata": {},
     "output_type": "execute_result"
    }
   ],
   "source": [
    "test.head()"
   ]
  },
  {
   "cell_type": "code",
   "execution_count": 17,
   "metadata": {
    "colab": {
     "base_uri": "https://localhost:8080/",
     "height": 34
    },
    "colab_type": "code",
    "id": "AYSVuW4bS6Sg",
    "outputId": "9943604a-1b3d-44e6-d4de-becbe6a0ad51"
   },
   "outputs": [
    {
     "data": {
      "text/plain": [
       "(13860, 8)"
      ]
     },
     "execution_count": 17,
     "metadata": {},
     "output_type": "execute_result"
    }
   ],
   "source": [
    "test.shape"
   ]
  },
  {
   "cell_type": "code",
   "execution_count": 18,
   "metadata": {
    "colab": {
     "base_uri": "https://localhost:8080/",
     "height": 300
    },
    "colab_type": "code",
    "id": "578goJUXS6Sq",
    "outputId": "d21b38f9-026d-4ae6-d813-c4251e727d35"
   },
   "outputs": [
    {
     "data": {
      "text/html": [
       "<div>\n",
       "<style scoped>\n",
       "    .dataframe tbody tr th:only-of-type {\n",
       "        vertical-align: middle;\n",
       "    }\n",
       "\n",
       "    .dataframe tbody tr th {\n",
       "        vertical-align: top;\n",
       "    }\n",
       "\n",
       "    .dataframe thead th {\n",
       "        text-align: right;\n",
       "    }\n",
       "</style>\n",
       "<table border=\"1\" class=\"dataframe\">\n",
       "  <thead>\n",
       "    <tr style=\"text-align: right;\">\n",
       "      <th></th>\n",
       "      <th>count</th>\n",
       "      <th>mean</th>\n",
       "      <th>std</th>\n",
       "      <th>min</th>\n",
       "      <th>25%</th>\n",
       "      <th>50%</th>\n",
       "      <th>75%</th>\n",
       "      <th>max</th>\n",
       "    </tr>\n",
       "  </thead>\n",
       "  <tbody>\n",
       "    <tr>\n",
       "      <th>record_ID</th>\n",
       "      <td>150150.0</td>\n",
       "      <td>106271.555504</td>\n",
       "      <td>61386.037861</td>\n",
       "      <td>1.000</td>\n",
       "      <td>53111.2500</td>\n",
       "      <td>106226.5000</td>\n",
       "      <td>159452.7500</td>\n",
       "      <td>212644.0000</td>\n",
       "    </tr>\n",
       "    <tr>\n",
       "      <th>store_id</th>\n",
       "      <td>150150.0</td>\n",
       "      <td>9199.422511</td>\n",
       "      <td>615.591445</td>\n",
       "      <td>8023.000</td>\n",
       "      <td>8562.0000</td>\n",
       "      <td>9371.0000</td>\n",
       "      <td>9731.0000</td>\n",
       "      <td>9984.0000</td>\n",
       "    </tr>\n",
       "    <tr>\n",
       "      <th>sku_id</th>\n",
       "      <td>150150.0</td>\n",
       "      <td>254761.132468</td>\n",
       "      <td>85547.306447</td>\n",
       "      <td>216233.000</td>\n",
       "      <td>217217.0000</td>\n",
       "      <td>222087.0000</td>\n",
       "      <td>245338.0000</td>\n",
       "      <td>679023.0000</td>\n",
       "    </tr>\n",
       "    <tr>\n",
       "      <th>total_price</th>\n",
       "      <td>150149.0</td>\n",
       "      <td>206.626751</td>\n",
       "      <td>103.308516</td>\n",
       "      <td>41.325</td>\n",
       "      <td>130.3875</td>\n",
       "      <td>198.0750</td>\n",
       "      <td>233.7000</td>\n",
       "      <td>562.1625</td>\n",
       "    </tr>\n",
       "    <tr>\n",
       "      <th>base_price</th>\n",
       "      <td>150150.0</td>\n",
       "      <td>219.425927</td>\n",
       "      <td>110.961712</td>\n",
       "      <td>61.275</td>\n",
       "      <td>133.2375</td>\n",
       "      <td>205.9125</td>\n",
       "      <td>234.4125</td>\n",
       "      <td>562.1625</td>\n",
       "    </tr>\n",
       "    <tr>\n",
       "      <th>is_featured_sku</th>\n",
       "      <td>150150.0</td>\n",
       "      <td>0.095611</td>\n",
       "      <td>0.294058</td>\n",
       "      <td>0.000</td>\n",
       "      <td>0.0000</td>\n",
       "      <td>0.0000</td>\n",
       "      <td>0.0000</td>\n",
       "      <td>1.0000</td>\n",
       "    </tr>\n",
       "    <tr>\n",
       "      <th>is_display_sku</th>\n",
       "      <td>150150.0</td>\n",
       "      <td>0.133200</td>\n",
       "      <td>0.339792</td>\n",
       "      <td>0.000</td>\n",
       "      <td>0.0000</td>\n",
       "      <td>0.0000</td>\n",
       "      <td>0.0000</td>\n",
       "      <td>1.0000</td>\n",
       "    </tr>\n",
       "    <tr>\n",
       "      <th>units_sold</th>\n",
       "      <td>150150.0</td>\n",
       "      <td>51.674206</td>\n",
       "      <td>60.207904</td>\n",
       "      <td>1.000</td>\n",
       "      <td>20.0000</td>\n",
       "      <td>35.0000</td>\n",
       "      <td>62.0000</td>\n",
       "      <td>2876.0000</td>\n",
       "    </tr>\n",
       "  </tbody>\n",
       "</table>\n",
       "</div>"
      ],
      "text/plain": [
       "                    count           mean           std         min  \\\n",
       "record_ID        150150.0  106271.555504  61386.037861       1.000   \n",
       "store_id         150150.0    9199.422511    615.591445    8023.000   \n",
       "sku_id           150150.0  254761.132468  85547.306447  216233.000   \n",
       "total_price      150149.0     206.626751    103.308516      41.325   \n",
       "base_price       150150.0     219.425927    110.961712      61.275   \n",
       "is_featured_sku  150150.0       0.095611      0.294058       0.000   \n",
       "is_display_sku   150150.0       0.133200      0.339792       0.000   \n",
       "units_sold       150150.0      51.674206     60.207904       1.000   \n",
       "\n",
       "                         25%          50%          75%          max  \n",
       "record_ID         53111.2500  106226.5000  159452.7500  212644.0000  \n",
       "store_id           8562.0000    9371.0000    9731.0000    9984.0000  \n",
       "sku_id           217217.0000  222087.0000  245338.0000  679023.0000  \n",
       "total_price         130.3875     198.0750     233.7000     562.1625  \n",
       "base_price          133.2375     205.9125     234.4125     562.1625  \n",
       "is_featured_sku       0.0000       0.0000       0.0000       1.0000  \n",
       "is_display_sku        0.0000       0.0000       0.0000       1.0000  \n",
       "units_sold           20.0000      35.0000      62.0000    2876.0000  "
      ]
     },
     "execution_count": 18,
     "metadata": {},
     "output_type": "execute_result"
    }
   ],
   "source": [
    "train.describe().T"
   ]
  },
  {
   "cell_type": "code",
   "execution_count": 19,
   "metadata": {
    "colab": {
     "base_uri": "https://localhost:8080/",
     "height": 34
    },
    "colab_type": "code",
    "id": "inBIsAnDS6St",
    "outputId": "5d705b51-44b0-4a57-f123-67e9c070f792"
   },
   "outputs": [
    {
     "data": {
      "text/plain": [
       "28"
      ]
     },
     "execution_count": 19,
     "metadata": {},
     "output_type": "execute_result"
    }
   ],
   "source": [
    "len(train['sku_id'].unique())"
   ]
  },
  {
   "cell_type": "code",
   "execution_count": 20,
   "metadata": {
    "colab": {
     "base_uri": "https://localhost:8080/",
     "height": 34
    },
    "colab_type": "code",
    "id": "11sMpk1gS6Sx",
    "outputId": "112639c2-fa98-40b2-c718-343f512c838d"
   },
   "outputs": [
    {
     "data": {
      "text/plain": [
       "76"
      ]
     },
     "execution_count": 20,
     "metadata": {},
     "output_type": "execute_result"
    }
   ],
   "source": [
    "len(train['store_id'].unique())"
   ]
  },
  {
   "cell_type": "code",
   "execution_count": 21,
   "metadata": {
    "colab": {
     "base_uri": "https://localhost:8080/",
     "height": 295
    },
    "colab_type": "code",
    "id": "wSbu1h_gS6S0",
    "outputId": "8201996c-92e4-4704-e8d1-3581761bedde"
   },
   "outputs": [
    {
     "name": "stdout",
     "output_type": "stream",
     "text": [
      "<class 'pandas.core.frame.DataFrame'>\n",
      "RangeIndex: 150150 entries, 0 to 150149\n",
      "Data columns (total 9 columns):\n",
      " #   Column           Non-Null Count   Dtype  \n",
      "---  ------           --------------   -----  \n",
      " 0   record_ID        150150 non-null  int64  \n",
      " 1   week             150150 non-null  object \n",
      " 2   store_id         150150 non-null  int64  \n",
      " 3   sku_id           150150 non-null  int64  \n",
      " 4   total_price      150149 non-null  float64\n",
      " 5   base_price       150150 non-null  float64\n",
      " 6   is_featured_sku  150150 non-null  int64  \n",
      " 7   is_display_sku   150150 non-null  int64  \n",
      " 8   units_sold       150150 non-null  int64  \n",
      "dtypes: float64(2), int64(6), object(1)\n",
      "memory usage: 10.3+ MB\n"
     ]
    }
   ],
   "source": [
    "train.info()"
   ]
  },
  {
   "cell_type": "code",
   "execution_count": 22,
   "metadata": {
    "colab": {
     "base_uri": "https://localhost:8080/",
     "height": 278
    },
    "colab_type": "code",
    "id": "sAU5mrvnS6S4",
    "outputId": "e131ec8b-2653-46a4-b9c4-4a26a7c70059"
   },
   "outputs": [
    {
     "name": "stdout",
     "output_type": "stream",
     "text": [
      "<class 'pandas.core.frame.DataFrame'>\n",
      "RangeIndex: 13860 entries, 0 to 13859\n",
      "Data columns (total 8 columns):\n",
      " #   Column           Non-Null Count  Dtype  \n",
      "---  ------           --------------  -----  \n",
      " 0   record_ID        13860 non-null  int64  \n",
      " 1   week             13860 non-null  object \n",
      " 2   store_id         13860 non-null  int64  \n",
      " 3   sku_id           13860 non-null  int64  \n",
      " 4   total_price      13860 non-null  float64\n",
      " 5   base_price       13860 non-null  float64\n",
      " 6   is_featured_sku  13860 non-null  int64  \n",
      " 7   is_display_sku   13860 non-null  int64  \n",
      "dtypes: float64(2), int64(5), object(1)\n",
      "memory usage: 866.4+ KB\n"
     ]
    }
   ],
   "source": [
    "test.info()"
   ]
  },
  {
   "cell_type": "markdown",
   "metadata": {},
   "source": [
    "## Data Cleaning"
   ]
  },
  {
   "cell_type": "markdown",
   "metadata": {
    "colab": {},
    "colab_type": "code",
    "id": "vNSZssAbS6S7"
   },
   "source": [
    "### Checking for Nulls"
   ]
  },
  {
   "cell_type": "code",
   "execution_count": 24,
   "metadata": {
    "colab": {
     "base_uri": "https://localhost:8080/",
     "height": 191
    },
    "colab_type": "code",
    "id": "xUkNogLWS6S9",
    "outputId": "097e03f3-dcc4-4c9f-9db0-5866cbf08e29"
   },
   "outputs": [
    {
     "data": {
      "text/plain": [
       "record_ID          0\n",
       "week               0\n",
       "store_id           0\n",
       "sku_id             0\n",
       "total_price        1\n",
       "base_price         0\n",
       "is_featured_sku    0\n",
       "is_display_sku     0\n",
       "units_sold         0\n",
       "dtype: int64"
      ]
     },
     "execution_count": 24,
     "metadata": {},
     "output_type": "execute_result"
    }
   ],
   "source": [
    "train.isnull().sum()"
   ]
  },
  {
   "cell_type": "code",
   "execution_count": 25,
   "metadata": {
    "colab": {
     "base_uri": "https://localhost:8080/",
     "height": 173
    },
    "colab_type": "code",
    "id": "OpHwae2mS6TA",
    "outputId": "463a8f04-65de-4d9f-dd23-33c1f6984163"
   },
   "outputs": [
    {
     "data": {
      "text/plain": [
       "record_ID          0\n",
       "week               0\n",
       "store_id           0\n",
       "sku_id             0\n",
       "total_price        0\n",
       "base_price         0\n",
       "is_featured_sku    0\n",
       "is_display_sku     0\n",
       "dtype: int64"
      ]
     },
     "execution_count": 25,
     "metadata": {},
     "output_type": "execute_result"
    }
   ],
   "source": [
    "test.isnull().sum()"
   ]
  },
  {
   "cell_type": "code",
   "execution_count": 26,
   "metadata": {
    "colab": {
     "base_uri": "https://localhost:8080/",
     "height": 81
    },
    "colab_type": "code",
    "id": "3dt2PnR6S6TG",
    "outputId": "d7d0bc96-7fcf-4e47-f10b-91c07ec2135a"
   },
   "outputs": [
    {
     "data": {
      "text/html": [
       "<div>\n",
       "<style scoped>\n",
       "    .dataframe tbody tr th:only-of-type {\n",
       "        vertical-align: middle;\n",
       "    }\n",
       "\n",
       "    .dataframe tbody tr th {\n",
       "        vertical-align: top;\n",
       "    }\n",
       "\n",
       "    .dataframe thead th {\n",
       "        text-align: right;\n",
       "    }\n",
       "</style>\n",
       "<table border=\"1\" class=\"dataframe\">\n",
       "  <thead>\n",
       "    <tr style=\"text-align: right;\">\n",
       "      <th></th>\n",
       "      <th>record_ID</th>\n",
       "      <th>week</th>\n",
       "      <th>store_id</th>\n",
       "      <th>sku_id</th>\n",
       "      <th>total_price</th>\n",
       "      <th>base_price</th>\n",
       "      <th>is_featured_sku</th>\n",
       "      <th>is_display_sku</th>\n",
       "      <th>units_sold</th>\n",
       "    </tr>\n",
       "  </thead>\n",
       "  <tbody>\n",
       "    <tr>\n",
       "      <th>136949</th>\n",
       "      <td>193915</td>\n",
       "      <td>23/04/13</td>\n",
       "      <td>9436</td>\n",
       "      <td>245338</td>\n",
       "      <td>NaN</td>\n",
       "      <td>469.5375</td>\n",
       "      <td>0</td>\n",
       "      <td>0</td>\n",
       "      <td>1</td>\n",
       "    </tr>\n",
       "  </tbody>\n",
       "</table>\n",
       "</div>"
      ],
      "text/plain": [
       "        record_ID      week  store_id  sku_id  total_price  base_price  \\\n",
       "136949     193915  23/04/13      9436  245338          NaN    469.5375   \n",
       "\n",
       "        is_featured_sku  is_display_sku  units_sold  \n",
       "136949                0               0           1  "
      ]
     },
     "execution_count": 26,
     "metadata": {},
     "output_type": "execute_result"
    }
   ],
   "source": [
    "train[train['total_price'].isnull()]"
   ]
  },
  {
   "cell_type": "code",
   "execution_count": null,
   "metadata": {},
   "outputs": [],
   "source": []
  },
  {
   "cell_type": "markdown",
   "metadata": {},
   "source": [
    "### Imputing values for nulls"
   ]
  },
  {
   "cell_type": "markdown",
   "metadata": {
    "colab": {},
    "colab_type": "code",
    "id": "DUzoGqFoS6TK"
   },
   "source": [
    " 'total_price' mean value for null"
   ]
  },
  {
   "cell_type": "code",
   "execution_count": 28,
   "metadata": {
    "colab": {
     "base_uri": "https://localhost:8080/",
     "height": 34
    },
    "colab_type": "code",
    "id": "x4mAb966S6TM",
    "outputId": "a8445585-b961-48f9-8380-8669293c5852"
   },
   "outputs": [
    {
     "data": {
      "text/plain": [
       "422.4959302325582"
      ]
     },
     "execution_count": 28,
     "metadata": {},
     "output_type": "execute_result"
    }
   ],
   "source": [
    "train[(train['store_id'] == 9436) & (train['sku_id']==245338)]['total_price'].mean()"
   ]
  },
  {
   "cell_type": "code",
   "execution_count": 29,
   "metadata": {
    "colab": {},
    "colab_type": "code",
    "id": "zMuRpHmmS6TP"
   },
   "outputs": [],
   "source": [
    "# impute mean value"
   ]
  },
  {
   "cell_type": "code",
   "execution_count": 30,
   "metadata": {
    "colab": {},
    "colab_type": "code",
    "id": "O_qVfbiYS6TT"
   },
   "outputs": [],
   "source": [
    "train.loc[(train['total_price'].isnull()), 'total_price'] = 422.4959302325578"
   ]
  },
  {
   "cell_type": "code",
   "execution_count": 31,
   "metadata": {
    "colab": {},
    "colab_type": "code",
    "id": "6rYW_09cS6TW"
   },
   "outputs": [],
   "source": [
    "# check for nulls again"
   ]
  },
  {
   "cell_type": "code",
   "execution_count": 32,
   "metadata": {
    "colab": {
     "base_uri": "https://localhost:8080/",
     "height": 49
    },
    "colab_type": "code",
    "id": "-0Vxiw99S6TZ",
    "outputId": "0648cf89-4d88-4ed1-aa85-d347b356e299"
   },
   "outputs": [
    {
     "data": {
      "text/html": [
       "<div>\n",
       "<style scoped>\n",
       "    .dataframe tbody tr th:only-of-type {\n",
       "        vertical-align: middle;\n",
       "    }\n",
       "\n",
       "    .dataframe tbody tr th {\n",
       "        vertical-align: top;\n",
       "    }\n",
       "\n",
       "    .dataframe thead th {\n",
       "        text-align: right;\n",
       "    }\n",
       "</style>\n",
       "<table border=\"1\" class=\"dataframe\">\n",
       "  <thead>\n",
       "    <tr style=\"text-align: right;\">\n",
       "      <th></th>\n",
       "      <th>record_ID</th>\n",
       "      <th>week</th>\n",
       "      <th>store_id</th>\n",
       "      <th>sku_id</th>\n",
       "      <th>total_price</th>\n",
       "      <th>base_price</th>\n",
       "      <th>is_featured_sku</th>\n",
       "      <th>is_display_sku</th>\n",
       "      <th>units_sold</th>\n",
       "    </tr>\n",
       "  </thead>\n",
       "  <tbody>\n",
       "  </tbody>\n",
       "</table>\n",
       "</div>"
      ],
      "text/plain": [
       "Empty DataFrame\n",
       "Columns: [record_ID, week, store_id, sku_id, total_price, base_price, is_featured_sku, is_display_sku, units_sold]\n",
       "Index: []"
      ]
     },
     "execution_count": 32,
     "metadata": {},
     "output_type": "execute_result"
    }
   ],
   "source": [
    "train[train['total_price'].isnull()]\n",
    "# all good no nulls"
   ]
  },
  {
   "cell_type": "markdown",
   "metadata": {
    "colab": {},
    "colab_type": "code",
    "id": "SIxEq6qpS6Tc"
   },
   "source": [
    "### convert week to datetime"
   ]
  },
  {
   "cell_type": "markdown",
   "metadata": {},
   "source": [
    "train dataset"
   ]
  },
  {
   "cell_type": "code",
   "execution_count": 34,
   "metadata": {
    "colab": {},
    "colab_type": "code",
    "id": "4hk9XRkDS6Td"
   },
   "outputs": [],
   "source": [
    "train['week'] = pd.to_datetime(train['week'])"
   ]
  },
  {
   "cell_type": "code",
   "execution_count": 35,
   "metadata": {
    "colab": {
     "base_uri": "https://localhost:8080/",
     "height": 34
    },
    "colab_type": "code",
    "id": "7TLSSX8mS6Tg",
    "outputId": "29dcd19f-a2e8-42e8-8804-15273402b2d9"
   },
   "outputs": [
    {
     "data": {
      "text/plain": [
       "dtype('<M8[ns]')"
      ]
     },
     "execution_count": 35,
     "metadata": {},
     "output_type": "execute_result"
    }
   ],
   "source": [
    "train['week'].dtype"
   ]
  },
  {
   "cell_type": "markdown",
   "metadata": {
    "colab": {},
    "colab_type": "code",
    "id": "e7-RyMdbS6Tj"
   },
   "source": [
    "test dataset"
   ]
  },
  {
   "cell_type": "code",
   "execution_count": 37,
   "metadata": {
    "colab": {},
    "colab_type": "code",
    "id": "a-hSNBrES6Tl"
   },
   "outputs": [],
   "source": [
    "test['week'] = pd.to_datetime(test['week'])"
   ]
  },
  {
   "cell_type": "code",
   "execution_count": 38,
   "metadata": {
    "colab": {
     "base_uri": "https://localhost:8080/",
     "height": 34
    },
    "colab_type": "code",
    "id": "nJJTBzoXS6To",
    "outputId": "e8b9edef-ad42-415e-de35-f99b0b2b5cc1"
   },
   "outputs": [
    {
     "data": {
      "text/plain": [
       "dtype('<M8[ns]')"
      ]
     },
     "execution_count": 38,
     "metadata": {},
     "output_type": "execute_result"
    }
   ],
   "source": [
    "test['week'].dtype"
   ]
  },
  {
   "cell_type": "markdown",
   "metadata": {},
   "source": [
    "### separate 'day of year' and 'year' from datetime"
   ]
  },
  {
   "cell_type": "code",
   "execution_count": 39,
   "metadata": {
    "colab": {},
    "colab_type": "code",
    "id": "15z0ZTiDS6Tr"
   },
   "outputs": [],
   "source": [
    "train['day_of_year'] = train['week'].dt.dayofyear"
   ]
  },
  {
   "cell_type": "code",
   "execution_count": 40,
   "metadata": {
    "colab": {},
    "colab_type": "code",
    "id": "sL-wjUgsfczo"
   },
   "outputs": [],
   "source": [
    "test['day_of_year'] = test['week'].dt.dayofyear"
   ]
  },
  {
   "cell_type": "code",
   "execution_count": 41,
   "metadata": {
    "colab": {
     "base_uri": "https://localhost:8080/",
     "height": 206
    },
    "colab_type": "code",
    "id": "RU8MrtNffgUO",
    "outputId": "99735628-8bbe-4056-c8b7-eb568f497881"
   },
   "outputs": [
    {
     "data": {
      "text/html": [
       "<div>\n",
       "<style scoped>\n",
       "    .dataframe tbody tr th:only-of-type {\n",
       "        vertical-align: middle;\n",
       "    }\n",
       "\n",
       "    .dataframe tbody tr th {\n",
       "        vertical-align: top;\n",
       "    }\n",
       "\n",
       "    .dataframe thead th {\n",
       "        text-align: right;\n",
       "    }\n",
       "</style>\n",
       "<table border=\"1\" class=\"dataframe\">\n",
       "  <thead>\n",
       "    <tr style=\"text-align: right;\">\n",
       "      <th></th>\n",
       "      <th>record_ID</th>\n",
       "      <th>week</th>\n",
       "      <th>store_id</th>\n",
       "      <th>sku_id</th>\n",
       "      <th>total_price</th>\n",
       "      <th>base_price</th>\n",
       "      <th>is_featured_sku</th>\n",
       "      <th>is_display_sku</th>\n",
       "      <th>day_of_year</th>\n",
       "    </tr>\n",
       "  </thead>\n",
       "  <tbody>\n",
       "    <tr>\n",
       "      <th>0</th>\n",
       "      <td>212645</td>\n",
       "      <td>2013-07-16</td>\n",
       "      <td>8091</td>\n",
       "      <td>216418</td>\n",
       "      <td>108.3000</td>\n",
       "      <td>108.3000</td>\n",
       "      <td>0</td>\n",
       "      <td>0</td>\n",
       "      <td>197</td>\n",
       "    </tr>\n",
       "    <tr>\n",
       "      <th>1</th>\n",
       "      <td>212646</td>\n",
       "      <td>2013-07-16</td>\n",
       "      <td>8091</td>\n",
       "      <td>216419</td>\n",
       "      <td>109.0125</td>\n",
       "      <td>109.0125</td>\n",
       "      <td>0</td>\n",
       "      <td>0</td>\n",
       "      <td>197</td>\n",
       "    </tr>\n",
       "    <tr>\n",
       "      <th>2</th>\n",
       "      <td>212647</td>\n",
       "      <td>2013-07-16</td>\n",
       "      <td>8091</td>\n",
       "      <td>216425</td>\n",
       "      <td>133.9500</td>\n",
       "      <td>133.9500</td>\n",
       "      <td>0</td>\n",
       "      <td>0</td>\n",
       "      <td>197</td>\n",
       "    </tr>\n",
       "    <tr>\n",
       "      <th>3</th>\n",
       "      <td>212648</td>\n",
       "      <td>2013-07-16</td>\n",
       "      <td>8091</td>\n",
       "      <td>216233</td>\n",
       "      <td>133.9500</td>\n",
       "      <td>133.9500</td>\n",
       "      <td>0</td>\n",
       "      <td>0</td>\n",
       "      <td>197</td>\n",
       "    </tr>\n",
       "    <tr>\n",
       "      <th>4</th>\n",
       "      <td>212649</td>\n",
       "      <td>2013-07-16</td>\n",
       "      <td>8091</td>\n",
       "      <td>217390</td>\n",
       "      <td>176.7000</td>\n",
       "      <td>176.7000</td>\n",
       "      <td>0</td>\n",
       "      <td>0</td>\n",
       "      <td>197</td>\n",
       "    </tr>\n",
       "  </tbody>\n",
       "</table>\n",
       "</div>"
      ],
      "text/plain": [
       "   record_ID       week  store_id  sku_id  total_price  base_price  \\\n",
       "0     212645 2013-07-16      8091  216418     108.3000    108.3000   \n",
       "1     212646 2013-07-16      8091  216419     109.0125    109.0125   \n",
       "2     212647 2013-07-16      8091  216425     133.9500    133.9500   \n",
       "3     212648 2013-07-16      8091  216233     133.9500    133.9500   \n",
       "4     212649 2013-07-16      8091  217390     176.7000    176.7000   \n",
       "\n",
       "   is_featured_sku  is_display_sku  day_of_year  \n",
       "0                0               0          197  \n",
       "1                0               0          197  \n",
       "2                0               0          197  \n",
       "3                0               0          197  \n",
       "4                0               0          197  "
      ]
     },
     "execution_count": 41,
     "metadata": {},
     "output_type": "execute_result"
    }
   ],
   "source": [
    "test.head()"
   ]
  },
  {
   "cell_type": "code",
   "execution_count": 42,
   "metadata": {
    "colab": {
     "base_uri": "https://localhost:8080/",
     "height": 206
    },
    "colab_type": "code",
    "id": "5SsrbD2lS6Tu",
    "outputId": "180bf1c2-a3b0-44d8-97ac-513ed6f315b8"
   },
   "outputs": [
    {
     "data": {
      "text/html": [
       "<div>\n",
       "<style scoped>\n",
       "    .dataframe tbody tr th:only-of-type {\n",
       "        vertical-align: middle;\n",
       "    }\n",
       "\n",
       "    .dataframe tbody tr th {\n",
       "        vertical-align: top;\n",
       "    }\n",
       "\n",
       "    .dataframe thead th {\n",
       "        text-align: right;\n",
       "    }\n",
       "</style>\n",
       "<table border=\"1\" class=\"dataframe\">\n",
       "  <thead>\n",
       "    <tr style=\"text-align: right;\">\n",
       "      <th></th>\n",
       "      <th>record_ID</th>\n",
       "      <th>week</th>\n",
       "      <th>store_id</th>\n",
       "      <th>sku_id</th>\n",
       "      <th>total_price</th>\n",
       "      <th>base_price</th>\n",
       "      <th>is_featured_sku</th>\n",
       "      <th>is_display_sku</th>\n",
       "      <th>units_sold</th>\n",
       "      <th>day_of_year</th>\n",
       "    </tr>\n",
       "  </thead>\n",
       "  <tbody>\n",
       "    <tr>\n",
       "      <th>0</th>\n",
       "      <td>1</td>\n",
       "      <td>2011-01-17</td>\n",
       "      <td>8091</td>\n",
       "      <td>216418</td>\n",
       "      <td>99.0375</td>\n",
       "      <td>111.8625</td>\n",
       "      <td>0</td>\n",
       "      <td>0</td>\n",
       "      <td>20</td>\n",
       "      <td>17</td>\n",
       "    </tr>\n",
       "    <tr>\n",
       "      <th>1</th>\n",
       "      <td>2</td>\n",
       "      <td>2011-01-17</td>\n",
       "      <td>8091</td>\n",
       "      <td>216419</td>\n",
       "      <td>99.0375</td>\n",
       "      <td>99.0375</td>\n",
       "      <td>0</td>\n",
       "      <td>0</td>\n",
       "      <td>28</td>\n",
       "      <td>17</td>\n",
       "    </tr>\n",
       "    <tr>\n",
       "      <th>2</th>\n",
       "      <td>3</td>\n",
       "      <td>2011-01-17</td>\n",
       "      <td>8091</td>\n",
       "      <td>216425</td>\n",
       "      <td>133.9500</td>\n",
       "      <td>133.9500</td>\n",
       "      <td>0</td>\n",
       "      <td>0</td>\n",
       "      <td>19</td>\n",
       "      <td>17</td>\n",
       "    </tr>\n",
       "    <tr>\n",
       "      <th>3</th>\n",
       "      <td>4</td>\n",
       "      <td>2011-01-17</td>\n",
       "      <td>8091</td>\n",
       "      <td>216233</td>\n",
       "      <td>133.9500</td>\n",
       "      <td>133.9500</td>\n",
       "      <td>0</td>\n",
       "      <td>0</td>\n",
       "      <td>44</td>\n",
       "      <td>17</td>\n",
       "    </tr>\n",
       "    <tr>\n",
       "      <th>4</th>\n",
       "      <td>5</td>\n",
       "      <td>2011-01-17</td>\n",
       "      <td>8091</td>\n",
       "      <td>217390</td>\n",
       "      <td>141.0750</td>\n",
       "      <td>141.0750</td>\n",
       "      <td>0</td>\n",
       "      <td>0</td>\n",
       "      <td>52</td>\n",
       "      <td>17</td>\n",
       "    </tr>\n",
       "  </tbody>\n",
       "</table>\n",
       "</div>"
      ],
      "text/plain": [
       "   record_ID       week  store_id  sku_id  total_price  base_price  \\\n",
       "0          1 2011-01-17      8091  216418      99.0375    111.8625   \n",
       "1          2 2011-01-17      8091  216419      99.0375     99.0375   \n",
       "2          3 2011-01-17      8091  216425     133.9500    133.9500   \n",
       "3          4 2011-01-17      8091  216233     133.9500    133.9500   \n",
       "4          5 2011-01-17      8091  217390     141.0750    141.0750   \n",
       "\n",
       "   is_featured_sku  is_display_sku  units_sold  day_of_year  \n",
       "0                0               0          20           17  \n",
       "1                0               0          28           17  \n",
       "2                0               0          19           17  \n",
       "3                0               0          44           17  \n",
       "4                0               0          52           17  "
      ]
     },
     "execution_count": 42,
     "metadata": {},
     "output_type": "execute_result"
    }
   ],
   "source": [
    "train.head()"
   ]
  },
  {
   "cell_type": "code",
   "execution_count": 43,
   "metadata": {
    "colab": {
     "base_uri": "https://localhost:8080/",
     "height": 206
    },
    "colab_type": "code",
    "id": "q4-FIZ5QS6Tx",
    "outputId": "caf4d638-741f-480a-ffc5-25501dc3c688"
   },
   "outputs": [
    {
     "data": {
      "text/html": [
       "<div>\n",
       "<style scoped>\n",
       "    .dataframe tbody tr th:only-of-type {\n",
       "        vertical-align: middle;\n",
       "    }\n",
       "\n",
       "    .dataframe tbody tr th {\n",
       "        vertical-align: top;\n",
       "    }\n",
       "\n",
       "    .dataframe thead th {\n",
       "        text-align: right;\n",
       "    }\n",
       "</style>\n",
       "<table border=\"1\" class=\"dataframe\">\n",
       "  <thead>\n",
       "    <tr style=\"text-align: right;\">\n",
       "      <th></th>\n",
       "      <th>record_ID</th>\n",
       "      <th>week</th>\n",
       "      <th>store_id</th>\n",
       "      <th>sku_id</th>\n",
       "      <th>total_price</th>\n",
       "      <th>base_price</th>\n",
       "      <th>is_featured_sku</th>\n",
       "      <th>is_display_sku</th>\n",
       "      <th>units_sold</th>\n",
       "      <th>day_of_year</th>\n",
       "    </tr>\n",
       "  </thead>\n",
       "  <tbody>\n",
       "    <tr>\n",
       "      <th>150145</th>\n",
       "      <td>212638</td>\n",
       "      <td>2013-09-07</td>\n",
       "      <td>9984</td>\n",
       "      <td>223245</td>\n",
       "      <td>235.8375</td>\n",
       "      <td>235.8375</td>\n",
       "      <td>0</td>\n",
       "      <td>0</td>\n",
       "      <td>38</td>\n",
       "      <td>250</td>\n",
       "    </tr>\n",
       "    <tr>\n",
       "      <th>150146</th>\n",
       "      <td>212639</td>\n",
       "      <td>2013-09-07</td>\n",
       "      <td>9984</td>\n",
       "      <td>223153</td>\n",
       "      <td>235.8375</td>\n",
       "      <td>235.8375</td>\n",
       "      <td>0</td>\n",
       "      <td>0</td>\n",
       "      <td>30</td>\n",
       "      <td>250</td>\n",
       "    </tr>\n",
       "    <tr>\n",
       "      <th>150147</th>\n",
       "      <td>212642</td>\n",
       "      <td>2013-09-07</td>\n",
       "      <td>9984</td>\n",
       "      <td>245338</td>\n",
       "      <td>357.6750</td>\n",
       "      <td>483.7875</td>\n",
       "      <td>1</td>\n",
       "      <td>1</td>\n",
       "      <td>31</td>\n",
       "      <td>250</td>\n",
       "    </tr>\n",
       "    <tr>\n",
       "      <th>150148</th>\n",
       "      <td>212643</td>\n",
       "      <td>2013-09-07</td>\n",
       "      <td>9984</td>\n",
       "      <td>547934</td>\n",
       "      <td>141.7875</td>\n",
       "      <td>191.6625</td>\n",
       "      <td>0</td>\n",
       "      <td>1</td>\n",
       "      <td>12</td>\n",
       "      <td>250</td>\n",
       "    </tr>\n",
       "    <tr>\n",
       "      <th>150149</th>\n",
       "      <td>212644</td>\n",
       "      <td>2013-09-07</td>\n",
       "      <td>9984</td>\n",
       "      <td>679023</td>\n",
       "      <td>234.4125</td>\n",
       "      <td>234.4125</td>\n",
       "      <td>0</td>\n",
       "      <td>0</td>\n",
       "      <td>15</td>\n",
       "      <td>250</td>\n",
       "    </tr>\n",
       "  </tbody>\n",
       "</table>\n",
       "</div>"
      ],
      "text/plain": [
       "        record_ID       week  store_id  sku_id  total_price  base_price  \\\n",
       "150145     212638 2013-09-07      9984  223245     235.8375    235.8375   \n",
       "150146     212639 2013-09-07      9984  223153     235.8375    235.8375   \n",
       "150147     212642 2013-09-07      9984  245338     357.6750    483.7875   \n",
       "150148     212643 2013-09-07      9984  547934     141.7875    191.6625   \n",
       "150149     212644 2013-09-07      9984  679023     234.4125    234.4125   \n",
       "\n",
       "        is_featured_sku  is_display_sku  units_sold  day_of_year  \n",
       "150145                0               0          38          250  \n",
       "150146                0               0          30          250  \n",
       "150147                1               1          31          250  \n",
       "150148                0               1          12          250  \n",
       "150149                0               0          15          250  "
      ]
     },
     "execution_count": 43,
     "metadata": {},
     "output_type": "execute_result"
    }
   ],
   "source": [
    "train.tail()"
   ]
  },
  {
   "cell_type": "code",
   "execution_count": 44,
   "metadata": {
    "colab": {},
    "colab_type": "code",
    "id": "N6fBCx5ZS6Tz"
   },
   "outputs": [],
   "source": [
    "train['year'] = pd.DatetimeIndex(train['week']).year"
   ]
  },
  {
   "cell_type": "code",
   "execution_count": 45,
   "metadata": {
    "colab": {},
    "colab_type": "code",
    "id": "P7OfZZrgflNZ"
   },
   "outputs": [],
   "source": [
    "test['year'] = pd.DatetimeIndex(test['week']).year"
   ]
  },
  {
   "cell_type": "code",
   "execution_count": 46,
   "metadata": {
    "colab": {
     "base_uri": "https://localhost:8080/",
     "height": 206
    },
    "colab_type": "code",
    "id": "NT0K9E82fonL",
    "outputId": "c318b9c8-10d0-4149-9396-8aac5402488c"
   },
   "outputs": [
    {
     "data": {
      "text/html": [
       "<div>\n",
       "<style scoped>\n",
       "    .dataframe tbody tr th:only-of-type {\n",
       "        vertical-align: middle;\n",
       "    }\n",
       "\n",
       "    .dataframe tbody tr th {\n",
       "        vertical-align: top;\n",
       "    }\n",
       "\n",
       "    .dataframe thead th {\n",
       "        text-align: right;\n",
       "    }\n",
       "</style>\n",
       "<table border=\"1\" class=\"dataframe\">\n",
       "  <thead>\n",
       "    <tr style=\"text-align: right;\">\n",
       "      <th></th>\n",
       "      <th>record_ID</th>\n",
       "      <th>week</th>\n",
       "      <th>store_id</th>\n",
       "      <th>sku_id</th>\n",
       "      <th>total_price</th>\n",
       "      <th>base_price</th>\n",
       "      <th>is_featured_sku</th>\n",
       "      <th>is_display_sku</th>\n",
       "      <th>day_of_year</th>\n",
       "      <th>year</th>\n",
       "    </tr>\n",
       "  </thead>\n",
       "  <tbody>\n",
       "    <tr>\n",
       "      <th>0</th>\n",
       "      <td>212645</td>\n",
       "      <td>2013-07-16</td>\n",
       "      <td>8091</td>\n",
       "      <td>216418</td>\n",
       "      <td>108.3000</td>\n",
       "      <td>108.3000</td>\n",
       "      <td>0</td>\n",
       "      <td>0</td>\n",
       "      <td>197</td>\n",
       "      <td>2013</td>\n",
       "    </tr>\n",
       "    <tr>\n",
       "      <th>1</th>\n",
       "      <td>212646</td>\n",
       "      <td>2013-07-16</td>\n",
       "      <td>8091</td>\n",
       "      <td>216419</td>\n",
       "      <td>109.0125</td>\n",
       "      <td>109.0125</td>\n",
       "      <td>0</td>\n",
       "      <td>0</td>\n",
       "      <td>197</td>\n",
       "      <td>2013</td>\n",
       "    </tr>\n",
       "    <tr>\n",
       "      <th>2</th>\n",
       "      <td>212647</td>\n",
       "      <td>2013-07-16</td>\n",
       "      <td>8091</td>\n",
       "      <td>216425</td>\n",
       "      <td>133.9500</td>\n",
       "      <td>133.9500</td>\n",
       "      <td>0</td>\n",
       "      <td>0</td>\n",
       "      <td>197</td>\n",
       "      <td>2013</td>\n",
       "    </tr>\n",
       "    <tr>\n",
       "      <th>3</th>\n",
       "      <td>212648</td>\n",
       "      <td>2013-07-16</td>\n",
       "      <td>8091</td>\n",
       "      <td>216233</td>\n",
       "      <td>133.9500</td>\n",
       "      <td>133.9500</td>\n",
       "      <td>0</td>\n",
       "      <td>0</td>\n",
       "      <td>197</td>\n",
       "      <td>2013</td>\n",
       "    </tr>\n",
       "    <tr>\n",
       "      <th>4</th>\n",
       "      <td>212649</td>\n",
       "      <td>2013-07-16</td>\n",
       "      <td>8091</td>\n",
       "      <td>217390</td>\n",
       "      <td>176.7000</td>\n",
       "      <td>176.7000</td>\n",
       "      <td>0</td>\n",
       "      <td>0</td>\n",
       "      <td>197</td>\n",
       "      <td>2013</td>\n",
       "    </tr>\n",
       "  </tbody>\n",
       "</table>\n",
       "</div>"
      ],
      "text/plain": [
       "   record_ID       week  store_id  sku_id  total_price  base_price  \\\n",
       "0     212645 2013-07-16      8091  216418     108.3000    108.3000   \n",
       "1     212646 2013-07-16      8091  216419     109.0125    109.0125   \n",
       "2     212647 2013-07-16      8091  216425     133.9500    133.9500   \n",
       "3     212648 2013-07-16      8091  216233     133.9500    133.9500   \n",
       "4     212649 2013-07-16      8091  217390     176.7000    176.7000   \n",
       "\n",
       "   is_featured_sku  is_display_sku  day_of_year  year  \n",
       "0                0               0          197  2013  \n",
       "1                0               0          197  2013  \n",
       "2                0               0          197  2013  \n",
       "3                0               0          197  2013  \n",
       "4                0               0          197  2013  "
      ]
     },
     "execution_count": 46,
     "metadata": {},
     "output_type": "execute_result"
    }
   ],
   "source": [
    "test.head()"
   ]
  },
  {
   "cell_type": "code",
   "execution_count": 47,
   "metadata": {
    "colab": {
     "base_uri": "https://localhost:8080/",
     "height": 206
    },
    "colab_type": "code",
    "id": "ihRGCk0IS6T1",
    "outputId": "fb052f1a-59ab-437c-9e0d-1d689517cd9c"
   },
   "outputs": [
    {
     "data": {
      "text/html": [
       "<div>\n",
       "<style scoped>\n",
       "    .dataframe tbody tr th:only-of-type {\n",
       "        vertical-align: middle;\n",
       "    }\n",
       "\n",
       "    .dataframe tbody tr th {\n",
       "        vertical-align: top;\n",
       "    }\n",
       "\n",
       "    .dataframe thead th {\n",
       "        text-align: right;\n",
       "    }\n",
       "</style>\n",
       "<table border=\"1\" class=\"dataframe\">\n",
       "  <thead>\n",
       "    <tr style=\"text-align: right;\">\n",
       "      <th></th>\n",
       "      <th>record_ID</th>\n",
       "      <th>week</th>\n",
       "      <th>store_id</th>\n",
       "      <th>sku_id</th>\n",
       "      <th>total_price</th>\n",
       "      <th>base_price</th>\n",
       "      <th>is_featured_sku</th>\n",
       "      <th>is_display_sku</th>\n",
       "      <th>units_sold</th>\n",
       "      <th>day_of_year</th>\n",
       "      <th>year</th>\n",
       "    </tr>\n",
       "  </thead>\n",
       "  <tbody>\n",
       "    <tr>\n",
       "      <th>0</th>\n",
       "      <td>1</td>\n",
       "      <td>2011-01-17</td>\n",
       "      <td>8091</td>\n",
       "      <td>216418</td>\n",
       "      <td>99.0375</td>\n",
       "      <td>111.8625</td>\n",
       "      <td>0</td>\n",
       "      <td>0</td>\n",
       "      <td>20</td>\n",
       "      <td>17</td>\n",
       "      <td>2011</td>\n",
       "    </tr>\n",
       "    <tr>\n",
       "      <th>1</th>\n",
       "      <td>2</td>\n",
       "      <td>2011-01-17</td>\n",
       "      <td>8091</td>\n",
       "      <td>216419</td>\n",
       "      <td>99.0375</td>\n",
       "      <td>99.0375</td>\n",
       "      <td>0</td>\n",
       "      <td>0</td>\n",
       "      <td>28</td>\n",
       "      <td>17</td>\n",
       "      <td>2011</td>\n",
       "    </tr>\n",
       "    <tr>\n",
       "      <th>2</th>\n",
       "      <td>3</td>\n",
       "      <td>2011-01-17</td>\n",
       "      <td>8091</td>\n",
       "      <td>216425</td>\n",
       "      <td>133.9500</td>\n",
       "      <td>133.9500</td>\n",
       "      <td>0</td>\n",
       "      <td>0</td>\n",
       "      <td>19</td>\n",
       "      <td>17</td>\n",
       "      <td>2011</td>\n",
       "    </tr>\n",
       "    <tr>\n",
       "      <th>3</th>\n",
       "      <td>4</td>\n",
       "      <td>2011-01-17</td>\n",
       "      <td>8091</td>\n",
       "      <td>216233</td>\n",
       "      <td>133.9500</td>\n",
       "      <td>133.9500</td>\n",
       "      <td>0</td>\n",
       "      <td>0</td>\n",
       "      <td>44</td>\n",
       "      <td>17</td>\n",
       "      <td>2011</td>\n",
       "    </tr>\n",
       "    <tr>\n",
       "      <th>4</th>\n",
       "      <td>5</td>\n",
       "      <td>2011-01-17</td>\n",
       "      <td>8091</td>\n",
       "      <td>217390</td>\n",
       "      <td>141.0750</td>\n",
       "      <td>141.0750</td>\n",
       "      <td>0</td>\n",
       "      <td>0</td>\n",
       "      <td>52</td>\n",
       "      <td>17</td>\n",
       "      <td>2011</td>\n",
       "    </tr>\n",
       "  </tbody>\n",
       "</table>\n",
       "</div>"
      ],
      "text/plain": [
       "   record_ID       week  store_id  sku_id  total_price  base_price  \\\n",
       "0          1 2011-01-17      8091  216418      99.0375    111.8625   \n",
       "1          2 2011-01-17      8091  216419      99.0375     99.0375   \n",
       "2          3 2011-01-17      8091  216425     133.9500    133.9500   \n",
       "3          4 2011-01-17      8091  216233     133.9500    133.9500   \n",
       "4          5 2011-01-17      8091  217390     141.0750    141.0750   \n",
       "\n",
       "   is_featured_sku  is_display_sku  units_sold  day_of_year  year  \n",
       "0                0               0          20           17  2011  \n",
       "1                0               0          28           17  2011  \n",
       "2                0               0          19           17  2011  \n",
       "3                0               0          44           17  2011  \n",
       "4                0               0          52           17  2011  "
      ]
     },
     "execution_count": 47,
     "metadata": {},
     "output_type": "execute_result"
    }
   ],
   "source": [
    "train.head()"
   ]
  },
  {
   "cell_type": "code",
   "execution_count": 48,
   "metadata": {
    "colab": {
     "base_uri": "https://localhost:8080/",
     "height": 206
    },
    "colab_type": "code",
    "id": "U3Q6fHKXS6T4",
    "outputId": "924cc437-e69a-4c1a-c11c-9259745b7a19"
   },
   "outputs": [
    {
     "data": {
      "text/html": [
       "<div>\n",
       "<style scoped>\n",
       "    .dataframe tbody tr th:only-of-type {\n",
       "        vertical-align: middle;\n",
       "    }\n",
       "\n",
       "    .dataframe tbody tr th {\n",
       "        vertical-align: top;\n",
       "    }\n",
       "\n",
       "    .dataframe thead th {\n",
       "        text-align: right;\n",
       "    }\n",
       "</style>\n",
       "<table border=\"1\" class=\"dataframe\">\n",
       "  <thead>\n",
       "    <tr style=\"text-align: right;\">\n",
       "      <th></th>\n",
       "      <th>record_ID</th>\n",
       "      <th>week</th>\n",
       "      <th>store_id</th>\n",
       "      <th>sku_id</th>\n",
       "      <th>total_price</th>\n",
       "      <th>base_price</th>\n",
       "      <th>is_featured_sku</th>\n",
       "      <th>is_display_sku</th>\n",
       "      <th>units_sold</th>\n",
       "      <th>day_of_year</th>\n",
       "      <th>year</th>\n",
       "    </tr>\n",
       "  </thead>\n",
       "  <tbody>\n",
       "    <tr>\n",
       "      <th>150145</th>\n",
       "      <td>212638</td>\n",
       "      <td>2013-09-07</td>\n",
       "      <td>9984</td>\n",
       "      <td>223245</td>\n",
       "      <td>235.8375</td>\n",
       "      <td>235.8375</td>\n",
       "      <td>0</td>\n",
       "      <td>0</td>\n",
       "      <td>38</td>\n",
       "      <td>250</td>\n",
       "      <td>2013</td>\n",
       "    </tr>\n",
       "    <tr>\n",
       "      <th>150146</th>\n",
       "      <td>212639</td>\n",
       "      <td>2013-09-07</td>\n",
       "      <td>9984</td>\n",
       "      <td>223153</td>\n",
       "      <td>235.8375</td>\n",
       "      <td>235.8375</td>\n",
       "      <td>0</td>\n",
       "      <td>0</td>\n",
       "      <td>30</td>\n",
       "      <td>250</td>\n",
       "      <td>2013</td>\n",
       "    </tr>\n",
       "    <tr>\n",
       "      <th>150147</th>\n",
       "      <td>212642</td>\n",
       "      <td>2013-09-07</td>\n",
       "      <td>9984</td>\n",
       "      <td>245338</td>\n",
       "      <td>357.6750</td>\n",
       "      <td>483.7875</td>\n",
       "      <td>1</td>\n",
       "      <td>1</td>\n",
       "      <td>31</td>\n",
       "      <td>250</td>\n",
       "      <td>2013</td>\n",
       "    </tr>\n",
       "    <tr>\n",
       "      <th>150148</th>\n",
       "      <td>212643</td>\n",
       "      <td>2013-09-07</td>\n",
       "      <td>9984</td>\n",
       "      <td>547934</td>\n",
       "      <td>141.7875</td>\n",
       "      <td>191.6625</td>\n",
       "      <td>0</td>\n",
       "      <td>1</td>\n",
       "      <td>12</td>\n",
       "      <td>250</td>\n",
       "      <td>2013</td>\n",
       "    </tr>\n",
       "    <tr>\n",
       "      <th>150149</th>\n",
       "      <td>212644</td>\n",
       "      <td>2013-09-07</td>\n",
       "      <td>9984</td>\n",
       "      <td>679023</td>\n",
       "      <td>234.4125</td>\n",
       "      <td>234.4125</td>\n",
       "      <td>0</td>\n",
       "      <td>0</td>\n",
       "      <td>15</td>\n",
       "      <td>250</td>\n",
       "      <td>2013</td>\n",
       "    </tr>\n",
       "  </tbody>\n",
       "</table>\n",
       "</div>"
      ],
      "text/plain": [
       "        record_ID       week  store_id  sku_id  total_price  base_price  \\\n",
       "150145     212638 2013-09-07      9984  223245     235.8375    235.8375   \n",
       "150146     212639 2013-09-07      9984  223153     235.8375    235.8375   \n",
       "150147     212642 2013-09-07      9984  245338     357.6750    483.7875   \n",
       "150148     212643 2013-09-07      9984  547934     141.7875    191.6625   \n",
       "150149     212644 2013-09-07      9984  679023     234.4125    234.4125   \n",
       "\n",
       "        is_featured_sku  is_display_sku  units_sold  day_of_year  year  \n",
       "150145                0               0          38          250  2013  \n",
       "150146                0               0          30          250  2013  \n",
       "150147                1               1          31          250  2013  \n",
       "150148                0               1          12          250  2013  \n",
       "150149                0               0          15          250  2013  "
      ]
     },
     "execution_count": 48,
     "metadata": {},
     "output_type": "execute_result"
    }
   ],
   "source": [
    "train.tail()"
   ]
  },
  {
   "cell_type": "markdown",
   "metadata": {
    "colab": {},
    "colab_type": "code",
    "id": "0WTacAimS6T6"
   },
   "source": [
    "### convert 'store_id' and 'sku_id' to str"
   ]
  },
  {
   "cell_type": "code",
   "execution_count": 50,
   "metadata": {
    "colab": {},
    "colab_type": "code",
    "id": "gRjvmFiHS6T8"
   },
   "outputs": [],
   "source": [
    "train['store_id'] = train['store_id'].astype(int).astype(str)"
   ]
  },
  {
   "cell_type": "code",
   "execution_count": 51,
   "metadata": {
    "colab": {},
    "colab_type": "code",
    "id": "yU2cDrnsS6T-"
   },
   "outputs": [],
   "source": [
    "train['sku_id'] = train['sku_id'].astype(int).astype(str)"
   ]
  },
  {
   "cell_type": "code",
   "execution_count": 52,
   "metadata": {
    "colab": {
     "base_uri": "https://localhost:8080/",
     "height": 330
    },
    "colab_type": "code",
    "id": "o_7-4o_oS6UA",
    "outputId": "da38300e-eb77-44c4-8ec4-5880a97496a1"
   },
   "outputs": [
    {
     "name": "stdout",
     "output_type": "stream",
     "text": [
      "<class 'pandas.core.frame.DataFrame'>\n",
      "RangeIndex: 150150 entries, 0 to 150149\n",
      "Data columns (total 11 columns):\n",
      " #   Column           Non-Null Count   Dtype         \n",
      "---  ------           --------------   -----         \n",
      " 0   record_ID        150150 non-null  int64         \n",
      " 1   week             150150 non-null  datetime64[ns]\n",
      " 2   store_id         150150 non-null  object        \n",
      " 3   sku_id           150150 non-null  object        \n",
      " 4   total_price      150150 non-null  float64       \n",
      " 5   base_price       150150 non-null  float64       \n",
      " 6   is_featured_sku  150150 non-null  int64         \n",
      " 7   is_display_sku   150150 non-null  int64         \n",
      " 8   units_sold       150150 non-null  int64         \n",
      " 9   day_of_year      150150 non-null  int64         \n",
      " 10  year             150150 non-null  int64         \n",
      "dtypes: datetime64[ns](1), float64(2), int64(6), object(2)\n",
      "memory usage: 12.6+ MB\n"
     ]
    }
   ],
   "source": [
    "train.info()"
   ]
  },
  {
   "cell_type": "code",
   "execution_count": 53,
   "metadata": {
    "colab": {
     "base_uri": "https://localhost:8080/",
     "height": 312
    },
    "colab_type": "code",
    "id": "rnhItfv3fslw",
    "outputId": "7d2d631b-70c1-473e-b5d7-8e0f0db68f4b"
   },
   "outputs": [
    {
     "name": "stdout",
     "output_type": "stream",
     "text": [
      "<class 'pandas.core.frame.DataFrame'>\n",
      "RangeIndex: 13860 entries, 0 to 13859\n",
      "Data columns (total 10 columns):\n",
      " #   Column           Non-Null Count  Dtype         \n",
      "---  ------           --------------  -----         \n",
      " 0   record_ID        13860 non-null  int64         \n",
      " 1   week             13860 non-null  datetime64[ns]\n",
      " 2   store_id         13860 non-null  int64         \n",
      " 3   sku_id           13860 non-null  int64         \n",
      " 4   total_price      13860 non-null  float64       \n",
      " 5   base_price       13860 non-null  float64       \n",
      " 6   is_featured_sku  13860 non-null  int64         \n",
      " 7   is_display_sku   13860 non-null  int64         \n",
      " 8   day_of_year      13860 non-null  int64         \n",
      " 9   year             13860 non-null  int64         \n",
      "dtypes: datetime64[ns](1), float64(2), int64(7)\n",
      "memory usage: 1.1 MB\n"
     ]
    }
   ],
   "source": [
    "test.info()"
   ]
  },
  {
   "cell_type": "markdown",
   "metadata": {
    "colab": {},
    "colab_type": "code",
    "id": "yCpYJ5F9S6UD"
   },
   "source": [
    "### combine sku and store into a new col"
   ]
  },
  {
   "cell_type": "code",
   "execution_count": 55,
   "metadata": {
    "colab": {},
    "colab_type": "code",
    "id": "XZJxOdGsS6UG"
   },
   "outputs": [],
   "source": [
    "train['store_sku'] = train[['store_id', 'sku_id']].agg('-'.join, axis=1)"
   ]
  },
  {
   "cell_type": "code",
   "execution_count": 56,
   "metadata": {
    "colab": {
     "base_uri": "https://localhost:8080/",
     "height": 206
    },
    "colab_type": "code",
    "id": "Vf1kTG7eS6UI",
    "outputId": "07ccad4b-9cbc-404a-84c0-db97ca792714"
   },
   "outputs": [
    {
     "data": {
      "text/html": [
       "<div>\n",
       "<style scoped>\n",
       "    .dataframe tbody tr th:only-of-type {\n",
       "        vertical-align: middle;\n",
       "    }\n",
       "\n",
       "    .dataframe tbody tr th {\n",
       "        vertical-align: top;\n",
       "    }\n",
       "\n",
       "    .dataframe thead th {\n",
       "        text-align: right;\n",
       "    }\n",
       "</style>\n",
       "<table border=\"1\" class=\"dataframe\">\n",
       "  <thead>\n",
       "    <tr style=\"text-align: right;\">\n",
       "      <th></th>\n",
       "      <th>record_ID</th>\n",
       "      <th>week</th>\n",
       "      <th>store_id</th>\n",
       "      <th>sku_id</th>\n",
       "      <th>total_price</th>\n",
       "      <th>base_price</th>\n",
       "      <th>is_featured_sku</th>\n",
       "      <th>is_display_sku</th>\n",
       "      <th>units_sold</th>\n",
       "      <th>day_of_year</th>\n",
       "      <th>year</th>\n",
       "      <th>store_sku</th>\n",
       "    </tr>\n",
       "  </thead>\n",
       "  <tbody>\n",
       "    <tr>\n",
       "      <th>0</th>\n",
       "      <td>1</td>\n",
       "      <td>2011-01-17</td>\n",
       "      <td>8091</td>\n",
       "      <td>216418</td>\n",
       "      <td>99.0375</td>\n",
       "      <td>111.8625</td>\n",
       "      <td>0</td>\n",
       "      <td>0</td>\n",
       "      <td>20</td>\n",
       "      <td>17</td>\n",
       "      <td>2011</td>\n",
       "      <td>8091-216418</td>\n",
       "    </tr>\n",
       "    <tr>\n",
       "      <th>1</th>\n",
       "      <td>2</td>\n",
       "      <td>2011-01-17</td>\n",
       "      <td>8091</td>\n",
       "      <td>216419</td>\n",
       "      <td>99.0375</td>\n",
       "      <td>99.0375</td>\n",
       "      <td>0</td>\n",
       "      <td>0</td>\n",
       "      <td>28</td>\n",
       "      <td>17</td>\n",
       "      <td>2011</td>\n",
       "      <td>8091-216419</td>\n",
       "    </tr>\n",
       "    <tr>\n",
       "      <th>2</th>\n",
       "      <td>3</td>\n",
       "      <td>2011-01-17</td>\n",
       "      <td>8091</td>\n",
       "      <td>216425</td>\n",
       "      <td>133.9500</td>\n",
       "      <td>133.9500</td>\n",
       "      <td>0</td>\n",
       "      <td>0</td>\n",
       "      <td>19</td>\n",
       "      <td>17</td>\n",
       "      <td>2011</td>\n",
       "      <td>8091-216425</td>\n",
       "    </tr>\n",
       "    <tr>\n",
       "      <th>3</th>\n",
       "      <td>4</td>\n",
       "      <td>2011-01-17</td>\n",
       "      <td>8091</td>\n",
       "      <td>216233</td>\n",
       "      <td>133.9500</td>\n",
       "      <td>133.9500</td>\n",
       "      <td>0</td>\n",
       "      <td>0</td>\n",
       "      <td>44</td>\n",
       "      <td>17</td>\n",
       "      <td>2011</td>\n",
       "      <td>8091-216233</td>\n",
       "    </tr>\n",
       "    <tr>\n",
       "      <th>4</th>\n",
       "      <td>5</td>\n",
       "      <td>2011-01-17</td>\n",
       "      <td>8091</td>\n",
       "      <td>217390</td>\n",
       "      <td>141.0750</td>\n",
       "      <td>141.0750</td>\n",
       "      <td>0</td>\n",
       "      <td>0</td>\n",
       "      <td>52</td>\n",
       "      <td>17</td>\n",
       "      <td>2011</td>\n",
       "      <td>8091-217390</td>\n",
       "    </tr>\n",
       "  </tbody>\n",
       "</table>\n",
       "</div>"
      ],
      "text/plain": [
       "   record_ID       week store_id  sku_id  total_price  base_price  \\\n",
       "0          1 2011-01-17     8091  216418      99.0375    111.8625   \n",
       "1          2 2011-01-17     8091  216419      99.0375     99.0375   \n",
       "2          3 2011-01-17     8091  216425     133.9500    133.9500   \n",
       "3          4 2011-01-17     8091  216233     133.9500    133.9500   \n",
       "4          5 2011-01-17     8091  217390     141.0750    141.0750   \n",
       "\n",
       "   is_featured_sku  is_display_sku  units_sold  day_of_year  year    store_sku  \n",
       "0                0               0          20           17  2011  8091-216418  \n",
       "1                0               0          28           17  2011  8091-216419  \n",
       "2                0               0          19           17  2011  8091-216425  \n",
       "3                0               0          44           17  2011  8091-216233  \n",
       "4                0               0          52           17  2011  8091-217390  "
      ]
     },
     "execution_count": 56,
     "metadata": {},
     "output_type": "execute_result"
    }
   ],
   "source": [
    "train.head()"
   ]
  },
  {
   "cell_type": "code",
   "execution_count": 57,
   "metadata": {
    "colab": {
     "base_uri": "https://localhost:8080/",
     "height": 206
    },
    "colab_type": "code",
    "id": "-pTqaxBbS6UL",
    "outputId": "5e16683b-abee-4c52-ba34-dd3712e87f45"
   },
   "outputs": [
    {
     "data": {
      "text/html": [
       "<div>\n",
       "<style scoped>\n",
       "    .dataframe tbody tr th:only-of-type {\n",
       "        vertical-align: middle;\n",
       "    }\n",
       "\n",
       "    .dataframe tbody tr th {\n",
       "        vertical-align: top;\n",
       "    }\n",
       "\n",
       "    .dataframe thead th {\n",
       "        text-align: right;\n",
       "    }\n",
       "</style>\n",
       "<table border=\"1\" class=\"dataframe\">\n",
       "  <thead>\n",
       "    <tr style=\"text-align: right;\">\n",
       "      <th></th>\n",
       "      <th>record_ID</th>\n",
       "      <th>week</th>\n",
       "      <th>store_id</th>\n",
       "      <th>sku_id</th>\n",
       "      <th>total_price</th>\n",
       "      <th>base_price</th>\n",
       "      <th>is_featured_sku</th>\n",
       "      <th>is_display_sku</th>\n",
       "      <th>units_sold</th>\n",
       "      <th>day_of_year</th>\n",
       "      <th>year</th>\n",
       "      <th>store_sku</th>\n",
       "    </tr>\n",
       "  </thead>\n",
       "  <tbody>\n",
       "    <tr>\n",
       "      <th>150145</th>\n",
       "      <td>212638</td>\n",
       "      <td>2013-09-07</td>\n",
       "      <td>9984</td>\n",
       "      <td>223245</td>\n",
       "      <td>235.8375</td>\n",
       "      <td>235.8375</td>\n",
       "      <td>0</td>\n",
       "      <td>0</td>\n",
       "      <td>38</td>\n",
       "      <td>250</td>\n",
       "      <td>2013</td>\n",
       "      <td>9984-223245</td>\n",
       "    </tr>\n",
       "    <tr>\n",
       "      <th>150146</th>\n",
       "      <td>212639</td>\n",
       "      <td>2013-09-07</td>\n",
       "      <td>9984</td>\n",
       "      <td>223153</td>\n",
       "      <td>235.8375</td>\n",
       "      <td>235.8375</td>\n",
       "      <td>0</td>\n",
       "      <td>0</td>\n",
       "      <td>30</td>\n",
       "      <td>250</td>\n",
       "      <td>2013</td>\n",
       "      <td>9984-223153</td>\n",
       "    </tr>\n",
       "    <tr>\n",
       "      <th>150147</th>\n",
       "      <td>212642</td>\n",
       "      <td>2013-09-07</td>\n",
       "      <td>9984</td>\n",
       "      <td>245338</td>\n",
       "      <td>357.6750</td>\n",
       "      <td>483.7875</td>\n",
       "      <td>1</td>\n",
       "      <td>1</td>\n",
       "      <td>31</td>\n",
       "      <td>250</td>\n",
       "      <td>2013</td>\n",
       "      <td>9984-245338</td>\n",
       "    </tr>\n",
       "    <tr>\n",
       "      <th>150148</th>\n",
       "      <td>212643</td>\n",
       "      <td>2013-09-07</td>\n",
       "      <td>9984</td>\n",
       "      <td>547934</td>\n",
       "      <td>141.7875</td>\n",
       "      <td>191.6625</td>\n",
       "      <td>0</td>\n",
       "      <td>1</td>\n",
       "      <td>12</td>\n",
       "      <td>250</td>\n",
       "      <td>2013</td>\n",
       "      <td>9984-547934</td>\n",
       "    </tr>\n",
       "    <tr>\n",
       "      <th>150149</th>\n",
       "      <td>212644</td>\n",
       "      <td>2013-09-07</td>\n",
       "      <td>9984</td>\n",
       "      <td>679023</td>\n",
       "      <td>234.4125</td>\n",
       "      <td>234.4125</td>\n",
       "      <td>0</td>\n",
       "      <td>0</td>\n",
       "      <td>15</td>\n",
       "      <td>250</td>\n",
       "      <td>2013</td>\n",
       "      <td>9984-679023</td>\n",
       "    </tr>\n",
       "  </tbody>\n",
       "</table>\n",
       "</div>"
      ],
      "text/plain": [
       "        record_ID       week store_id  sku_id  total_price  base_price  \\\n",
       "150145     212638 2013-09-07     9984  223245     235.8375    235.8375   \n",
       "150146     212639 2013-09-07     9984  223153     235.8375    235.8375   \n",
       "150147     212642 2013-09-07     9984  245338     357.6750    483.7875   \n",
       "150148     212643 2013-09-07     9984  547934     141.7875    191.6625   \n",
       "150149     212644 2013-09-07     9984  679023     234.4125    234.4125   \n",
       "\n",
       "        is_featured_sku  is_display_sku  units_sold  day_of_year  year  \\\n",
       "150145                0               0          38          250  2013   \n",
       "150146                0               0          30          250  2013   \n",
       "150147                1               1          31          250  2013   \n",
       "150148                0               1          12          250  2013   \n",
       "150149                0               0          15          250  2013   \n",
       "\n",
       "          store_sku  \n",
       "150145  9984-223245  \n",
       "150146  9984-223153  \n",
       "150147  9984-245338  \n",
       "150148  9984-547934  \n",
       "150149  9984-679023  "
      ]
     },
     "execution_count": 57,
     "metadata": {},
     "output_type": "execute_result"
    }
   ],
   "source": [
    "train.tail()"
   ]
  },
  {
   "cell_type": "code",
   "execution_count": 58,
   "metadata": {
    "colab": {
     "base_uri": "https://localhost:8080/",
     "height": 34
    },
    "colab_type": "code",
    "id": "PdLLRNJ1S6UM",
    "outputId": "9290eab5-dbf2-4eac-e688-0380c047c9f1"
   },
   "outputs": [
    {
     "data": {
      "text/plain": [
       "1155"
      ]
     },
     "execution_count": 58,
     "metadata": {},
     "output_type": "execute_result"
    }
   ],
   "source": [
    "len(train['store_sku'].unique())"
   ]
  },
  {
   "cell_type": "code",
   "execution_count": 59,
   "metadata": {
    "colab": {
     "base_uri": "https://localhost:8080/",
     "height": 225
    },
    "colab_type": "code",
    "id": "fnpNkryGS6UY",
    "outputId": "a5a2beb8-78b7-49b9-c098-a37160d0fc6d"
   },
   "outputs": [
    {
     "data": {
      "text/plain": [
       "8094    3120\n",
       "9823    2990\n",
       "8991    2990\n",
       "8438    2730\n",
       "8023    2730\n",
       "        ... \n",
       "9439    1170\n",
       "8091    1170\n",
       "9178     780\n",
       "9700     650\n",
       "9001     260\n",
       "Name: store_id, Length: 76, dtype: int64"
      ]
     },
     "execution_count": 59,
     "metadata": {},
     "output_type": "execute_result"
    }
   ],
   "source": [
    "train['store_id'].value_counts()"
   ]
  },
  {
   "cell_type": "markdown",
   "metadata": {},
   "source": [
    "## Visualizations"
   ]
  },
  {
   "cell_type": "markdown",
   "metadata": {},
   "source": [
    "Checking 'units sold' for outliers"
   ]
  },
  {
   "cell_type": "code",
   "execution_count": 60,
   "metadata": {
    "colab": {
     "base_uri": "https://localhost:8080/",
     "height": 280
    },
    "colab_type": "code",
    "id": "HZz1FT3KS6Uc",
    "outputId": "29afb29d-88d5-4b61-ff40-49a317dfd5dd"
   },
   "outputs": [
    {
     "data": {
      "image/png": "[encoded data removed]",
      "text/plain": [
       "<Figure size 432x288 with 1 Axes>"
      ]
     },
     "metadata": {
      "needs_background": "light"
     },
     "output_type": "display_data"
    }
   ],
   "source": [
    "sns.boxplot(train['units_sold']);"
   ]
  },
  {
   "cell_type": "code",
   "execution_count": 61,
   "metadata": {
    "colab": {
     "base_uri": "https://localhost:8080/",
     "height": 175
    },
    "colab_type": "code",
    "id": "LxvWlup-S6Ud",
    "outputId": "a75fcd73-adef-40c5-8d63-bbde1ed2fed0"
   },
   "outputs": [
    {
     "data": {
      "text/html": [
       "<div>\n",
       "<style scoped>\n",
       "    .dataframe tbody tr th:only-of-type {\n",
       "        vertical-align: middle;\n",
       "    }\n",
       "\n",
       "    .dataframe tbody tr th {\n",
       "        vertical-align: top;\n",
       "    }\n",
       "\n",
       "    .dataframe thead th {\n",
       "        text-align: right;\n",
       "    }\n",
       "</style>\n",
       "<table border=\"1\" class=\"dataframe\">\n",
       "  <thead>\n",
       "    <tr style=\"text-align: right;\">\n",
       "      <th></th>\n",
       "      <th>record_ID</th>\n",
       "      <th>week</th>\n",
       "      <th>store_id</th>\n",
       "      <th>sku_id</th>\n",
       "      <th>total_price</th>\n",
       "      <th>base_price</th>\n",
       "      <th>is_featured_sku</th>\n",
       "      <th>is_display_sku</th>\n",
       "      <th>units_sold</th>\n",
       "      <th>day_of_year</th>\n",
       "      <th>year</th>\n",
       "      <th>store_sku</th>\n",
       "    </tr>\n",
       "  </thead>\n",
       "  <tbody>\n",
       "    <tr>\n",
       "      <th>5559</th>\n",
       "      <td>7894</td>\n",
       "      <td>2011-02-14</td>\n",
       "      <td>9823</td>\n",
       "      <td>219009</td>\n",
       "      <td>118.9875</td>\n",
       "      <td>227.2875</td>\n",
       "      <td>1</td>\n",
       "      <td>0</td>\n",
       "      <td>1599</td>\n",
       "      <td>45</td>\n",
       "      <td>2011</td>\n",
       "      <td>9823-219009</td>\n",
       "    </tr>\n",
       "    <tr>\n",
       "      <th>5607</th>\n",
       "      <td>7961</td>\n",
       "      <td>2011-02-14</td>\n",
       "      <td>9845</td>\n",
       "      <td>219009</td>\n",
       "      <td>116.8500</td>\n",
       "      <td>227.2875</td>\n",
       "      <td>1</td>\n",
       "      <td>1</td>\n",
       "      <td>2876</td>\n",
       "      <td>45</td>\n",
       "      <td>2011</td>\n",
       "      <td>9845-219009</td>\n",
       "    </tr>\n",
       "    <tr>\n",
       "      <th>6762</th>\n",
       "      <td>9598</td>\n",
       "      <td>2011-02-21</td>\n",
       "      <td>9845</td>\n",
       "      <td>219009</td>\n",
       "      <td>114.0000</td>\n",
       "      <td>227.2875</td>\n",
       "      <td>0</td>\n",
       "      <td>1</td>\n",
       "      <td>1669</td>\n",
       "      <td>52</td>\n",
       "      <td>2011</td>\n",
       "      <td>9845-219009</td>\n",
       "    </tr>\n",
       "    <tr>\n",
       "      <th>7917</th>\n",
       "      <td>11210</td>\n",
       "      <td>2011-02-28</td>\n",
       "      <td>9845</td>\n",
       "      <td>219009</td>\n",
       "      <td>116.8500</td>\n",
       "      <td>227.2875</td>\n",
       "      <td>1</td>\n",
       "      <td>1</td>\n",
       "      <td>1705</td>\n",
       "      <td>59</td>\n",
       "      <td>2011</td>\n",
       "      <td>9845-219009</td>\n",
       "    </tr>\n",
       "  </tbody>\n",
       "</table>\n",
       "</div>"
      ],
      "text/plain": [
       "      record_ID       week store_id  sku_id  total_price  base_price  \\\n",
       "5559       7894 2011-02-14     9823  219009     118.9875    227.2875   \n",
       "5607       7961 2011-02-14     9845  219009     116.8500    227.2875   \n",
       "6762       9598 2011-02-21     9845  219009     114.0000    227.2875   \n",
       "7917      11210 2011-02-28     9845  219009     116.8500    227.2875   \n",
       "\n",
       "      is_featured_sku  is_display_sku  units_sold  day_of_year  year  \\\n",
       "5559                1               0        1599           45  2011   \n",
       "5607                1               1        2876           45  2011   \n",
       "6762                0               1        1669           52  2011   \n",
       "7917                1               1        1705           59  2011   \n",
       "\n",
       "        store_sku  \n",
       "5559  9823-219009  \n",
       "5607  9845-219009  \n",
       "6762  9845-219009  \n",
       "7917  9845-219009  "
      ]
     },
     "execution_count": 61,
     "metadata": {},
     "output_type": "execute_result"
    }
   ],
   "source": [
    "train[train['units_sold'] > 1500]"
   ]
  },
  {
   "cell_type": "markdown",
   "metadata": {},
   "source": [
    "removing outliers"
   ]
  },
  {
   "cell_type": "code",
   "execution_count": 62,
   "metadata": {
    "colab": {},
    "colab_type": "code",
    "id": "mFKcRh7iS6Ug"
   },
   "outputs": [],
   "source": [
    "train = train[train['units_sold'] < 1500]"
   ]
  },
  {
   "cell_type": "code",
   "execution_count": 63,
   "metadata": {
    "colab": {
     "base_uri": "https://localhost:8080/",
     "height": 280
    },
    "colab_type": "code",
    "id": "p6ICJ3-fS6Uh",
    "outputId": "01cc6b68-4d53-44c7-c3eb-69ee71031169"
   },
   "outputs": [
    {
     "data": {
      "image/png": "[encoded data removed]",
      "text/plain": [
       "<Figure size 432x288 with 1 Axes>"
      ]
     },
     "metadata": {
      "needs_background": "light"
     },
     "output_type": "display_data"
    }
   ],
   "source": [
    "sns.boxplot(train['units_sold']);"
   ]
  },
  {
   "cell_type": "code",
   "execution_count": 64,
   "metadata": {
    "colab": {
     "base_uri": "https://localhost:8080/",
     "height": 34
    },
    "colab_type": "code",
    "id": "VC_v0RA5S6Uj",
    "outputId": "d1a41610-f949-4aaf-c686-5665b073b6cf"
   },
   "outputs": [
    {
     "data": {
      "text/plain": [
       "1341"
      ]
     },
     "execution_count": 64,
     "metadata": {},
     "output_type": "execute_result"
    }
   ],
   "source": [
    "train['units_sold'].max()"
   ]
  },
  {
   "cell_type": "code",
   "execution_count": 66,
   "metadata": {
    "colab": {
     "base_uri": "https://localhost:8080/",
     "height": 337
    },
    "colab_type": "code",
    "id": "O0mPP9WGS6Un",
    "outputId": "98d53de7-d810-484b-b3ac-f5f26a79f0dc"
   },
   "outputs": [
    {
     "data": {
      "image/png": "[encoded data removed]",
      "text/plain": [
       "<Figure size 432x288 with 2 Axes>"
      ]
     },
     "metadata": {
      "needs_background": "light"
     },
     "output_type": "display_data"
    }
   ],
   "source": [
    "sns.heatmap(train.corr(),annot=True);"
   ]
  },
  {
   "cell_type": "code",
   "execution_count": null,
   "metadata": {
    "colab": {
     "base_uri": "https://localhost:8080/",
     "height": 764
    },
    "colab_type": "code",
    "id": "3jnEBCExS6Up",
    "outputId": "5fddf2f9-8af6-4383-fa07-802fc1a86d96"
   },
   "outputs": [
    {
     "data": {
      "text/plain": [
       "<seaborn.axisgrid.PairGrid at 0x7fe06ee51e10>"
      ]
     },
     "execution_count": 69,
     "metadata": {
      "tags": []
     },
     "output_type": "execute_result"
    },
    {
     "data": {
      "image/png": "[encoded data removed]",
      "text/plain": [
       "<Figure size 180x720 with 4 Axes>"
      ]
     },
     "metadata": {
      "needs_background": "light",
      "tags": []
     },
     "output_type": "display_data"
    }
   ],
   "source": [
    "sns.pairplot(train, y_vars = ['total_price', 'base_price', 'is_featured_sku', 'is_display_sku'], x_vars = 'units_sold')"
   ]
  },
  {
   "cell_type": "code",
   "execution_count": null,
   "metadata": {
    "colab": {
     "base_uri": "https://localhost:8080/",
     "height": 944
    },
    "colab_type": "code",
    "id": "s-esbnj1S6Uq",
    "outputId": "994ebfc2-e26d-4adc-83a0-bf2b3937f0dd"
   },
   "outputs": [
    {
     "data": {
      "text/plain": [
       "<seaborn.axisgrid.PairGrid at 0x7fe06cc8e5f8>"
      ]
     },
     "execution_count": 70,
     "metadata": {
      "tags": []
     },
     "output_type": "execute_result"
    },
    {
     "data": {
      "image/png": "[encoded data removed]",
      "text/plain": [
       "<Figure size 900x900 with 30 Axes>"
      ]
     },
     "metadata": {
      "needs_background": "light",
      "tags": []
     },
     "output_type": "display_data"
    }
   ],
   "source": [
    "sns.pairplot(train, y_vars = ['total_price', 'base_price', 'is_featured_sku', 'is_display_sku', 'units_sold'], x_vars = ['total_price', 'base_price', 'is_featured_sku', 'is_display_sku', 'units_sold'])"
   ]
  },
  {
   "cell_type": "markdown",
   "metadata": {},
   "source": [
    "## Modelling"
   ]
  },
  {
   "cell_type": "markdown",
   "metadata": {},
   "source": [
    "function to calculate rmsle*100 per hackathon scoring (root mean squared log error)"
   ]
  },
  {
   "cell_type": "code",
   "execution_count": 68,
   "metadata": {
    "colab": {},
    "colab_type": "code",
    "id": "HkL14tyzS6Ut"
   },
   "outputs": [],
   "source": [
    "def rmsle(ytrue, ypred):\n",
    "    return np.sqrt(mean_squared_log_error(ytrue, ypred))*100"
   ]
  },
  {
   "cell_type": "markdown",
   "metadata": {
    "colab": {},
    "colab_type": "code",
    "id": "Jg1QVsN_S6Uu"
   },
   "source": [
    "### baseline scoring"
   ]
  },
  {
   "cell_type": "code",
   "execution_count": 70,
   "metadata": {
    "colab": {},
    "colab_type": "code",
    "id": "48GI8ij8S6Uv"
   },
   "outputs": [],
   "source": [
    "baseline = [train['units_sold'].mean() for i in range(len(train))]"
   ]
  },
  {
   "cell_type": "code",
   "execution_count": 71,
   "metadata": {
    "colab": {
     "base_uri": "https://localhost:8080/",
     "height": 34
    },
    "colab_type": "code",
    "id": "8IEtZ7NpS6Ux",
    "outputId": "13452aff-e7dc-4775-f1f7-feeb7b8c7974"
   },
   "outputs": [
    {
     "name": "stdout",
     "output_type": "stream",
     "text": [
      "93.96352447206748\n"
     ]
    }
   ],
   "source": [
    "print(rmsle(train['units_sold'], baseline))"
   ]
  },
  {
   "cell_type": "markdown",
   "metadata": {
    "colab": {},
    "colab_type": "code",
    "id": "5FIg1BmqS6Uz"
   },
   "source": [
    "### initial modelling"
   ]
  },
  {
   "cell_type": "code",
   "execution_count": 65,
   "metadata": {
    "colab": {},
    "colab_type": "code",
    "id": "XTP2R30fS6U0"
   },
   "outputs": [],
   "source": [
    "train['store_id'] = train['store_id'].astype(int)\n",
    "train['sku_id'] = train['sku_id'].astype(int)"
   ]
  },
  {
   "cell_type": "code",
   "execution_count": 66,
   "metadata": {
    "colab": {},
    "colab_type": "code",
    "id": "Kvhz8dqPgOYv"
   },
   "outputs": [],
   "source": [
    "test['store_id'] = test['store_id'].astype(int)\n",
    "test['sku_id'] = test['sku_id'].astype(int)"
   ]
  },
  {
   "cell_type": "code",
   "execution_count": 67,
   "metadata": {
    "colab": {
     "base_uri": "https://localhost:8080/",
     "height": 206
    },
    "colab_type": "code",
    "id": "4l1Q34aIP7oH",
    "outputId": "654dc792-82f1-4601-fa2b-0aded7f897a7"
   },
   "outputs": [
    {
     "data": {
      "text/html": [
       "<div>\n",
       "<style scoped>\n",
       "    .dataframe tbody tr th:only-of-type {\n",
       "        vertical-align: middle;\n",
       "    }\n",
       "\n",
       "    .dataframe tbody tr th {\n",
       "        vertical-align: top;\n",
       "    }\n",
       "\n",
       "    .dataframe thead th {\n",
       "        text-align: right;\n",
       "    }\n",
       "</style>\n",
       "<table border=\"1\" class=\"dataframe\">\n",
       "  <thead>\n",
       "    <tr style=\"text-align: right;\">\n",
       "      <th></th>\n",
       "      <th>record_ID</th>\n",
       "      <th>week</th>\n",
       "      <th>store_id</th>\n",
       "      <th>sku_id</th>\n",
       "      <th>total_price</th>\n",
       "      <th>base_price</th>\n",
       "      <th>is_featured_sku</th>\n",
       "      <th>is_display_sku</th>\n",
       "      <th>units_sold</th>\n",
       "      <th>day_of_year</th>\n",
       "      <th>year</th>\n",
       "      <th>store_sku</th>\n",
       "    </tr>\n",
       "  </thead>\n",
       "  <tbody>\n",
       "    <tr>\n",
       "      <th>0</th>\n",
       "      <td>1</td>\n",
       "      <td>2011-01-17</td>\n",
       "      <td>8091</td>\n",
       "      <td>216418</td>\n",
       "      <td>99.0375</td>\n",
       "      <td>111.8625</td>\n",
       "      <td>0</td>\n",
       "      <td>0</td>\n",
       "      <td>20</td>\n",
       "      <td>17</td>\n",
       "      <td>2011</td>\n",
       "      <td>8091-216418</td>\n",
       "    </tr>\n",
       "    <tr>\n",
       "      <th>1</th>\n",
       "      <td>2</td>\n",
       "      <td>2011-01-17</td>\n",
       "      <td>8091</td>\n",
       "      <td>216419</td>\n",
       "      <td>99.0375</td>\n",
       "      <td>99.0375</td>\n",
       "      <td>0</td>\n",
       "      <td>0</td>\n",
       "      <td>28</td>\n",
       "      <td>17</td>\n",
       "      <td>2011</td>\n",
       "      <td>8091-216419</td>\n",
       "    </tr>\n",
       "    <tr>\n",
       "      <th>2</th>\n",
       "      <td>3</td>\n",
       "      <td>2011-01-17</td>\n",
       "      <td>8091</td>\n",
       "      <td>216425</td>\n",
       "      <td>133.9500</td>\n",
       "      <td>133.9500</td>\n",
       "      <td>0</td>\n",
       "      <td>0</td>\n",
       "      <td>19</td>\n",
       "      <td>17</td>\n",
       "      <td>2011</td>\n",
       "      <td>8091-216425</td>\n",
       "    </tr>\n",
       "    <tr>\n",
       "      <th>3</th>\n",
       "      <td>4</td>\n",
       "      <td>2011-01-17</td>\n",
       "      <td>8091</td>\n",
       "      <td>216233</td>\n",
       "      <td>133.9500</td>\n",
       "      <td>133.9500</td>\n",
       "      <td>0</td>\n",
       "      <td>0</td>\n",
       "      <td>44</td>\n",
       "      <td>17</td>\n",
       "      <td>2011</td>\n",
       "      <td>8091-216233</td>\n",
       "    </tr>\n",
       "    <tr>\n",
       "      <th>4</th>\n",
       "      <td>5</td>\n",
       "      <td>2011-01-17</td>\n",
       "      <td>8091</td>\n",
       "      <td>217390</td>\n",
       "      <td>141.0750</td>\n",
       "      <td>141.0750</td>\n",
       "      <td>0</td>\n",
       "      <td>0</td>\n",
       "      <td>52</td>\n",
       "      <td>17</td>\n",
       "      <td>2011</td>\n",
       "      <td>8091-217390</td>\n",
       "    </tr>\n",
       "  </tbody>\n",
       "</table>\n",
       "</div>"
      ],
      "text/plain": [
       "   record_ID       week  store_id  sku_id  total_price  base_price  \\\n",
       "0          1 2011-01-17      8091  216418      99.0375    111.8625   \n",
       "1          2 2011-01-17      8091  216419      99.0375     99.0375   \n",
       "2          3 2011-01-17      8091  216425     133.9500    133.9500   \n",
       "3          4 2011-01-17      8091  216233     133.9500    133.9500   \n",
       "4          5 2011-01-17      8091  217390     141.0750    141.0750   \n",
       "\n",
       "   is_featured_sku  is_display_sku  units_sold  day_of_year  year    store_sku  \n",
       "0                0               0          20           17  2011  8091-216418  \n",
       "1                0               0          28           17  2011  8091-216419  \n",
       "2                0               0          19           17  2011  8091-216425  \n",
       "3                0               0          44           17  2011  8091-216233  \n",
       "4                0               0          52           17  2011  8091-217390  "
      ]
     },
     "execution_count": 67,
     "metadata": {},
     "output_type": "execute_result"
    }
   ],
   "source": [
    "train.head()"
   ]
  },
  {
   "cell_type": "markdown",
   "metadata": {},
   "source": [
    "### Train/Test split"
   ]
  },
  {
   "cell_type": "code",
   "execution_count": 68,
   "metadata": {
    "colab": {},
    "colab_type": "code",
    "id": "B_koIXkiS6U2"
   },
   "outputs": [],
   "source": [
    "X = train[['store_id', 'sku_id', 'total_price', 'base_price', 'is_featured_sku', 'is_display_sku', 'day_of_year', 'year']]\n",
    "y = train['units_sold']"
   ]
  },
  {
   "cell_type": "code",
   "execution_count": 78,
   "metadata": {
    "colab": {},
    "colab_type": "code",
    "id": "tE64j21vS6U4"
   },
   "outputs": [],
   "source": [
    "X_train, X_test, y_train, y_test = train_test_split(X, y, test_size = 0.25, random_state = 42)\n",
    "X_train, X_validation, y_train, y_validation = train_test_split(X_train, y_train, test_size=0.2)"
   ]
  },
  {
   "cell_type": "code",
   "execution_count": 79,
   "metadata": {},
   "outputs": [
    {
     "data": {
      "text/plain": [
       "(90087, 8)"
      ]
     },
     "execution_count": 79,
     "metadata": {},
     "output_type": "execute_result"
    }
   ],
   "source": [
    "X_train.shape"
   ]
  },
  {
   "cell_type": "code",
   "execution_count": 80,
   "metadata": {},
   "outputs": [
    {
     "data": {
      "text/plain": [
       "(22522, 8)"
      ]
     },
     "execution_count": 80,
     "metadata": {},
     "output_type": "execute_result"
    }
   ],
   "source": [
    "X_validation.shape"
   ]
  },
  {
   "cell_type": "code",
   "execution_count": 81,
   "metadata": {},
   "outputs": [
    {
     "data": {
      "text/plain": [
       "(37537, 8)"
      ]
     },
     "execution_count": 81,
     "metadata": {},
     "output_type": "execute_result"
    }
   ],
   "source": [
    "X_test.shape"
   ]
  },
  {
   "cell_type": "code",
   "execution_count": 83,
   "metadata": {
    "colab": {},
    "colab_type": "code",
    "id": "F8YwMB65S6U6"
   },
   "outputs": [],
   "source": [
    "rf = RandomForestRegressor()"
   ]
  },
  {
   "cell_type": "code",
   "execution_count": 85,
   "metadata": {
    "colab": {
     "base_uri": "https://localhost:8080/",
     "height": 34
    },
    "colab_type": "code",
    "id": "NeJw6_17S6U7",
    "outputId": "8fbaeb93-f8d0-4947-a28d-793228cb033d"
   },
   "outputs": [
    {
     "data": {
      "text/plain": [
       "0.7458953010297646"
      ]
     },
     "execution_count": 85,
     "metadata": {},
     "output_type": "execute_result"
    }
   ],
   "source": [
    "cross_val_score(rf, X_train, y_train, cv = 5).mean()"
   ]
  },
  {
   "cell_type": "code",
   "execution_count": 86,
   "metadata": {
    "colab": {},
    "colab_type": "code",
    "id": "7pquy7NSS6U9"
   },
   "outputs": [],
   "source": [
    "rf_model = rf.fit(X_train, y_train)"
   ]
  },
  {
   "cell_type": "code",
   "execution_count": 88,
   "metadata": {
    "colab": {},
    "colab_type": "code",
    "id": "H_Ya9Fv6S6U_"
   },
   "outputs": [],
   "source": [
    "rf_trainpreds = rf_model.predict(X_train)\n",
    "rf_valpreds = rf_model.predict(X_validation)"
   ]
  },
  {
   "cell_type": "code",
   "execution_count": 89,
   "metadata": {
    "colab": {
     "base_uri": "https://localhost:8080/",
     "height": 86
    },
    "colab_type": "code",
    "id": "p3ZhEbxzS6VB",
    "outputId": "3599a53b-c140-499b-ead1-8b4a7e44a51b"
   },
   "outputs": [
    {
     "name": "stdout",
     "output_type": "stream",
     "text": [
      "0.9655064036076364\n",
      "0.7232145881883801\n",
      "19.448662550069283\n",
      "42.604223673358014\n"
     ]
    }
   ],
   "source": [
    "print(r2_score(y_train, rf_trainpreds))\n",
    "print(r2_score(y_validation, rf_valpreds))\n",
    "print(rmsle(y_train, rf_trainpreds))\n",
    "print(rmsle(y_validation, rf_valpreds))"
   ]
  },
  {
   "cell_type": "code",
   "execution_count": 90,
   "metadata": {},
   "outputs": [],
   "source": [
    "rf_testpreds = rf_model.predict(X_test)"
   ]
  },
  {
   "cell_type": "code",
   "execution_count": 92,
   "metadata": {},
   "outputs": [
    {
     "name": "stdout",
     "output_type": "stream",
     "text": [
      "0.7537517734317896\n",
      "42.89273278538715\n"
     ]
    }
   ],
   "source": [
    "print(r2_score(y_test, rf_testpreds))\n",
    "print(rmsle(y_test, rf_testpreds))"
   ]
  },
  {
   "cell_type": "code",
   "execution_count": null,
   "metadata": {
    "colab": {
     "base_uri": "https://localhost:8080/",
     "height": 206
    },
    "colab_type": "code",
    "id": "s7sJxXf_S6VG",
    "outputId": "8e616fed-cc85-474f-a6a9-06b47bcfac4c"
   },
   "outputs": [
    {
     "data": {
      "text/html": [
       "<div>\n",
       "<style scoped>\n",
       "    .dataframe tbody tr th:only-of-type {\n",
       "        vertical-align: middle;\n",
       "    }\n",
       "\n",
       "    .dataframe tbody tr th {\n",
       "        vertical-align: top;\n",
       "    }\n",
       "\n",
       "    .dataframe thead th {\n",
       "        text-align: right;\n",
       "    }\n",
       "</style>\n",
       "<table border=\"1\" class=\"dataframe\">\n",
       "  <thead>\n",
       "    <tr style=\"text-align: right;\">\n",
       "      <th></th>\n",
       "      <th>store_id</th>\n",
       "      <th>sku_id</th>\n",
       "      <th>total_price</th>\n",
       "      <th>base_price</th>\n",
       "      <th>is_featured_sku</th>\n",
       "      <th>is_display_sku</th>\n",
       "      <th>day_of_year</th>\n",
       "      <th>year</th>\n",
       "    </tr>\n",
       "  </thead>\n",
       "  <tbody>\n",
       "    <tr>\n",
       "      <th>51467</th>\n",
       "      <td>9432</td>\n",
       "      <td>245338</td>\n",
       "      <td>395.4375</td>\n",
       "      <td>469.5375</td>\n",
       "      <td>1</td>\n",
       "      <td>1</td>\n",
       "      <td>325</td>\n",
       "      <td>2011</td>\n",
       "    </tr>\n",
       "    <tr>\n",
       "      <th>54000</th>\n",
       "      <td>9731</td>\n",
       "      <td>223245</td>\n",
       "      <td>178.1250</td>\n",
       "      <td>227.2875</td>\n",
       "      <td>0</td>\n",
       "      <td>0</td>\n",
       "      <td>132</td>\n",
       "      <td>2011</td>\n",
       "    </tr>\n",
       "    <tr>\n",
       "      <th>20090</th>\n",
       "      <td>9190</td>\n",
       "      <td>219029</td>\n",
       "      <td>301.3875</td>\n",
       "      <td>301.3875</td>\n",
       "      <td>0</td>\n",
       "      <td>0</td>\n",
       "      <td>136</td>\n",
       "      <td>2011</td>\n",
       "    </tr>\n",
       "    <tr>\n",
       "      <th>76341</th>\n",
       "      <td>8222</td>\n",
       "      <td>216233</td>\n",
       "      <td>118.2750</td>\n",
       "      <td>133.9500</td>\n",
       "      <td>0</td>\n",
       "      <td>0</td>\n",
       "      <td>115</td>\n",
       "      <td>2012</td>\n",
       "    </tr>\n",
       "    <tr>\n",
       "      <th>147164</th>\n",
       "      <td>9250</td>\n",
       "      <td>216419</td>\n",
       "      <td>109.7250</td>\n",
       "      <td>109.7250</td>\n",
       "      <td>0</td>\n",
       "      <td>1</td>\n",
       "      <td>176</td>\n",
       "      <td>2013</td>\n",
       "    </tr>\n",
       "  </tbody>\n",
       "</table>\n",
       "</div>"
      ],
      "text/plain": [
       "        store_id  sku_id  total_price  ...  is_display_sku  day_of_year  year\n",
       "51467       9432  245338     395.4375  ...               1          325  2011\n",
       "54000       9731  223245     178.1250  ...               0          132  2011\n",
       "20090       9190  219029     301.3875  ...               0          136  2011\n",
       "76341       8222  216233     118.2750  ...               0          115  2012\n",
       "147164      9250  216419     109.7250  ...               1          176  2013\n",
       "\n",
       "[5 rows x 8 columns]"
      ]
     },
     "execution_count": 96,
     "metadata": {
      "tags": []
     },
     "output_type": "execute_result"
    }
   ],
   "source": [
    "X_train.head()"
   ]
  },
  {
   "cell_type": "markdown",
   "metadata": {
    "colab": {},
    "colab_type": "code",
    "id": "C42DRK_pVK3m"
   },
   "source": [
    "## Neural Network"
   ]
  },
  {
   "cell_type": "code",
   "execution_count": 163,
   "metadata": {
    "colab": {},
    "colab_type": "code",
    "id": "y_GZ3mgKVK5k"
   },
   "outputs": [],
   "source": [
    "model1 = Sequential()\n",
    "model1.add(Dense(16, input_dim = X_train.shape[1], activation = 'relu'))\n",
    "model1.add(Dropout(0.5))\n",
    "model1.add(Dense(1, activation = 'linear'))"
   ]
  },
  {
   "cell_type": "code",
   "execution_count": 164,
   "metadata": {
    "colab": {},
    "colab_type": "code",
    "id": "ukgnjmQyVV6S"
   },
   "outputs": [],
   "source": [
    "#compile NN\n",
    "model1.compile(loss = 'mse', optimizer = 'sgd', metrics=[tf.keras.metrics.MeanSquaredLogarithmicError()])"
   ]
  },
  {
   "cell_type": "code",
   "execution_count": 165,
   "metadata": {},
   "outputs": [],
   "source": [
    "early_stop = EarlyStopping(monitor = 'val_mean_squared_logarithmic_error', patience = 5, min_delta = 0, restore_best_weights = True)"
   ]
  },
  {
   "cell_type": "code",
   "execution_count": 166,
   "metadata": {
    "colab": {
     "base_uri": "https://localhost:8080/",
     "height": 607
    },
    "colab_type": "code",
    "id": "bJXhYihBVW1_",
    "outputId": "567f49cf-1e1b-4238-bebe-efe4d4b360e0"
   },
   "outputs": [
    {
     "name": "stdout",
     "output_type": "stream",
     "text": [
      "Model: \"sequential_9\"\n",
      "_________________________________________________________________\n",
      "Layer (type)                 Output Shape              Param #   \n",
      "=================================================================\n",
      "dense_31 (Dense)             (None, 16)                144       \n",
      "_________________________________________________________________\n",
      "dropout_23 (Dropout)         (None, 16)                0         \n",
      "_________________________________________________________________\n",
      "dense_32 (Dense)             (None, 1)                 17        \n",
      "=================================================================\n",
      "Total params: 161\n",
      "Trainable params: 161\n",
      "Non-trainable params: 0\n",
      "_________________________________________________________________\n"
     ]
    }
   ],
   "source": [
    "model1.summary()"
   ]
  },
  {
   "cell_type": "code",
   "execution_count": 167,
   "metadata": {
    "colab": {
     "base_uri": "https://localhost:8080/",
     "height": 694
    },
    "colab_type": "code",
    "id": "RTtitINMVaU7",
    "outputId": "e3c7e286-4a8d-4a7f-e7ee-a4b5750dd4a4"
   },
   "outputs": [
    {
     "name": "stdout",
     "output_type": "stream",
     "text": [
      "Train on 90087 samples, validate on 22522 samples\n",
      "Epoch 1/20\n",
      "90087/90087 [==============================] - 5s 56us/step - loss: inf - mean_squared_logarithmic_error: 663.5485 - val_loss: 3699.2593 - val_mean_squared_logarithmic_error: 264.3929\n",
      "Epoch 2/20\n",
      "90087/90087 [==============================] - 5s 56us/step - loss: 3511.2101 - mean_squared_logarithmic_error: 174.4114 - val_loss: 3697.1769 - val_mean_squared_logarithmic_error: 125.3141\n",
      "Epoch 3/20\n",
      "90087/90087 [==============================] - 5s 56us/step - loss: 3511.0453 - mean_squared_logarithmic_error: 100.2249 - val_loss: 3698.6044 - val_mean_squared_logarithmic_error: 82.3659\n",
      "Epoch 4/20\n",
      "90087/90087 [==============================] - 5s 61us/step - loss: 3511.3813 - mean_squared_logarithmic_error: 70.6780 - val_loss: 3700.2072 - val_mean_squared_logarithmic_error: 61.4623\n",
      "Epoch 5/20\n",
      "90087/90087 [==============================] - 5s 56us/step - loss: 3511.1966 - mean_squared_logarithmic_error: 54.7140 - val_loss: 3697.1334 - val_mean_squared_logarithmic_error: 49.0952\n",
      "Epoch 6/20\n",
      "90087/90087 [==============================] - 5s 51us/step - loss: 3511.2753 - mean_squared_logarithmic_error: 44.7048 - val_loss: 3697.8680 - val_mean_squared_logarithmic_error: 40.9225\n",
      "Epoch 7/20\n",
      "90087/90087 [==============================] - 5s 55us/step - loss: 3511.2302 - mean_squared_logarithmic_error: 37.8390 - val_loss: 3697.8945 - val_mean_squared_logarithmic_error: 35.1195\n",
      "Epoch 8/20\n",
      "90087/90087 [==============================] - 6s 62us/step - loss: 3511.2418 - mean_squared_logarithmic_error: 32.8353 - val_loss: 3699.2914 - val_mean_squared_logarithmic_error: 30.7855\n",
      "Epoch 9/20\n",
      "90087/90087 [==============================] - 5s 52us/step - loss: 3511.4042 - mean_squared_logarithmic_error: 29.0250 - val_loss: 3697.7593 - val_mean_squared_logarithmic_error: 27.4252\n",
      "Epoch 10/20\n",
      "90087/90087 [==============================] - 5s 53us/step - loss: 3511.1599 - mean_squared_logarithmic_error: 26.0271 - val_loss: 3697.1018 - val_mean_squared_logarithmic_error: 24.7440\n",
      "Epoch 11/20\n",
      "90087/90087 [==============================] - 5s 50us/step - loss: 3511.4694 - mean_squared_logarithmic_error: 23.6073 - val_loss: 3697.1675 - val_mean_squared_logarithmic_error: 22.5551\n",
      "Epoch 12/20\n",
      "90087/90087 [==============================] - 4s 50us/step - loss: 3510.9678 - mean_squared_logarithmic_error: 21.6124 - val_loss: 3697.0797 - val_mean_squared_logarithmic_error: 20.7339\n",
      "Epoch 13/20\n",
      "90087/90087 [==============================] - 4s 50us/step - loss: 3511.0511 - mean_squared_logarithmic_error: 19.9396 - val_loss: 3697.9251 - val_mean_squared_logarithmic_error: 19.1950\n",
      "Epoch 14/20\n",
      "90087/90087 [==============================] - 5s 51us/step - loss: 3511.2712 - mean_squared_logarithmic_error: 18.5165 - val_loss: 3698.0381 - val_mean_squared_logarithmic_error: 17.8777\n",
      "Epoch 15/20\n",
      "90087/90087 [==============================] - 4s 49us/step - loss: 3511.3245 - mean_squared_logarithmic_error: 17.2917 - val_loss: 3697.6453 - val_mean_squared_logarithmic_error: 16.7373\n",
      "Epoch 16/20\n",
      "90087/90087 [==============================] - 5s 51us/step - loss: 3511.1483 - mean_squared_logarithmic_error: 16.2257 - val_loss: 3697.4073 - val_mean_squared_logarithmic_error: 15.7403\n",
      "Epoch 17/20\n",
      "90087/90087 [==============================] - 5s 56us/step - loss: 3510.8990 - mean_squared_logarithmic_error: 15.2900 - val_loss: 3697.0796 - val_mean_squared_logarithmic_error: 14.8612\n",
      "Epoch 18/20\n",
      "90087/90087 [==============================] - 5s 53us/step - loss: 3510.8619 - mean_squared_logarithmic_error: 14.4616 - val_loss: 3698.4612 - val_mean_squared_logarithmic_error: 14.0804\n",
      "Epoch 19/20\n",
      "90087/90087 [==============================] - 5s 52us/step - loss: 3511.0327 - mean_squared_logarithmic_error: 13.7238 - val_loss: 3697.0804 - val_mean_squared_logarithmic_error: 13.3823\n",
      "Epoch 20/20\n",
      "90087/90087 [==============================] - 5s 54us/step - loss: 3511.0234 - mean_squared_logarithmic_error: 13.0618 - val_loss: 3699.2199 - val_mean_squared_logarithmic_error: 12.7542\n"
     ]
    }
   ],
   "source": [
    "history = model1.fit(X_train, y_train,\n",
    "                     validation_data=(X_validation, y_validation),\n",
    "                     epochs=20,\n",
    "                     batch_size=32,\n",
    "                     callbacks = [early_stop]\n",
    "                     )"
   ]
  },
  {
   "cell_type": "code",
   "execution_count": null,
   "metadata": {
    "colab": {
     "base_uri": "https://localhost:8080/",
     "height": 34
    },
    "colab_type": "code",
    "id": "QQkbKm1-j3sD",
    "outputId": "271037d2-c3d0-412f-b736-9a48a3076d04"
   },
   "outputs": [
    {
     "data": {
      "text/plain": [
       "array([23.72,  9.52, 68.64, ..., 28.79, 49.06, 36.68])"
      ]
     },
     "execution_count": 126,
     "metadata": {
      "tags": []
     },
     "output_type": "execute_result"
    }
   ],
   "source": [
    "rf_testpreds"
   ]
  },
  {
   "cell_type": "code",
   "execution_count": null,
   "metadata": {
    "colab": {},
    "colab_type": "code",
    "id": "Wg5PUwCIiKSS"
   },
   "outputs": [],
   "source": [
    "nn1_testset = pd.Series([nn1_testsetpreds])"
   ]
  },
  {
   "cell_type": "code",
   "execution_count": null,
   "metadata": {
    "colab": {
     "base_uri": "https://localhost:8080/",
     "height": 52
    },
    "colab_type": "code",
    "id": "idGU_NPvicIb",
    "outputId": "84b59243-a817-4342-c5c9-cc2b8b1aa16a"
   },
   "outputs": [
    {
     "data": {
      "text/plain": [
       "0    [[51.582718], [51.582718], [51.582718], [51.58...\n",
       "dtype: object"
      ]
     },
     "execution_count": 112,
     "metadata": {
      "tags": []
     },
     "output_type": "execute_result"
    }
   ],
   "source": [
    "nn1_testset"
   ]
  },
  {
   "cell_type": "code",
   "execution_count": null,
   "metadata": {
    "colab": {},
    "colab_type": "code",
    "id": "dYG48Jw0ige_"
   },
   "outputs": [],
   "source": [
    "test['units_sold'] = nn1_testsetpreds"
   ]
  },
  {
   "cell_type": "code",
   "execution_count": null,
   "metadata": {
    "colab": {
     "base_uri": "https://localhost:8080/",
     "height": 206
    },
    "colab_type": "code",
    "id": "VcgJPZDXiq12",
    "outputId": "80df385b-5a42-4a70-bb0c-1ae342b6d118"
   },
   "outputs": [
    {
     "data": {
      "text/html": [
       "<div>\n",
       "<style scoped>\n",
       "    .dataframe tbody tr th:only-of-type {\n",
       "        vertical-align: middle;\n",
       "    }\n",
       "\n",
       "    .dataframe tbody tr th {\n",
       "        vertical-align: top;\n",
       "    }\n",
       "\n",
       "    .dataframe thead th {\n",
       "        text-align: right;\n",
       "    }\n",
       "</style>\n",
       "<table border=\"1\" class=\"dataframe\">\n",
       "  <thead>\n",
       "    <tr style=\"text-align: right;\">\n",
       "      <th></th>\n",
       "      <th>record_ID</th>\n",
       "      <th>week</th>\n",
       "      <th>store_id</th>\n",
       "      <th>sku_id</th>\n",
       "      <th>total_price</th>\n",
       "      <th>base_price</th>\n",
       "      <th>is_featured_sku</th>\n",
       "      <th>is_display_sku</th>\n",
       "      <th>units_sold</th>\n",
       "    </tr>\n",
       "  </thead>\n",
       "  <tbody>\n",
       "    <tr>\n",
       "      <th>0</th>\n",
       "      <td>212645</td>\n",
       "      <td>16/07/13</td>\n",
       "      <td>8091</td>\n",
       "      <td>216418</td>\n",
       "      <td>108.3000</td>\n",
       "      <td>108.3000</td>\n",
       "      <td>0</td>\n",
       "      <td>0</td>\n",
       "      <td>51.582718</td>\n",
       "    </tr>\n",
       "    <tr>\n",
       "      <th>1</th>\n",
       "      <td>212646</td>\n",
       "      <td>16/07/13</td>\n",
       "      <td>8091</td>\n",
       "      <td>216419</td>\n",
       "      <td>109.0125</td>\n",
       "      <td>109.0125</td>\n",
       "      <td>0</td>\n",
       "      <td>0</td>\n",
       "      <td>51.582718</td>\n",
       "    </tr>\n",
       "    <tr>\n",
       "      <th>2</th>\n",
       "      <td>212647</td>\n",
       "      <td>16/07/13</td>\n",
       "      <td>8091</td>\n",
       "      <td>216425</td>\n",
       "      <td>133.9500</td>\n",
       "      <td>133.9500</td>\n",
       "      <td>0</td>\n",
       "      <td>0</td>\n",
       "      <td>51.582718</td>\n",
       "    </tr>\n",
       "    <tr>\n",
       "      <th>3</th>\n",
       "      <td>212648</td>\n",
       "      <td>16/07/13</td>\n",
       "      <td>8091</td>\n",
       "      <td>216233</td>\n",
       "      <td>133.9500</td>\n",
       "      <td>133.9500</td>\n",
       "      <td>0</td>\n",
       "      <td>0</td>\n",
       "      <td>51.582718</td>\n",
       "    </tr>\n",
       "    <tr>\n",
       "      <th>4</th>\n",
       "      <td>212649</td>\n",
       "      <td>16/07/13</td>\n",
       "      <td>8091</td>\n",
       "      <td>217390</td>\n",
       "      <td>176.7000</td>\n",
       "      <td>176.7000</td>\n",
       "      <td>0</td>\n",
       "      <td>0</td>\n",
       "      <td>51.582718</td>\n",
       "    </tr>\n",
       "  </tbody>\n",
       "</table>\n",
       "</div>"
      ],
      "text/plain": [
       "   record_ID      week  store_id  ...  is_featured_sku  is_display_sku  units_sold\n",
       "0     212645  16/07/13      8091  ...                0               0   51.582718\n",
       "1     212646  16/07/13      8091  ...                0               0   51.582718\n",
       "2     212647  16/07/13      8091  ...                0               0   51.582718\n",
       "3     212648  16/07/13      8091  ...                0               0   51.582718\n",
       "4     212649  16/07/13      8091  ...                0               0   51.582718\n",
       "\n",
       "[5 rows x 9 columns]"
      ]
     },
     "execution_count": 122,
     "metadata": {
      "tags": []
     },
     "output_type": "execute_result"
    }
   ],
   "source": [
    "test.head()"
   ]
  },
  {
   "cell_type": "code",
   "execution_count": null,
   "metadata": {
    "colab": {},
    "colab_type": "code",
    "id": "TjBsXplBiz0F"
   },
   "outputs": [],
   "source": [
    "submission = test.drop(columns=['week','store_id','store_id','sku_id', 'total_price', 'base_price', 'is_featured_sku', 'is_display_sku'])"
   ]
  },
  {
   "cell_type": "code",
   "execution_count": null,
   "metadata": {
    "colab": {
     "base_uri": "https://localhost:8080/",
     "height": 424
    },
    "colab_type": "code",
    "id": "0jvBgQ6-jeiV",
    "outputId": "a374b4b7-fe9a-41dd-a32d-d2f882eac25a"
   },
   "outputs": [
    {
     "data": {
      "text/html": [
       "<div>\n",
       "<style scoped>\n",
       "    .dataframe tbody tr th:only-of-type {\n",
       "        vertical-align: middle;\n",
       "    }\n",
       "\n",
       "    .dataframe tbody tr th {\n",
       "        vertical-align: top;\n",
       "    }\n",
       "\n",
       "    .dataframe thead th {\n",
       "        text-align: right;\n",
       "    }\n",
       "</style>\n",
       "<table border=\"1\" class=\"dataframe\">\n",
       "  <thead>\n",
       "    <tr style=\"text-align: right;\">\n",
       "      <th></th>\n",
       "      <th>record_ID</th>\n",
       "      <th>units_sold</th>\n",
       "    </tr>\n",
       "  </thead>\n",
       "  <tbody>\n",
       "    <tr>\n",
       "      <th>0</th>\n",
       "      <td>212645</td>\n",
       "      <td>51.582718</td>\n",
       "    </tr>\n",
       "    <tr>\n",
       "      <th>1</th>\n",
       "      <td>212646</td>\n",
       "      <td>51.582718</td>\n",
       "    </tr>\n",
       "    <tr>\n",
       "      <th>2</th>\n",
       "      <td>212647</td>\n",
       "      <td>51.582718</td>\n",
       "    </tr>\n",
       "    <tr>\n",
       "      <th>3</th>\n",
       "      <td>212648</td>\n",
       "      <td>51.582718</td>\n",
       "    </tr>\n",
       "    <tr>\n",
       "      <th>4</th>\n",
       "      <td>212649</td>\n",
       "      <td>51.582718</td>\n",
       "    </tr>\n",
       "    <tr>\n",
       "      <th>...</th>\n",
       "      <td>...</td>\n",
       "      <td>...</td>\n",
       "    </tr>\n",
       "    <tr>\n",
       "      <th>13855</th>\n",
       "      <td>232281</td>\n",
       "      <td>51.582718</td>\n",
       "    </tr>\n",
       "    <tr>\n",
       "      <th>13856</th>\n",
       "      <td>232282</td>\n",
       "      <td>51.582718</td>\n",
       "    </tr>\n",
       "    <tr>\n",
       "      <th>13857</th>\n",
       "      <td>232285</td>\n",
       "      <td>51.582718</td>\n",
       "    </tr>\n",
       "    <tr>\n",
       "      <th>13858</th>\n",
       "      <td>232286</td>\n",
       "      <td>51.582718</td>\n",
       "    </tr>\n",
       "    <tr>\n",
       "      <th>13859</th>\n",
       "      <td>232287</td>\n",
       "      <td>51.582718</td>\n",
       "    </tr>\n",
       "  </tbody>\n",
       "</table>\n",
       "<p>13860 rows × 2 columns</p>\n",
       "</div>"
      ],
      "text/plain": [
       "       record_ID  units_sold\n",
       "0         212645   51.582718\n",
       "1         212646   51.582718\n",
       "2         212647   51.582718\n",
       "3         212648   51.582718\n",
       "4         212649   51.582718\n",
       "...          ...         ...\n",
       "13855     232281   51.582718\n",
       "13856     232282   51.582718\n",
       "13857     232285   51.582718\n",
       "13858     232286   51.582718\n",
       "13859     232287   51.582718\n",
       "\n",
       "[13860 rows x 2 columns]"
      ]
     },
     "execution_count": 124,
     "metadata": {
      "tags": []
     },
     "output_type": "execute_result"
    }
   ],
   "source": [
    "submission"
   ]
  },
  {
   "cell_type": "code",
   "execution_count": null,
   "metadata": {
    "colab": {
     "base_uri": "https://localhost:8080/",
     "height": 206
    },
    "colab_type": "code",
    "id": "Q8k-rEQ3nLD8",
    "outputId": "315e59f4-4f10-44ec-e043-65d87fa5fe34"
   },
   "outputs": [
    {
     "data": {
      "text/html": [
       "<div>\n",
       "<style scoped>\n",
       "    .dataframe tbody tr th:only-of-type {\n",
       "        vertical-align: middle;\n",
       "    }\n",
       "\n",
       "    .dataframe tbody tr th {\n",
       "        vertical-align: top;\n",
       "    }\n",
       "\n",
       "    .dataframe thead th {\n",
       "        text-align: right;\n",
       "    }\n",
       "</style>\n",
       "<table border=\"1\" class=\"dataframe\">\n",
       "  <thead>\n",
       "    <tr style=\"text-align: right;\">\n",
       "      <th></th>\n",
       "      <th>record_ID</th>\n",
       "      <th>week</th>\n",
       "      <th>store_id</th>\n",
       "      <th>sku_id</th>\n",
       "      <th>total_price</th>\n",
       "      <th>base_price</th>\n",
       "      <th>is_featured_sku</th>\n",
       "      <th>is_display_sku</th>\n",
       "      <th>day_of_year</th>\n",
       "      <th>year</th>\n",
       "    </tr>\n",
       "  </thead>\n",
       "  <tbody>\n",
       "    <tr>\n",
       "      <th>0</th>\n",
       "      <td>212645</td>\n",
       "      <td>2013-07-16</td>\n",
       "      <td>8091</td>\n",
       "      <td>216418</td>\n",
       "      <td>108.3000</td>\n",
       "      <td>108.3000</td>\n",
       "      <td>0</td>\n",
       "      <td>0</td>\n",
       "      <td>197</td>\n",
       "      <td>2013</td>\n",
       "    </tr>\n",
       "    <tr>\n",
       "      <th>1</th>\n",
       "      <td>212646</td>\n",
       "      <td>2013-07-16</td>\n",
       "      <td>8091</td>\n",
       "      <td>216419</td>\n",
       "      <td>109.0125</td>\n",
       "      <td>109.0125</td>\n",
       "      <td>0</td>\n",
       "      <td>0</td>\n",
       "      <td>197</td>\n",
       "      <td>2013</td>\n",
       "    </tr>\n",
       "    <tr>\n",
       "      <th>2</th>\n",
       "      <td>212647</td>\n",
       "      <td>2013-07-16</td>\n",
       "      <td>8091</td>\n",
       "      <td>216425</td>\n",
       "      <td>133.9500</td>\n",
       "      <td>133.9500</td>\n",
       "      <td>0</td>\n",
       "      <td>0</td>\n",
       "      <td>197</td>\n",
       "      <td>2013</td>\n",
       "    </tr>\n",
       "    <tr>\n",
       "      <th>3</th>\n",
       "      <td>212648</td>\n",
       "      <td>2013-07-16</td>\n",
       "      <td>8091</td>\n",
       "      <td>216233</td>\n",
       "      <td>133.9500</td>\n",
       "      <td>133.9500</td>\n",
       "      <td>0</td>\n",
       "      <td>0</td>\n",
       "      <td>197</td>\n",
       "      <td>2013</td>\n",
       "    </tr>\n",
       "    <tr>\n",
       "      <th>4</th>\n",
       "      <td>212649</td>\n",
       "      <td>2013-07-16</td>\n",
       "      <td>8091</td>\n",
       "      <td>217390</td>\n",
       "      <td>176.7000</td>\n",
       "      <td>176.7000</td>\n",
       "      <td>0</td>\n",
       "      <td>0</td>\n",
       "      <td>197</td>\n",
       "      <td>2013</td>\n",
       "    </tr>\n",
       "  </tbody>\n",
       "</table>\n",
       "</div>"
      ],
      "text/plain": [
       "   record_ID       week  store_id  ...  is_display_sku  day_of_year  year\n",
       "0     212645 2013-07-16      8091  ...               0          197  2013\n",
       "1     212646 2013-07-16      8091  ...               0          197  2013\n",
       "2     212647 2013-07-16      8091  ...               0          197  2013\n",
       "3     212648 2013-07-16      8091  ...               0          197  2013\n",
       "4     212649 2013-07-16      8091  ...               0          197  2013\n",
       "\n",
       "[5 rows x 10 columns]"
      ]
     },
     "execution_count": 147,
     "metadata": {
      "tags": []
     },
     "output_type": "execute_result"
    }
   ],
   "source": [
    "test.head()"
   ]
  },
  {
   "cell_type": "code",
   "execution_count": null,
   "metadata": {
    "colab": {},
    "colab_type": "code",
    "id": "0adVgLlOnHJJ"
   },
   "outputs": [],
   "source": [
    "test_df = test.drop(columns=['record_ID', 'week'])"
   ]
  },
  {
   "cell_type": "code",
   "execution_count": null,
   "metadata": {
    "colab": {},
    "colab_type": "code",
    "id": "PO4HFcZSkoXA"
   },
   "outputs": [],
   "source": [
    "submission_rf = rf_model.predict(test_df)"
   ]
  },
  {
   "cell_type": "code",
   "execution_count": null,
   "metadata": {
    "colab": {
     "base_uri": "https://localhost:8080/",
     "height": 34
    },
    "colab_type": "code",
    "id": "AMTjOfl6mDIG",
    "outputId": "dfc05e44-fc77-4dcc-884f-a02072fa3da9"
   },
   "outputs": [
    {
     "data": {
      "text/plain": [
       "array([22.61, 21.52, 36.77, ..., 38.27, 11.91,  7.72])"
      ]
     },
     "execution_count": 150,
     "metadata": {
      "tags": []
     },
     "output_type": "execute_result"
    }
   ],
   "source": [
    "submission_rf"
   ]
  },
  {
   "cell_type": "code",
   "execution_count": null,
   "metadata": {
    "colab": {
     "base_uri": "https://localhost:8080/",
     "height": 34
    },
    "colab_type": "code",
    "id": "SDGZVLxInUnS",
    "outputId": "4a83c184-c515-4304-9e44-e3e7798ba764"
   },
   "outputs": [
    {
     "data": {
      "text/plain": [
       "array([22, 21, 36, ..., 38, 11,  7])"
      ]
     },
     "execution_count": 152,
     "metadata": {
      "tags": []
     },
     "output_type": "execute_result"
    }
   ],
   "source": [
    "submission_rf.astype(int)"
   ]
  },
  {
   "cell_type": "code",
   "execution_count": null,
   "metadata": {
    "colab": {},
    "colab_type": "code",
    "id": "GxgabISDneo3"
   },
   "outputs": [],
   "source": [
    "submission.drop(columns='units_sold', inplace=True)"
   ]
  },
  {
   "cell_type": "code",
   "execution_count": null,
   "metadata": {
    "colab": {},
    "colab_type": "code",
    "id": "ZZqk_HAjntVE"
   },
   "outputs": [],
   "source": [
    "submission['units_sold'] = submission_rf.astype(int)"
   ]
  },
  {
   "cell_type": "markdown",
   "metadata": {},
   "source": [
    "### Feature engineering"
   ]
  },
  {
   "cell_type": "code",
   "execution_count": 63,
   "metadata": {},
   "outputs": [
    {
     "data": {
      "text/html": [
       "<div>\n",
       "<style scoped>\n",
       "    .dataframe tbody tr th:only-of-type {\n",
       "        vertical-align: middle;\n",
       "    }\n",
       "\n",
       "    .dataframe tbody tr th {\n",
       "        vertical-align: top;\n",
       "    }\n",
       "\n",
       "    .dataframe thead th {\n",
       "        text-align: right;\n",
       "    }\n",
       "</style>\n",
       "<table border=\"1\" class=\"dataframe\">\n",
       "  <thead>\n",
       "    <tr style=\"text-align: right;\">\n",
       "      <th></th>\n",
       "      <th>record_ID</th>\n",
       "      <th>week</th>\n",
       "      <th>store_id</th>\n",
       "      <th>sku_id</th>\n",
       "      <th>total_price</th>\n",
       "      <th>base_price</th>\n",
       "      <th>is_featured_sku</th>\n",
       "      <th>is_display_sku</th>\n",
       "      <th>units_sold</th>\n",
       "      <th>day_of_year</th>\n",
       "      <th>year</th>\n",
       "      <th>store_sku</th>\n",
       "    </tr>\n",
       "  </thead>\n",
       "  <tbody>\n",
       "    <tr>\n",
       "      <th>0</th>\n",
       "      <td>1</td>\n",
       "      <td>2011-01-17</td>\n",
       "      <td>8091</td>\n",
       "      <td>216418</td>\n",
       "      <td>99.0375</td>\n",
       "      <td>111.8625</td>\n",
       "      <td>0</td>\n",
       "      <td>0</td>\n",
       "      <td>20</td>\n",
       "      <td>17</td>\n",
       "      <td>2011</td>\n",
       "      <td>8091-216418</td>\n",
       "    </tr>\n",
       "    <tr>\n",
       "      <th>1</th>\n",
       "      <td>2</td>\n",
       "      <td>2011-01-17</td>\n",
       "      <td>8091</td>\n",
       "      <td>216419</td>\n",
       "      <td>99.0375</td>\n",
       "      <td>99.0375</td>\n",
       "      <td>0</td>\n",
       "      <td>0</td>\n",
       "      <td>28</td>\n",
       "      <td>17</td>\n",
       "      <td>2011</td>\n",
       "      <td>8091-216419</td>\n",
       "    </tr>\n",
       "    <tr>\n",
       "      <th>2</th>\n",
       "      <td>3</td>\n",
       "      <td>2011-01-17</td>\n",
       "      <td>8091</td>\n",
       "      <td>216425</td>\n",
       "      <td>133.9500</td>\n",
       "      <td>133.9500</td>\n",
       "      <td>0</td>\n",
       "      <td>0</td>\n",
       "      <td>19</td>\n",
       "      <td>17</td>\n",
       "      <td>2011</td>\n",
       "      <td>8091-216425</td>\n",
       "    </tr>\n",
       "    <tr>\n",
       "      <th>3</th>\n",
       "      <td>4</td>\n",
       "      <td>2011-01-17</td>\n",
       "      <td>8091</td>\n",
       "      <td>216233</td>\n",
       "      <td>133.9500</td>\n",
       "      <td>133.9500</td>\n",
       "      <td>0</td>\n",
       "      <td>0</td>\n",
       "      <td>44</td>\n",
       "      <td>17</td>\n",
       "      <td>2011</td>\n",
       "      <td>8091-216233</td>\n",
       "    </tr>\n",
       "    <tr>\n",
       "      <th>4</th>\n",
       "      <td>5</td>\n",
       "      <td>2011-01-17</td>\n",
       "      <td>8091</td>\n",
       "      <td>217390</td>\n",
       "      <td>141.0750</td>\n",
       "      <td>141.0750</td>\n",
       "      <td>0</td>\n",
       "      <td>0</td>\n",
       "      <td>52</td>\n",
       "      <td>17</td>\n",
       "      <td>2011</td>\n",
       "      <td>8091-217390</td>\n",
       "    </tr>\n",
       "  </tbody>\n",
       "</table>\n",
       "</div>"
      ],
      "text/plain": [
       "   record_ID       week store_id  sku_id  total_price  base_price  \\\n",
       "0          1 2011-01-17     8091  216418      99.0375    111.8625   \n",
       "1          2 2011-01-17     8091  216419      99.0375     99.0375   \n",
       "2          3 2011-01-17     8091  216425     133.9500    133.9500   \n",
       "3          4 2011-01-17     8091  216233     133.9500    133.9500   \n",
       "4          5 2011-01-17     8091  217390     141.0750    141.0750   \n",
       "\n",
       "   is_featured_sku  is_display_sku  units_sold  day_of_year  year    store_sku  \n",
       "0                0               0          20           17  2011  8091-216418  \n",
       "1                0               0          28           17  2011  8091-216419  \n",
       "2                0               0          19           17  2011  8091-216425  \n",
       "3                0               0          44           17  2011  8091-216233  \n",
       "4                0               0          52           17  2011  8091-217390  "
      ]
     },
     "execution_count": 63,
     "metadata": {},
     "output_type": "execute_result"
    }
   ],
   "source": [
    "train.head()"
   ]
  },
  {
   "cell_type": "code",
   "execution_count": 69,
   "metadata": {},
   "outputs": [],
   "source": [
    "train['price_diff'] = train['base_price'] - train['total_price']"
   ]
  },
  {
   "cell_type": "code",
   "execution_count": 70,
   "metadata": {},
   "outputs": [],
   "source": [
    "train['units_sold_prev_week'] = train['units_sold'].shift(1)"
   ]
  },
  {
   "cell_type": "code",
   "execution_count": 71,
   "metadata": {},
   "outputs": [],
   "source": [
    "train.dropna(inplace=True)"
   ]
  },
  {
   "cell_type": "code",
   "execution_count": 72,
   "metadata": {},
   "outputs": [
    {
     "data": {
      "text/html": [
       "<div>\n",
       "<style scoped>\n",
       "    .dataframe tbody tr th:only-of-type {\n",
       "        vertical-align: middle;\n",
       "    }\n",
       "\n",
       "    .dataframe tbody tr th {\n",
       "        vertical-align: top;\n",
       "    }\n",
       "\n",
       "    .dataframe thead th {\n",
       "        text-align: right;\n",
       "    }\n",
       "</style>\n",
       "<table border=\"1\" class=\"dataframe\">\n",
       "  <thead>\n",
       "    <tr style=\"text-align: right;\">\n",
       "      <th></th>\n",
       "      <th>record_ID</th>\n",
       "      <th>week</th>\n",
       "      <th>store_id</th>\n",
       "      <th>sku_id</th>\n",
       "      <th>total_price</th>\n",
       "      <th>base_price</th>\n",
       "      <th>is_featured_sku</th>\n",
       "      <th>is_display_sku</th>\n",
       "      <th>units_sold</th>\n",
       "      <th>day_of_year</th>\n",
       "      <th>year</th>\n",
       "      <th>store_sku</th>\n",
       "      <th>price_diff</th>\n",
       "      <th>units_sold_prev_week</th>\n",
       "    </tr>\n",
       "  </thead>\n",
       "  <tbody>\n",
       "    <tr>\n",
       "      <th>1</th>\n",
       "      <td>2</td>\n",
       "      <td>2011-01-17</td>\n",
       "      <td>8091</td>\n",
       "      <td>216419</td>\n",
       "      <td>99.0375</td>\n",
       "      <td>99.0375</td>\n",
       "      <td>0</td>\n",
       "      <td>0</td>\n",
       "      <td>28</td>\n",
       "      <td>17</td>\n",
       "      <td>2011</td>\n",
       "      <td>8091-216419</td>\n",
       "      <td>0.0</td>\n",
       "      <td>20.0</td>\n",
       "    </tr>\n",
       "    <tr>\n",
       "      <th>2</th>\n",
       "      <td>3</td>\n",
       "      <td>2011-01-17</td>\n",
       "      <td>8091</td>\n",
       "      <td>216425</td>\n",
       "      <td>133.9500</td>\n",
       "      <td>133.9500</td>\n",
       "      <td>0</td>\n",
       "      <td>0</td>\n",
       "      <td>19</td>\n",
       "      <td>17</td>\n",
       "      <td>2011</td>\n",
       "      <td>8091-216425</td>\n",
       "      <td>0.0</td>\n",
       "      <td>28.0</td>\n",
       "    </tr>\n",
       "    <tr>\n",
       "      <th>3</th>\n",
       "      <td>4</td>\n",
       "      <td>2011-01-17</td>\n",
       "      <td>8091</td>\n",
       "      <td>216233</td>\n",
       "      <td>133.9500</td>\n",
       "      <td>133.9500</td>\n",
       "      <td>0</td>\n",
       "      <td>0</td>\n",
       "      <td>44</td>\n",
       "      <td>17</td>\n",
       "      <td>2011</td>\n",
       "      <td>8091-216233</td>\n",
       "      <td>0.0</td>\n",
       "      <td>19.0</td>\n",
       "    </tr>\n",
       "    <tr>\n",
       "      <th>4</th>\n",
       "      <td>5</td>\n",
       "      <td>2011-01-17</td>\n",
       "      <td>8091</td>\n",
       "      <td>217390</td>\n",
       "      <td>141.0750</td>\n",
       "      <td>141.0750</td>\n",
       "      <td>0</td>\n",
       "      <td>0</td>\n",
       "      <td>52</td>\n",
       "      <td>17</td>\n",
       "      <td>2011</td>\n",
       "      <td>8091-217390</td>\n",
       "      <td>0.0</td>\n",
       "      <td>44.0</td>\n",
       "    </tr>\n",
       "    <tr>\n",
       "      <th>5</th>\n",
       "      <td>9</td>\n",
       "      <td>2011-01-17</td>\n",
       "      <td>8091</td>\n",
       "      <td>219009</td>\n",
       "      <td>227.2875</td>\n",
       "      <td>227.2875</td>\n",
       "      <td>0</td>\n",
       "      <td>0</td>\n",
       "      <td>18</td>\n",
       "      <td>17</td>\n",
       "      <td>2011</td>\n",
       "      <td>8091-219009</td>\n",
       "      <td>0.0</td>\n",
       "      <td>52.0</td>\n",
       "    </tr>\n",
       "  </tbody>\n",
       "</table>\n",
       "</div>"
      ],
      "text/plain": [
       "   record_ID       week  store_id  sku_id  total_price  base_price  \\\n",
       "1          2 2011-01-17      8091  216419      99.0375     99.0375   \n",
       "2          3 2011-01-17      8091  216425     133.9500    133.9500   \n",
       "3          4 2011-01-17      8091  216233     133.9500    133.9500   \n",
       "4          5 2011-01-17      8091  217390     141.0750    141.0750   \n",
       "5          9 2011-01-17      8091  219009     227.2875    227.2875   \n",
       "\n",
       "   is_featured_sku  is_display_sku  units_sold  day_of_year  year  \\\n",
       "1                0               0          28           17  2011   \n",
       "2                0               0          19           17  2011   \n",
       "3                0               0          44           17  2011   \n",
       "4                0               0          52           17  2011   \n",
       "5                0               0          18           17  2011   \n",
       "\n",
       "     store_sku  price_diff  units_sold_prev_week  \n",
       "1  8091-216419         0.0                  20.0  \n",
       "2  8091-216425         0.0                  28.0  \n",
       "3  8091-216233         0.0                  19.0  \n",
       "4  8091-217390         0.0                  44.0  \n",
       "5  8091-219009         0.0                  52.0  "
      ]
     },
     "execution_count": 72,
     "metadata": {},
     "output_type": "execute_result"
    }
   ],
   "source": [
    "train.head()"
   ]
  },
  {
   "cell_type": "code",
   "execution_count": 250,
   "metadata": {
    "colab": {},
    "colab_type": "code",
    "id": "B_koIXkiS6U2"
   },
   "outputs": [],
   "source": [
    "X = train[['store_id', 'sku_id', 'total_price', 'base_price', 'is_featured_sku', 'is_display_sku', 'day_of_year', 'year', 'price_diff', 'units_sold_prev_week']]\n",
    "y = train['units_sold']"
   ]
  },
  {
   "cell_type": "code",
   "execution_count": 251,
   "metadata": {
    "colab": {},
    "colab_type": "code",
    "id": "tE64j21vS6U4"
   },
   "outputs": [],
   "source": [
    "X_train, X_test, y_train, y_test = train_test_split(X, y, test_size = 0.25, random_state = 42)\n",
    "X_train, X_validation, y_train, y_validation = train_test_split(X_train, y_train, test_size=0.2)"
   ]
  },
  {
   "cell_type": "code",
   "execution_count": 252,
   "metadata": {},
   "outputs": [
    {
     "data": {
      "text/plain": [
       "(90086, 10)"
      ]
     },
     "execution_count": 252,
     "metadata": {},
     "output_type": "execute_result"
    }
   ],
   "source": [
    "X_train.shape"
   ]
  },
  {
   "cell_type": "code",
   "execution_count": 253,
   "metadata": {},
   "outputs": [],
   "source": [
    "# sc = StandardScaler()\n",
    "# X_train_sc = sc.fit_transform(X_train)\n",
    "# X_val_sc = sc.transform(X_validation)\n",
    "# X_test_sc = sc.transform(X_test)"
   ]
  },
  {
   "cell_type": "code",
   "execution_count": 258,
   "metadata": {},
   "outputs": [
    {
     "data": {
      "text/plain": [
       "(90086, 10)"
      ]
     },
     "execution_count": 258,
     "metadata": {},
     "output_type": "execute_result"
    }
   ],
   "source": [
    "X_train.shape"
   ]
  },
  {
   "cell_type": "code",
   "execution_count": 255,
   "metadata": {
    "colab": {},
    "colab_type": "code",
    "id": "F8YwMB65S6U6"
   },
   "outputs": [],
   "source": [
    "rf2 = RandomForestRegressor()"
   ]
  },
  {
   "cell_type": "code",
   "execution_count": 257,
   "metadata": {
    "colab": {
     "base_uri": "https://localhost:8080/",
     "height": 34
    },
    "colab_type": "code",
    "id": "NeJw6_17S6U7",
    "outputId": "8fbaeb93-f8d0-4947-a28d-793228cb033d"
   },
   "outputs": [
    {
     "data": {
      "text/plain": [
       "0.7460383142123538"
      ]
     },
     "execution_count": 257,
     "metadata": {},
     "output_type": "execute_result"
    }
   ],
   "source": [
    "cross_val_score(rf2, X_train, y_train, cv = 5).mean()"
   ]
  },
  {
   "cell_type": "code",
   "execution_count": 259,
   "metadata": {
    "colab": {},
    "colab_type": "code",
    "id": "7pquy7NSS6U9"
   },
   "outputs": [],
   "source": [
    "rf_model2 = rf2.fit(X_train, y_train)"
   ]
  },
  {
   "cell_type": "code",
   "execution_count": 260,
   "metadata": {
    "colab": {},
    "colab_type": "code",
    "id": "H_Ya9Fv6S6U_"
   },
   "outputs": [],
   "source": [
    "rf_trainpreds_2 = rf_model2.predict(X_train)\n",
    "rf_valpreds_2 = rf_model2.predict(X_validation)"
   ]
  },
  {
   "cell_type": "code",
   "execution_count": 261,
   "metadata": {
    "colab": {
     "base_uri": "https://localhost:8080/",
     "height": 86
    },
    "colab_type": "code",
    "id": "p3ZhEbxzS6VB",
    "outputId": "3599a53b-c140-499b-ead1-8b4a7e44a51b"
   },
   "outputs": [
    {
     "name": "stdout",
     "output_type": "stream",
     "text": [
      "0.9657821029561751\n",
      "0.7847628135559948\n",
      "20.29737259276497\n",
      "43.896642917488506\n"
     ]
    }
   ],
   "source": [
    "print(r2_score(y_train, rf_trainpreds_2))\n",
    "print(r2_score(y_validation, rf_valpreds_2))\n",
    "print(rmsle(y_train, rf_trainpreds_2))\n",
    "print(rmsle(y_validation, rf_valpreds_2))"
   ]
  },
  {
   "cell_type": "code",
   "execution_count": 262,
   "metadata": {},
   "outputs": [],
   "source": [
    "rf_testpreds_2 = rf_model2.predict(X_test)"
   ]
  },
  {
   "cell_type": "code",
   "execution_count": 263,
   "metadata": {},
   "outputs": [
    {
     "name": "stdout",
     "output_type": "stream",
     "text": [
      "0.7688877568755238\n",
      "43.41657929466414\n"
     ]
    }
   ],
   "source": [
    "print(r2_score(y_test, rf_testpreds_2))\n",
    "print(rmsle(y_test, rf_testpreds_2))"
   ]
  },
  {
   "cell_type": "markdown",
   "metadata": {},
   "source": [
    "### Poly features"
   ]
  },
  {
   "cell_type": "code",
   "execution_count": 73,
   "metadata": {},
   "outputs": [
    {
     "data": {
      "text/html": [
       "<div>\n",
       "<style scoped>\n",
       "    .dataframe tbody tr th:only-of-type {\n",
       "        vertical-align: middle;\n",
       "    }\n",
       "\n",
       "    .dataframe tbody tr th {\n",
       "        vertical-align: top;\n",
       "    }\n",
       "\n",
       "    .dataframe thead th {\n",
       "        text-align: right;\n",
       "    }\n",
       "</style>\n",
       "<table border=\"1\" class=\"dataframe\">\n",
       "  <thead>\n",
       "    <tr style=\"text-align: right;\">\n",
       "      <th></th>\n",
       "      <th>record_ID</th>\n",
       "      <th>week</th>\n",
       "      <th>store_id</th>\n",
       "      <th>sku_id</th>\n",
       "      <th>total_price</th>\n",
       "      <th>base_price</th>\n",
       "      <th>is_featured_sku</th>\n",
       "      <th>is_display_sku</th>\n",
       "      <th>units_sold</th>\n",
       "      <th>day_of_year</th>\n",
       "      <th>year</th>\n",
       "      <th>store_sku</th>\n",
       "      <th>price_diff</th>\n",
       "      <th>units_sold_prev_week</th>\n",
       "    </tr>\n",
       "  </thead>\n",
       "  <tbody>\n",
       "    <tr>\n",
       "      <th>1</th>\n",
       "      <td>2</td>\n",
       "      <td>2011-01-17</td>\n",
       "      <td>8091</td>\n",
       "      <td>216419</td>\n",
       "      <td>99.0375</td>\n",
       "      <td>99.0375</td>\n",
       "      <td>0</td>\n",
       "      <td>0</td>\n",
       "      <td>28</td>\n",
       "      <td>17</td>\n",
       "      <td>2011</td>\n",
       "      <td>8091-216419</td>\n",
       "      <td>0.0</td>\n",
       "      <td>20.0</td>\n",
       "    </tr>\n",
       "    <tr>\n",
       "      <th>2</th>\n",
       "      <td>3</td>\n",
       "      <td>2011-01-17</td>\n",
       "      <td>8091</td>\n",
       "      <td>216425</td>\n",
       "      <td>133.9500</td>\n",
       "      <td>133.9500</td>\n",
       "      <td>0</td>\n",
       "      <td>0</td>\n",
       "      <td>19</td>\n",
       "      <td>17</td>\n",
       "      <td>2011</td>\n",
       "      <td>8091-216425</td>\n",
       "      <td>0.0</td>\n",
       "      <td>28.0</td>\n",
       "    </tr>\n",
       "    <tr>\n",
       "      <th>3</th>\n",
       "      <td>4</td>\n",
       "      <td>2011-01-17</td>\n",
       "      <td>8091</td>\n",
       "      <td>216233</td>\n",
       "      <td>133.9500</td>\n",
       "      <td>133.9500</td>\n",
       "      <td>0</td>\n",
       "      <td>0</td>\n",
       "      <td>44</td>\n",
       "      <td>17</td>\n",
       "      <td>2011</td>\n",
       "      <td>8091-216233</td>\n",
       "      <td>0.0</td>\n",
       "      <td>19.0</td>\n",
       "    </tr>\n",
       "    <tr>\n",
       "      <th>4</th>\n",
       "      <td>5</td>\n",
       "      <td>2011-01-17</td>\n",
       "      <td>8091</td>\n",
       "      <td>217390</td>\n",
       "      <td>141.0750</td>\n",
       "      <td>141.0750</td>\n",
       "      <td>0</td>\n",
       "      <td>0</td>\n",
       "      <td>52</td>\n",
       "      <td>17</td>\n",
       "      <td>2011</td>\n",
       "      <td>8091-217390</td>\n",
       "      <td>0.0</td>\n",
       "      <td>44.0</td>\n",
       "    </tr>\n",
       "    <tr>\n",
       "      <th>5</th>\n",
       "      <td>9</td>\n",
       "      <td>2011-01-17</td>\n",
       "      <td>8091</td>\n",
       "      <td>219009</td>\n",
       "      <td>227.2875</td>\n",
       "      <td>227.2875</td>\n",
       "      <td>0</td>\n",
       "      <td>0</td>\n",
       "      <td>18</td>\n",
       "      <td>17</td>\n",
       "      <td>2011</td>\n",
       "      <td>8091-219009</td>\n",
       "      <td>0.0</td>\n",
       "      <td>52.0</td>\n",
       "    </tr>\n",
       "  </tbody>\n",
       "</table>\n",
       "</div>"
      ],
      "text/plain": [
       "   record_ID       week  store_id  sku_id  total_price  base_price  \\\n",
       "1          2 2011-01-17      8091  216419      99.0375     99.0375   \n",
       "2          3 2011-01-17      8091  216425     133.9500    133.9500   \n",
       "3          4 2011-01-17      8091  216233     133.9500    133.9500   \n",
       "4          5 2011-01-17      8091  217390     141.0750    141.0750   \n",
       "5          9 2011-01-17      8091  219009     227.2875    227.2875   \n",
       "\n",
       "   is_featured_sku  is_display_sku  units_sold  day_of_year  year  \\\n",
       "1                0               0          28           17  2011   \n",
       "2                0               0          19           17  2011   \n",
       "3                0               0          44           17  2011   \n",
       "4                0               0          52           17  2011   \n",
       "5                0               0          18           17  2011   \n",
       "\n",
       "     store_sku  price_diff  units_sold_prev_week  \n",
       "1  8091-216419         0.0                  20.0  \n",
       "2  8091-216425         0.0                  28.0  \n",
       "3  8091-216233         0.0                  19.0  \n",
       "4  8091-217390         0.0                  44.0  \n",
       "5  8091-219009         0.0                  52.0  "
      ]
     },
     "execution_count": 73,
     "metadata": {},
     "output_type": "execute_result"
    }
   ],
   "source": [
    "train.head()"
   ]
  },
  {
   "cell_type": "code",
   "execution_count": 74,
   "metadata": {},
   "outputs": [],
   "source": [
    "features = ['total_price', 'base_price', 'is_featured_sku', 'is_display_sku', 'price_diff', 'units_sold_prev_week']"
   ]
  },
  {
   "cell_type": "code",
   "execution_count": 75,
   "metadata": {},
   "outputs": [],
   "source": [
    "# Instantiate PolynomialFeatures\n",
    "\n",
    "poly = PolynomialFeatures(include_bias=False)"
   ]
  },
  {
   "cell_type": "code",
   "execution_count": 76,
   "metadata": {},
   "outputs": [],
   "source": [
    "train_feat = train[features]"
   ]
  },
  {
   "cell_type": "code",
   "execution_count": 77,
   "metadata": {},
   "outputs": [
    {
     "data": {
      "text/plain": [
       "(150145, 27)"
      ]
     },
     "execution_count": 77,
     "metadata": {},
     "output_type": "execute_result"
    }
   ],
   "source": [
    "# Create X_poly\n",
    "train_poly = poly.fit_transform(train_feat)\n",
    "\n",
    "train_poly.shape"
   ]
  },
  {
   "cell_type": "code",
   "execution_count": 78,
   "metadata": {},
   "outputs": [],
   "source": [
    "train_poly_df = pd.DataFrame(train_poly,columns=poly.get_feature_names(features))"
   ]
  },
  {
   "cell_type": "code",
   "execution_count": 79,
   "metadata": {},
   "outputs": [
    {
     "data": {
      "text/html": [
       "<div>\n",
       "<style scoped>\n",
       "    .dataframe tbody tr th:only-of-type {\n",
       "        vertical-align: middle;\n",
       "    }\n",
       "\n",
       "    .dataframe tbody tr th {\n",
       "        vertical-align: top;\n",
       "    }\n",
       "\n",
       "    .dataframe thead th {\n",
       "        text-align: right;\n",
       "    }\n",
       "</style>\n",
       "<table border=\"1\" class=\"dataframe\">\n",
       "  <thead>\n",
       "    <tr style=\"text-align: right;\">\n",
       "      <th></th>\n",
       "      <th>total_price</th>\n",
       "      <th>base_price</th>\n",
       "      <th>is_featured_sku</th>\n",
       "      <th>is_display_sku</th>\n",
       "      <th>price_diff</th>\n",
       "      <th>units_sold_prev_week</th>\n",
       "      <th>total_price^2</th>\n",
       "      <th>total_price base_price</th>\n",
       "      <th>total_price is_featured_sku</th>\n",
       "      <th>total_price is_display_sku</th>\n",
       "      <th>...</th>\n",
       "      <th>is_featured_sku^2</th>\n",
       "      <th>is_featured_sku is_display_sku</th>\n",
       "      <th>is_featured_sku price_diff</th>\n",
       "      <th>is_featured_sku units_sold_prev_week</th>\n",
       "      <th>is_display_sku^2</th>\n",
       "      <th>is_display_sku price_diff</th>\n",
       "      <th>is_display_sku units_sold_prev_week</th>\n",
       "      <th>price_diff^2</th>\n",
       "      <th>price_diff units_sold_prev_week</th>\n",
       "      <th>units_sold_prev_week^2</th>\n",
       "    </tr>\n",
       "  </thead>\n",
       "  <tbody>\n",
       "    <tr>\n",
       "      <th>0</th>\n",
       "      <td>99.0375</td>\n",
       "      <td>99.0375</td>\n",
       "      <td>0.0</td>\n",
       "      <td>0.0</td>\n",
       "      <td>0.0</td>\n",
       "      <td>20.0</td>\n",
       "      <td>9808.426406</td>\n",
       "      <td>9808.426406</td>\n",
       "      <td>0.0</td>\n",
       "      <td>0.0</td>\n",
       "      <td>...</td>\n",
       "      <td>0.0</td>\n",
       "      <td>0.0</td>\n",
       "      <td>0.0</td>\n",
       "      <td>0.0</td>\n",
       "      <td>0.0</td>\n",
       "      <td>0.0</td>\n",
       "      <td>0.0</td>\n",
       "      <td>0.0</td>\n",
       "      <td>0.0</td>\n",
       "      <td>400.0</td>\n",
       "    </tr>\n",
       "    <tr>\n",
       "      <th>1</th>\n",
       "      <td>133.9500</td>\n",
       "      <td>133.9500</td>\n",
       "      <td>0.0</td>\n",
       "      <td>0.0</td>\n",
       "      <td>0.0</td>\n",
       "      <td>28.0</td>\n",
       "      <td>17942.602500</td>\n",
       "      <td>17942.602500</td>\n",
       "      <td>0.0</td>\n",
       "      <td>0.0</td>\n",
       "      <td>...</td>\n",
       "      <td>0.0</td>\n",
       "      <td>0.0</td>\n",
       "      <td>0.0</td>\n",
       "      <td>0.0</td>\n",
       "      <td>0.0</td>\n",
       "      <td>0.0</td>\n",
       "      <td>0.0</td>\n",
       "      <td>0.0</td>\n",
       "      <td>0.0</td>\n",
       "      <td>784.0</td>\n",
       "    </tr>\n",
       "    <tr>\n",
       "      <th>2</th>\n",
       "      <td>133.9500</td>\n",
       "      <td>133.9500</td>\n",
       "      <td>0.0</td>\n",
       "      <td>0.0</td>\n",
       "      <td>0.0</td>\n",
       "      <td>19.0</td>\n",
       "      <td>17942.602500</td>\n",
       "      <td>17942.602500</td>\n",
       "      <td>0.0</td>\n",
       "      <td>0.0</td>\n",
       "      <td>...</td>\n",
       "      <td>0.0</td>\n",
       "      <td>0.0</td>\n",
       "      <td>0.0</td>\n",
       "      <td>0.0</td>\n",
       "      <td>0.0</td>\n",
       "      <td>0.0</td>\n",
       "      <td>0.0</td>\n",
       "      <td>0.0</td>\n",
       "      <td>0.0</td>\n",
       "      <td>361.0</td>\n",
       "    </tr>\n",
       "    <tr>\n",
       "      <th>3</th>\n",
       "      <td>141.0750</td>\n",
       "      <td>141.0750</td>\n",
       "      <td>0.0</td>\n",
       "      <td>0.0</td>\n",
       "      <td>0.0</td>\n",
       "      <td>44.0</td>\n",
       "      <td>19902.155625</td>\n",
       "      <td>19902.155625</td>\n",
       "      <td>0.0</td>\n",
       "      <td>0.0</td>\n",
       "      <td>...</td>\n",
       "      <td>0.0</td>\n",
       "      <td>0.0</td>\n",
       "      <td>0.0</td>\n",
       "      <td>0.0</td>\n",
       "      <td>0.0</td>\n",
       "      <td>0.0</td>\n",
       "      <td>0.0</td>\n",
       "      <td>0.0</td>\n",
       "      <td>0.0</td>\n",
       "      <td>1936.0</td>\n",
       "    </tr>\n",
       "    <tr>\n",
       "      <th>4</th>\n",
       "      <td>227.2875</td>\n",
       "      <td>227.2875</td>\n",
       "      <td>0.0</td>\n",
       "      <td>0.0</td>\n",
       "      <td>0.0</td>\n",
       "      <td>52.0</td>\n",
       "      <td>51659.607656</td>\n",
       "      <td>51659.607656</td>\n",
       "      <td>0.0</td>\n",
       "      <td>0.0</td>\n",
       "      <td>...</td>\n",
       "      <td>0.0</td>\n",
       "      <td>0.0</td>\n",
       "      <td>0.0</td>\n",
       "      <td>0.0</td>\n",
       "      <td>0.0</td>\n",
       "      <td>0.0</td>\n",
       "      <td>0.0</td>\n",
       "      <td>0.0</td>\n",
       "      <td>0.0</td>\n",
       "      <td>2704.0</td>\n",
       "    </tr>\n",
       "  </tbody>\n",
       "</table>\n",
       "<p>5 rows × 27 columns</p>\n",
       "</div>"
      ],
      "text/plain": [
       "   total_price  base_price  is_featured_sku  is_display_sku  price_diff  \\\n",
       "0      99.0375     99.0375              0.0             0.0         0.0   \n",
       "1     133.9500    133.9500              0.0             0.0         0.0   \n",
       "2     133.9500    133.9500              0.0             0.0         0.0   \n",
       "3     141.0750    141.0750              0.0             0.0         0.0   \n",
       "4     227.2875    227.2875              0.0             0.0         0.0   \n",
       "\n",
       "   units_sold_prev_week  total_price^2  total_price base_price  \\\n",
       "0                  20.0    9808.426406             9808.426406   \n",
       "1                  28.0   17942.602500            17942.602500   \n",
       "2                  19.0   17942.602500            17942.602500   \n",
       "3                  44.0   19902.155625            19902.155625   \n",
       "4                  52.0   51659.607656            51659.607656   \n",
       "\n",
       "   total_price is_featured_sku  total_price is_display_sku  ...  \\\n",
       "0                          0.0                         0.0  ...   \n",
       "1                          0.0                         0.0  ...   \n",
       "2                          0.0                         0.0  ...   \n",
       "3                          0.0                         0.0  ...   \n",
       "4                          0.0                         0.0  ...   \n",
       "\n",
       "   is_featured_sku^2  is_featured_sku is_display_sku  \\\n",
       "0                0.0                             0.0   \n",
       "1                0.0                             0.0   \n",
       "2                0.0                             0.0   \n",
       "3                0.0                             0.0   \n",
       "4                0.0                             0.0   \n",
       "\n",
       "   is_featured_sku price_diff  is_featured_sku units_sold_prev_week  \\\n",
       "0                         0.0                                   0.0   \n",
       "1                         0.0                                   0.0   \n",
       "2                         0.0                                   0.0   \n",
       "3                         0.0                                   0.0   \n",
       "4                         0.0                                   0.0   \n",
       "\n",
       "   is_display_sku^2  is_display_sku price_diff  \\\n",
       "0               0.0                        0.0   \n",
       "1               0.0                        0.0   \n",
       "2               0.0                        0.0   \n",
       "3               0.0                        0.0   \n",
       "4               0.0                        0.0   \n",
       "\n",
       "   is_display_sku units_sold_prev_week  price_diff^2  \\\n",
       "0                                  0.0           0.0   \n",
       "1                                  0.0           0.0   \n",
       "2                                  0.0           0.0   \n",
       "3                                  0.0           0.0   \n",
       "4                                  0.0           0.0   \n",
       "\n",
       "   price_diff units_sold_prev_week  units_sold_prev_week^2  \n",
       "0                              0.0                   400.0  \n",
       "1                              0.0                   784.0  \n",
       "2                              0.0                   361.0  \n",
       "3                              0.0                  1936.0  \n",
       "4                              0.0                  2704.0  \n",
       "\n",
       "[5 rows x 27 columns]"
      ]
     },
     "execution_count": 79,
     "metadata": {},
     "output_type": "execute_result"
    }
   ],
   "source": [
    "train_poly_df.head()"
   ]
  },
  {
   "cell_type": "code",
   "execution_count": null,
   "metadata": {},
   "outputs": [],
   "source": []
  },
  {
   "cell_type": "code",
   "execution_count": 80,
   "metadata": {},
   "outputs": [],
   "source": [
    "train_poly_model = train.drop(columns=features)"
   ]
  },
  {
   "cell_type": "code",
   "execution_count": 81,
   "metadata": {},
   "outputs": [
    {
     "data": {
      "text/html": [
       "<div>\n",
       "<style scoped>\n",
       "    .dataframe tbody tr th:only-of-type {\n",
       "        vertical-align: middle;\n",
       "    }\n",
       "\n",
       "    .dataframe tbody tr th {\n",
       "        vertical-align: top;\n",
       "    }\n",
       "\n",
       "    .dataframe thead th {\n",
       "        text-align: right;\n",
       "    }\n",
       "</style>\n",
       "<table border=\"1\" class=\"dataframe\">\n",
       "  <thead>\n",
       "    <tr style=\"text-align: right;\">\n",
       "      <th></th>\n",
       "      <th>record_ID</th>\n",
       "      <th>week</th>\n",
       "      <th>store_id</th>\n",
       "      <th>sku_id</th>\n",
       "      <th>units_sold</th>\n",
       "      <th>day_of_year</th>\n",
       "      <th>year</th>\n",
       "      <th>store_sku</th>\n",
       "    </tr>\n",
       "  </thead>\n",
       "  <tbody>\n",
       "    <tr>\n",
       "      <th>1</th>\n",
       "      <td>2</td>\n",
       "      <td>2011-01-17</td>\n",
       "      <td>8091</td>\n",
       "      <td>216419</td>\n",
       "      <td>28</td>\n",
       "      <td>17</td>\n",
       "      <td>2011</td>\n",
       "      <td>8091-216419</td>\n",
       "    </tr>\n",
       "    <tr>\n",
       "      <th>2</th>\n",
       "      <td>3</td>\n",
       "      <td>2011-01-17</td>\n",
       "      <td>8091</td>\n",
       "      <td>216425</td>\n",
       "      <td>19</td>\n",
       "      <td>17</td>\n",
       "      <td>2011</td>\n",
       "      <td>8091-216425</td>\n",
       "    </tr>\n",
       "    <tr>\n",
       "      <th>3</th>\n",
       "      <td>4</td>\n",
       "      <td>2011-01-17</td>\n",
       "      <td>8091</td>\n",
       "      <td>216233</td>\n",
       "      <td>44</td>\n",
       "      <td>17</td>\n",
       "      <td>2011</td>\n",
       "      <td>8091-216233</td>\n",
       "    </tr>\n",
       "    <tr>\n",
       "      <th>4</th>\n",
       "      <td>5</td>\n",
       "      <td>2011-01-17</td>\n",
       "      <td>8091</td>\n",
       "      <td>217390</td>\n",
       "      <td>52</td>\n",
       "      <td>17</td>\n",
       "      <td>2011</td>\n",
       "      <td>8091-217390</td>\n",
       "    </tr>\n",
       "    <tr>\n",
       "      <th>5</th>\n",
       "      <td>9</td>\n",
       "      <td>2011-01-17</td>\n",
       "      <td>8091</td>\n",
       "      <td>219009</td>\n",
       "      <td>18</td>\n",
       "      <td>17</td>\n",
       "      <td>2011</td>\n",
       "      <td>8091-219009</td>\n",
       "    </tr>\n",
       "  </tbody>\n",
       "</table>\n",
       "</div>"
      ],
      "text/plain": [
       "   record_ID       week  store_id  sku_id  units_sold  day_of_year  year  \\\n",
       "1          2 2011-01-17      8091  216419          28           17  2011   \n",
       "2          3 2011-01-17      8091  216425          19           17  2011   \n",
       "3          4 2011-01-17      8091  216233          44           17  2011   \n",
       "4          5 2011-01-17      8091  217390          52           17  2011   \n",
       "5          9 2011-01-17      8091  219009          18           17  2011   \n",
       "\n",
       "     store_sku  \n",
       "1  8091-216419  \n",
       "2  8091-216425  \n",
       "3  8091-216233  \n",
       "4  8091-217390  \n",
       "5  8091-219009  "
      ]
     },
     "execution_count": 81,
     "metadata": {},
     "output_type": "execute_result"
    }
   ],
   "source": [
    "train_poly_model.head()"
   ]
  },
  {
   "cell_type": "code",
   "execution_count": 82,
   "metadata": {},
   "outputs": [],
   "source": [
    "train_poly_model = pd.merge(train_poly_model, train_poly_df, how='inner', left_index=True, right_index=True)"
   ]
  },
  {
   "cell_type": "code",
   "execution_count": 83,
   "metadata": {},
   "outputs": [
    {
     "data": {
      "text/html": [
       "<div>\n",
       "<style scoped>\n",
       "    .dataframe tbody tr th:only-of-type {\n",
       "        vertical-align: middle;\n",
       "    }\n",
       "\n",
       "    .dataframe tbody tr th {\n",
       "        vertical-align: top;\n",
       "    }\n",
       "\n",
       "    .dataframe thead th {\n",
       "        text-align: right;\n",
       "    }\n",
       "</style>\n",
       "<table border=\"1\" class=\"dataframe\">\n",
       "  <thead>\n",
       "    <tr style=\"text-align: right;\">\n",
       "      <th></th>\n",
       "      <th>record_ID</th>\n",
       "      <th>week</th>\n",
       "      <th>store_id</th>\n",
       "      <th>sku_id</th>\n",
       "      <th>units_sold</th>\n",
       "      <th>day_of_year</th>\n",
       "      <th>year</th>\n",
       "      <th>store_sku</th>\n",
       "      <th>total_price</th>\n",
       "      <th>base_price</th>\n",
       "      <th>...</th>\n",
       "      <th>is_featured_sku^2</th>\n",
       "      <th>is_featured_sku is_display_sku</th>\n",
       "      <th>is_featured_sku price_diff</th>\n",
       "      <th>is_featured_sku units_sold_prev_week</th>\n",
       "      <th>is_display_sku^2</th>\n",
       "      <th>is_display_sku price_diff</th>\n",
       "      <th>is_display_sku units_sold_prev_week</th>\n",
       "      <th>price_diff^2</th>\n",
       "      <th>price_diff units_sold_prev_week</th>\n",
       "      <th>units_sold_prev_week^2</th>\n",
       "    </tr>\n",
       "  </thead>\n",
       "  <tbody>\n",
       "    <tr>\n",
       "      <th>1</th>\n",
       "      <td>2</td>\n",
       "      <td>2011-01-17</td>\n",
       "      <td>8091</td>\n",
       "      <td>216419</td>\n",
       "      <td>28</td>\n",
       "      <td>17</td>\n",
       "      <td>2011</td>\n",
       "      <td>8091-216419</td>\n",
       "      <td>133.9500</td>\n",
       "      <td>133.9500</td>\n",
       "      <td>...</td>\n",
       "      <td>0.0</td>\n",
       "      <td>0.0</td>\n",
       "      <td>0.0</td>\n",
       "      <td>0.0</td>\n",
       "      <td>0.0</td>\n",
       "      <td>0.0</td>\n",
       "      <td>0.0</td>\n",
       "      <td>0.0</td>\n",
       "      <td>0.0</td>\n",
       "      <td>784.0</td>\n",
       "    </tr>\n",
       "    <tr>\n",
       "      <th>2</th>\n",
       "      <td>3</td>\n",
       "      <td>2011-01-17</td>\n",
       "      <td>8091</td>\n",
       "      <td>216425</td>\n",
       "      <td>19</td>\n",
       "      <td>17</td>\n",
       "      <td>2011</td>\n",
       "      <td>8091-216425</td>\n",
       "      <td>133.9500</td>\n",
       "      <td>133.9500</td>\n",
       "      <td>...</td>\n",
       "      <td>0.0</td>\n",
       "      <td>0.0</td>\n",
       "      <td>0.0</td>\n",
       "      <td>0.0</td>\n",
       "      <td>0.0</td>\n",
       "      <td>0.0</td>\n",
       "      <td>0.0</td>\n",
       "      <td>0.0</td>\n",
       "      <td>0.0</td>\n",
       "      <td>361.0</td>\n",
       "    </tr>\n",
       "    <tr>\n",
       "      <th>3</th>\n",
       "      <td>4</td>\n",
       "      <td>2011-01-17</td>\n",
       "      <td>8091</td>\n",
       "      <td>216233</td>\n",
       "      <td>44</td>\n",
       "      <td>17</td>\n",
       "      <td>2011</td>\n",
       "      <td>8091-216233</td>\n",
       "      <td>141.0750</td>\n",
       "      <td>141.0750</td>\n",
       "      <td>...</td>\n",
       "      <td>0.0</td>\n",
       "      <td>0.0</td>\n",
       "      <td>0.0</td>\n",
       "      <td>0.0</td>\n",
       "      <td>0.0</td>\n",
       "      <td>0.0</td>\n",
       "      <td>0.0</td>\n",
       "      <td>0.0</td>\n",
       "      <td>0.0</td>\n",
       "      <td>1936.0</td>\n",
       "    </tr>\n",
       "    <tr>\n",
       "      <th>4</th>\n",
       "      <td>5</td>\n",
       "      <td>2011-01-17</td>\n",
       "      <td>8091</td>\n",
       "      <td>217390</td>\n",
       "      <td>52</td>\n",
       "      <td>17</td>\n",
       "      <td>2011</td>\n",
       "      <td>8091-217390</td>\n",
       "      <td>227.2875</td>\n",
       "      <td>227.2875</td>\n",
       "      <td>...</td>\n",
       "      <td>0.0</td>\n",
       "      <td>0.0</td>\n",
       "      <td>0.0</td>\n",
       "      <td>0.0</td>\n",
       "      <td>0.0</td>\n",
       "      <td>0.0</td>\n",
       "      <td>0.0</td>\n",
       "      <td>0.0</td>\n",
       "      <td>0.0</td>\n",
       "      <td>2704.0</td>\n",
       "    </tr>\n",
       "    <tr>\n",
       "      <th>5</th>\n",
       "      <td>9</td>\n",
       "      <td>2011-01-17</td>\n",
       "      <td>8091</td>\n",
       "      <td>219009</td>\n",
       "      <td>18</td>\n",
       "      <td>17</td>\n",
       "      <td>2011</td>\n",
       "      <td>8091-219009</td>\n",
       "      <td>327.0375</td>\n",
       "      <td>327.0375</td>\n",
       "      <td>...</td>\n",
       "      <td>0.0</td>\n",
       "      <td>0.0</td>\n",
       "      <td>0.0</td>\n",
       "      <td>0.0</td>\n",
       "      <td>0.0</td>\n",
       "      <td>0.0</td>\n",
       "      <td>0.0</td>\n",
       "      <td>0.0</td>\n",
       "      <td>0.0</td>\n",
       "      <td>324.0</td>\n",
       "    </tr>\n",
       "  </tbody>\n",
       "</table>\n",
       "<p>5 rows × 35 columns</p>\n",
       "</div>"
      ],
      "text/plain": [
       "   record_ID       week  store_id  sku_id  units_sold  day_of_year  year  \\\n",
       "1          2 2011-01-17      8091  216419          28           17  2011   \n",
       "2          3 2011-01-17      8091  216425          19           17  2011   \n",
       "3          4 2011-01-17      8091  216233          44           17  2011   \n",
       "4          5 2011-01-17      8091  217390          52           17  2011   \n",
       "5          9 2011-01-17      8091  219009          18           17  2011   \n",
       "\n",
       "     store_sku  total_price  base_price  ...  is_featured_sku^2  \\\n",
       "1  8091-216419     133.9500    133.9500  ...                0.0   \n",
       "2  8091-216425     133.9500    133.9500  ...                0.0   \n",
       "3  8091-216233     141.0750    141.0750  ...                0.0   \n",
       "4  8091-217390     227.2875    227.2875  ...                0.0   \n",
       "5  8091-219009     327.0375    327.0375  ...                0.0   \n",
       "\n",
       "   is_featured_sku is_display_sku  is_featured_sku price_diff  \\\n",
       "1                             0.0                         0.0   \n",
       "2                             0.0                         0.0   \n",
       "3                             0.0                         0.0   \n",
       "4                             0.0                         0.0   \n",
       "5                             0.0                         0.0   \n",
       "\n",
       "   is_featured_sku units_sold_prev_week  is_display_sku^2  \\\n",
       "1                                   0.0               0.0   \n",
       "2                                   0.0               0.0   \n",
       "3                                   0.0               0.0   \n",
       "4                                   0.0               0.0   \n",
       "5                                   0.0               0.0   \n",
       "\n",
       "   is_display_sku price_diff  is_display_sku units_sold_prev_week  \\\n",
       "1                        0.0                                  0.0   \n",
       "2                        0.0                                  0.0   \n",
       "3                        0.0                                  0.0   \n",
       "4                        0.0                                  0.0   \n",
       "5                        0.0                                  0.0   \n",
       "\n",
       "   price_diff^2  price_diff units_sold_prev_week  units_sold_prev_week^2  \n",
       "1           0.0                              0.0                   784.0  \n",
       "2           0.0                              0.0                   361.0  \n",
       "3           0.0                              0.0                  1936.0  \n",
       "4           0.0                              0.0                  2704.0  \n",
       "5           0.0                              0.0                   324.0  \n",
       "\n",
       "[5 rows x 35 columns]"
      ]
     },
     "execution_count": 83,
     "metadata": {},
     "output_type": "execute_result"
    }
   ],
   "source": [
    "train_poly_model.head()"
   ]
  },
  {
   "cell_type": "code",
   "execution_count": 84,
   "metadata": {},
   "outputs": [
    {
     "data": {
      "text/plain": [
       "Index(['record_ID', 'week', 'store_id', 'sku_id', 'units_sold', 'day_of_year',\n",
       "       'year', 'store_sku', 'total_price', 'base_price', 'is_featured_sku',\n",
       "       'is_display_sku', 'price_diff', 'units_sold_prev_week', 'total_price^2',\n",
       "       'total_price base_price', 'total_price is_featured_sku',\n",
       "       'total_price is_display_sku', 'total_price price_diff',\n",
       "       'total_price units_sold_prev_week', 'base_price^2',\n",
       "       'base_price is_featured_sku', 'base_price is_display_sku',\n",
       "       'base_price price_diff', 'base_price units_sold_prev_week',\n",
       "       'is_featured_sku^2', 'is_featured_sku is_display_sku',\n",
       "       'is_featured_sku price_diff', 'is_featured_sku units_sold_prev_week',\n",
       "       'is_display_sku^2', 'is_display_sku price_diff',\n",
       "       'is_display_sku units_sold_prev_week', 'price_diff^2',\n",
       "       'price_diff units_sold_prev_week', 'units_sold_prev_week^2'],\n",
       "      dtype='object')"
      ]
     },
     "execution_count": 84,
     "metadata": {},
     "output_type": "execute_result"
    }
   ],
   "source": [
    "train_poly_model.columns"
   ]
  },
  {
   "cell_type": "code",
   "execution_count": null,
   "metadata": {},
   "outputs": [],
   "source": []
  },
  {
   "cell_type": "code",
   "execution_count": null,
   "metadata": {},
   "outputs": [],
   "source": []
  },
  {
   "cell_type": "code",
   "execution_count": 85,
   "metadata": {
    "colab": {},
    "colab_type": "code",
    "id": "B_koIXkiS6U2"
   },
   "outputs": [],
   "source": [
    "X = train_poly_model[['store_id', 'sku_id', 'total_price', 'base_price', 'is_featured_sku', 'is_display_sku', 'day_of_year', 'year', 'price_diff', 'units_sold_prev_week', 'total_price^2',\n",
    "       'total_price base_price', 'total_price is_featured_sku',\n",
    "       'total_price is_display_sku', 'total_price price_diff',\n",
    "       'total_price units_sold_prev_week', 'base_price^2',\n",
    "       'base_price is_featured_sku', 'base_price is_display_sku',\n",
    "       'base_price price_diff', 'base_price units_sold_prev_week',\n",
    "       'is_featured_sku^2', 'is_featured_sku is_display_sku',\n",
    "       'is_featured_sku price_diff', 'is_featured_sku units_sold_prev_week',\n",
    "       'is_display_sku^2', 'is_display_sku price_diff',\n",
    "       'is_display_sku units_sold_prev_week', 'price_diff^2',\n",
    "       'price_diff units_sold_prev_week', 'units_sold_prev_week^2']]\n",
    "y = train_poly_model['units_sold']"
   ]
  },
  {
   "cell_type": "code",
   "execution_count": 86,
   "metadata": {
    "colab": {},
    "colab_type": "code",
    "id": "gRjvmFiHS6T8"
   },
   "outputs": [
    {
     "name": "stderr",
     "output_type": "stream",
     "text": [
      "<ipython-input-86-364324d164ea>:1: SettingWithCopyWarning: \n",
      "A value is trying to be set on a copy of a slice from a DataFrame.\n",
      "Try using .loc[row_indexer,col_indexer] = value instead\n",
      "\n",
      "See the caveats in the documentation: https://pandas.pydata.org/pandas-docs/stable/user_guide/indexing.html#returning-a-view-versus-a-copy\n",
      "  X['store_id'] = X['store_id'].astype(int).astype(str)\n"
     ]
    }
   ],
   "source": [
    "X['store_id'] = X['store_id'].astype(int).astype(str)"
   ]
  },
  {
   "cell_type": "code",
   "execution_count": 87,
   "metadata": {
    "colab": {},
    "colab_type": "code",
    "id": "yU2cDrnsS6T-"
   },
   "outputs": [
    {
     "name": "stderr",
     "output_type": "stream",
     "text": [
      "<ipython-input-87-33ab4a837f44>:1: SettingWithCopyWarning: \n",
      "A value is trying to be set on a copy of a slice from a DataFrame.\n",
      "Try using .loc[row_indexer,col_indexer] = value instead\n",
      "\n",
      "See the caveats in the documentation: https://pandas.pydata.org/pandas-docs/stable/user_guide/indexing.html#returning-a-view-versus-a-copy\n",
      "  X['sku_id'] = X['sku_id'].astype(int).astype(str)\n"
     ]
    }
   ],
   "source": [
    "X['sku_id'] = X['sku_id'].astype(int).astype(str)"
   ]
  },
  {
   "cell_type": "code",
   "execution_count": null,
   "metadata": {},
   "outputs": [],
   "source": []
  },
  {
   "cell_type": "code",
   "execution_count": 88,
   "metadata": {
    "colab": {},
    "colab_type": "code",
    "id": "tE64j21vS6U4"
   },
   "outputs": [],
   "source": [
    "X_train, X_test, y_train, y_test = train_test_split(X, y, test_size = 0.2, random_state = 42)\n",
    "X_train, X_validation, y_train, y_validation = train_test_split(X_train, y_train, test_size=0.2)"
   ]
  },
  {
   "cell_type": "code",
   "execution_count": 89,
   "metadata": {},
   "outputs": [
    {
     "name": "stdout",
     "output_type": "stream",
     "text": [
      "<class 'pandas.core.frame.DataFrame'>\n",
      "Int64Index: 96089 entries, 20006 to 136993\n",
      "Data columns (total 31 columns):\n",
      " #   Column                                Non-Null Count  Dtype  \n",
      "---  ------                                --------------  -----  \n",
      " 0   store_id                              96089 non-null  object \n",
      " 1   sku_id                                96089 non-null  object \n",
      " 2   total_price                           96089 non-null  float64\n",
      " 3   base_price                            96089 non-null  float64\n",
      " 4   is_featured_sku                       96089 non-null  float64\n",
      " 5   is_display_sku                        96089 non-null  float64\n",
      " 6   day_of_year                           96089 non-null  int64  \n",
      " 7   year                                  96089 non-null  int64  \n",
      " 8   price_diff                            96089 non-null  float64\n",
      " 9   units_sold_prev_week                  96089 non-null  float64\n",
      " 10  total_price^2                         96089 non-null  float64\n",
      " 11  total_price base_price                96089 non-null  float64\n",
      " 12  total_price is_featured_sku           96089 non-null  float64\n",
      " 13  total_price is_display_sku            96089 non-null  float64\n",
      " 14  total_price price_diff                96089 non-null  float64\n",
      " 15  total_price units_sold_prev_week      96089 non-null  float64\n",
      " 16  base_price^2                          96089 non-null  float64\n",
      " 17  base_price is_featured_sku            96089 non-null  float64\n",
      " 18  base_price is_display_sku             96089 non-null  float64\n",
      " 19  base_price price_diff                 96089 non-null  float64\n",
      " 20  base_price units_sold_prev_week       96089 non-null  float64\n",
      " 21  is_featured_sku^2                     96089 non-null  float64\n",
      " 22  is_featured_sku is_display_sku        96089 non-null  float64\n",
      " 23  is_featured_sku price_diff            96089 non-null  float64\n",
      " 24  is_featured_sku units_sold_prev_week  96089 non-null  float64\n",
      " 25  is_display_sku^2                      96089 non-null  float64\n",
      " 26  is_display_sku price_diff             96089 non-null  float64\n",
      " 27  is_display_sku units_sold_prev_week   96089 non-null  float64\n",
      " 28  price_diff^2                          96089 non-null  float64\n",
      " 29  price_diff units_sold_prev_week       96089 non-null  float64\n",
      " 30  units_sold_prev_week^2                96089 non-null  float64\n",
      "dtypes: float64(27), int64(2), object(2)\n",
      "memory usage: 23.5+ MB\n"
     ]
    }
   ],
   "source": [
    "X_train.info()"
   ]
  },
  {
   "cell_type": "code",
   "execution_count": 90,
   "metadata": {},
   "outputs": [
    {
     "data": {
      "text/plain": [
       "(96089, 31)"
      ]
     },
     "execution_count": 90,
     "metadata": {},
     "output_type": "execute_result"
    }
   ],
   "source": [
    "X_train.shape"
   ]
  },
  {
   "cell_type": "code",
   "execution_count": 91,
   "metadata": {},
   "outputs": [
    {
     "data": {
      "text/plain": [
       "(24023, 31)"
      ]
     },
     "execution_count": 91,
     "metadata": {},
     "output_type": "execute_result"
    }
   ],
   "source": [
    "X_validation.shape"
   ]
  },
  {
   "cell_type": "code",
   "execution_count": 92,
   "metadata": {},
   "outputs": [
    {
     "data": {
      "text/plain": [
       "(30028, 31)"
      ]
     },
     "execution_count": 92,
     "metadata": {},
     "output_type": "execute_result"
    }
   ],
   "source": [
    "X_test.shape"
   ]
  },
  {
   "cell_type": "markdown",
   "metadata": {},
   "source": [
    "### NN"
   ]
  },
  {
   "cell_type": "code",
   "execution_count": 93,
   "metadata": {},
   "outputs": [],
   "source": [
    "sc = StandardScaler()\n",
    "X_train_sc = sc.fit_transform(X_train)\n",
    "X_val_sc = sc.transform(X_validation)\n",
    "X_test_sc = sc.transform(X_test)"
   ]
  },
  {
   "cell_type": "code",
   "execution_count": 89,
   "metadata": {
    "colab": {},
    "colab_type": "code",
    "id": "y_GZ3mgKVK5k"
   },
   "outputs": [],
   "source": [
    "model5 = Sequential()\n",
    "model5.add(Dense(16, input_dim = X_train_sc.shape[1], activation = 'relu'))\n",
    "model5.add(Dropout(0.5))\n",
    "model5.add(Dense(16, activation = 'relu'))\n",
    "model5.add(Dropout(0.5))\n",
    "model5.add(Dense(32, activation = 'relu'))\n",
    "model5.add(Dropout(0.5))\n",
    "model5.add(Dense(32, activation = 'relu'))\n",
    "model5.add(Dropout(0.5))\n",
    "model5.add(Dense(1, activation = 'linear'))"
   ]
  },
  {
   "cell_type": "code",
   "execution_count": 90,
   "metadata": {
    "colab": {},
    "colab_type": "code",
    "id": "ukgnjmQyVV6S"
   },
   "outputs": [],
   "source": [
    "#compile NN\n",
    "optimizer = keras.optimizers.Adam(learning_rate=0.0001)\n",
    "# model5.compile(loss = 'mse', optimizer = optimizer, metrics=[tf.keras.metrics.MeanSquaredLogarithmicError()])\n",
    "model5.compile(loss='mean_squared_logarithmic_error', optimizer = 'adam', metrics=['mse'])"
   ]
  },
  {
   "cell_type": "code",
   "execution_count": 91,
   "metadata": {},
   "outputs": [],
   "source": [
    "# early_stop = EarlyStopping(monitor = 'val_mean_squared_logarithmic_error', patience = 3, min_delta = 0, restore_best_weights = True)\n",
    "early_stop = EarlyStopping(monitor = 'val_mse', patience = 20, min_delta = 0, restore_best_weights = True)"
   ]
  },
  {
   "cell_type": "code",
   "execution_count": 92,
   "metadata": {
    "colab": {
     "base_uri": "https://localhost:8080/",
     "height": 607
    },
    "colab_type": "code",
    "id": "bJXhYihBVW1_",
    "outputId": "567f49cf-1e1b-4238-bebe-efe4d4b360e0"
   },
   "outputs": [
    {
     "name": "stdout",
     "output_type": "stream",
     "text": [
      "Model: \"sequential_1\"\n",
      "_________________________________________________________________\n",
      "Layer (type)                 Output Shape              Param #   \n",
      "=================================================================\n",
      "dense_1 (Dense)              (None, 16)                512       \n",
      "_________________________________________________________________\n",
      "dropout_1 (Dropout)          (None, 16)                0         \n",
      "_________________________________________________________________\n",
      "dense_2 (Dense)              (None, 32)                544       \n",
      "_________________________________________________________________\n",
      "dropout_2 (Dropout)          (None, 32)                0         \n",
      "_________________________________________________________________\n",
      "dense_3 (Dense)              (None, 64)                2112      \n",
      "_________________________________________________________________\n",
      "dropout_3 (Dropout)          (None, 64)                0         \n",
      "_________________________________________________________________\n",
      "dense_4 (Dense)              (None, 128)               8320      \n",
      "_________________________________________________________________\n",
      "dropout_4 (Dropout)          (None, 128)               0         \n",
      "_________________________________________________________________\n",
      "dense_5 (Dense)              (None, 1)                 129       \n",
      "=================================================================\n",
      "Total params: 11,617\n",
      "Trainable params: 11,617\n",
      "Non-trainable params: 0\n",
      "_________________________________________________________________\n"
     ]
    }
   ],
   "source": [
    "model5.summary()"
   ]
  },
  {
   "cell_type": "code",
   "execution_count": 117,
   "metadata": {
    "colab": {},
    "colab_type": "code",
    "id": "y_GZ3mgKVK5k"
   },
   "outputs": [],
   "source": [
    "model6 = Sequential()\n",
    "model6.add(Dense(16, input_dim = X_train_sc.shape[1], activation = 'relu'))\n",
    "model6.add(Dropout(0.5))\n",
    "model6.add(Dense(64, activation = 'relu'))\n",
    "model6.add(Dropout(0.5))\n",
    "model6.add(Dense(128, activation = 'relu'))\n",
    "model6.add(Dropout(0.5))\n",
    "model6.add(Dense(512, activation = 'relu'))\n",
    "model6.add(Dropout(0.5))\n",
    "\n",
    "model6.add(Dense(1, activation = 'linear'))"
   ]
  },
  {
   "cell_type": "code",
   "execution_count": 118,
   "metadata": {
    "colab": {},
    "colab_type": "code",
    "id": "ukgnjmQyVV6S"
   },
   "outputs": [],
   "source": [
    "#compile NN\n",
    "optimizer = keras.optimizers.Adam(learning_rate=0.00001)\n",
    "model6.compile(loss = 'mse', optimizer = optimizer, metrics=[tf.keras.metrics.MeanSquaredLogarithmicError()])\n",
    "# model6.compile(loss='mean_squared_logarithmic_error', optimizer = 'adam', metrics=['mse'])"
   ]
  },
  {
   "cell_type": "code",
   "execution_count": 119,
   "metadata": {},
   "outputs": [],
   "source": [
    "# early_stop = EarlyStopping(monitor = 'val_mean_squared_logarithmic_error', patience = 3, min_delta = 0, restore_best_weights = True)\n",
    "# early_stop = EarlyStopping(monitor = 'val_mse', patience = 20, min_delta = 0, restore_best_weights = True)\n",
    "early_stop = EarlyStopping(monitor = 'val_loss', patience = 20, min_delta = 0, restore_best_weights = True)"
   ]
  },
  {
   "cell_type": "code",
   "execution_count": 120,
   "metadata": {
    "colab": {
     "base_uri": "https://localhost:8080/",
     "height": 607
    },
    "colab_type": "code",
    "id": "bJXhYihBVW1_",
    "outputId": "567f49cf-1e1b-4238-bebe-efe4d4b360e0"
   },
   "outputs": [
    {
     "name": "stdout",
     "output_type": "stream",
     "text": [
      "Model: \"sequential_4\"\n",
      "_________________________________________________________________\n",
      "Layer (type)                 Output Shape              Param #   \n",
      "=================================================================\n",
      "dense_16 (Dense)             (None, 16)                512       \n",
      "_________________________________________________________________\n",
      "dropout_13 (Dropout)         (None, 16)                0         \n",
      "_________________________________________________________________\n",
      "dense_17 (Dense)             (None, 64)                1088      \n",
      "_________________________________________________________________\n",
      "dropout_14 (Dropout)         (None, 64)                0         \n",
      "_________________________________________________________________\n",
      "dense_18 (Dense)             (None, 128)               8320      \n",
      "_________________________________________________________________\n",
      "dropout_15 (Dropout)         (None, 128)               0         \n",
      "_________________________________________________________________\n",
      "dense_19 (Dense)             (None, 512)               66048     \n",
      "_________________________________________________________________\n",
      "dropout_16 (Dropout)         (None, 512)               0         \n",
      "_________________________________________________________________\n",
      "dense_20 (Dense)             (None, 1)                 513       \n",
      "=================================================================\n",
      "Total params: 76,481\n",
      "Trainable params: 76,481\n",
      "Non-trainable params: 0\n",
      "_________________________________________________________________\n"
     ]
    }
   ],
   "source": [
    "model6.summary()"
   ]
  },
  {
   "cell_type": "code",
   "execution_count": 121,
   "metadata": {
    "colab": {
     "base_uri": "https://localhost:8080/",
     "height": 694
    },
    "colab_type": "code",
    "id": "RTtitINMVaU7",
    "outputId": "e3c7e286-4a8d-4a7f-e7ee-a4b5750dd4a4",
    "scrolled": true
   },
   "outputs": [
    {
     "name": "stdout",
     "output_type": "stream",
     "text": [
      "Train on 96089 samples, validate on 24023 samples\n",
      "Epoch 1/100\n",
      "96089/96089 [==============================] - 22s 230us/step - loss: 4632.6232 - mean_squared_logarithmic_error: 5.2660 - val_loss: 4388.5820 - val_mean_squared_logarithmic_error: 2.4351\n",
      "Epoch 2/100\n",
      "96089/96089 [==============================] - 22s 225us/step - loss: 3892.2013 - mean_squared_logarithmic_error: 1.9246 - val_loss: 4223.8578 - val_mean_squared_logarithmic_error: 1.6382\n",
      "Epoch 3/100\n",
      "96089/96089 [==============================] - 22s 227us/step - loss: 3742.5612 - mean_squared_logarithmic_error: 1.4843 - val_loss: 4106.6212 - val_mean_squared_logarithmic_error: 1.3731\n",
      "Epoch 4/100\n",
      "96089/96089 [==============================] - 22s 227us/step - loss: 3669.5497 - mean_squared_logarithmic_error: 1.2973 - val_loss: 4038.0755 - val_mean_squared_logarithmic_error: 1.2367\n",
      "Epoch 5/100\n",
      "96089/96089 [==============================] - 22s 229us/step - loss: 3588.6555 - mean_squared_logarithmic_error: 1.1913 - val_loss: 4019.8612 - val_mean_squared_logarithmic_error: 1.1528\n",
      "Epoch 6/100\n",
      "96089/96089 [==============================] - 22s 228us/step - loss: 3552.7840 - mean_squared_logarithmic_error: 1.1218 - val_loss: 3979.1987 - val_mean_squared_logarithmic_error: 1.0955\n",
      "Epoch 7/100\n",
      "96089/96089 [==============================] - 22s 227us/step - loss: 3504.2880 - mean_squared_logarithmic_error: 1.0735 - val_loss: 3951.6652 - val_mean_squared_logarithmic_error: 1.0543\n",
      "Epoch 8/100\n",
      "96089/96089 [==============================] - 22s 227us/step - loss: 3489.9403 - mean_squared_logarithmic_error: 1.0378 - val_loss: 3942.6837 - val_mean_squared_logarithmic_error: 1.0229\n",
      "Epoch 9/100\n",
      "96089/96089 [==============================] - 22s 228us/step - loss: 3458.4172 - mean_squared_logarithmic_error: 1.0100 - val_loss: 3931.7388 - val_mean_squared_logarithmic_error: 0.9985\n",
      "Epoch 10/100\n",
      "96089/96089 [==============================] - 22s 231us/step - loss: 3462.5713 - mean_squared_logarithmic_error: 0.9884 - val_loss: 3939.8447 - val_mean_squared_logarithmic_error: 0.9790\n",
      "Epoch 11/100\n",
      "96089/96089 [==============================] - 22s 231us/step - loss: 3440.5776 - mean_squared_logarithmic_error: 0.9706 - val_loss: 3902.6413 - val_mean_squared_logarithmic_error: 0.9629\n",
      "Epoch 12/100\n",
      "96089/96089 [==============================] - 22s 231us/step - loss: 3432.0450 - mean_squared_logarithmic_error: 0.9559 - val_loss: 3901.8692 - val_mean_squared_logarithmic_error: 0.9497\n",
      "Epoch 13/100\n",
      "96089/96089 [==============================] - 22s 231us/step - loss: 3423.0539 - mean_squared_logarithmic_error: 0.9438 - val_loss: 3902.3042 - val_mean_squared_logarithmic_error: 0.9384\n",
      "Epoch 14/100\n",
      "96089/96089 [==============================] - 22s 229us/step - loss: 3433.8605 - mean_squared_logarithmic_error: 0.9334 - val_loss: 3910.9700 - val_mean_squared_logarithmic_error: 0.9288\n",
      "Epoch 15/100\n",
      "96089/96089 [==============================] - 22s 230us/step - loss: 3413.2165 - mean_squared_logarithmic_error: 0.9244 - val_loss: 3890.2212 - val_mean_squared_logarithmic_error: 0.9204\n",
      "Epoch 16/100\n",
      "96089/96089 [==============================] - 22s 228us/step - loss: 3404.3261 - mean_squared_logarithmic_error: 0.9165 - val_loss: 3882.2479 - val_mean_squared_logarithmic_error: 0.9131\n",
      "Epoch 17/100\n",
      "96089/96089 [==============================] - 22s 230us/step - loss: 3398.2627 - mean_squared_logarithmic_error: 0.9097 - val_loss: 3875.4521 - val_mean_squared_logarithmic_error: 0.9066\n",
      "Epoch 18/100\n",
      "96089/96089 [==============================] - 22s 229us/step - loss: 3389.2834 - mean_squared_logarithmic_error: 0.9037 - val_loss: 3876.3966 - val_mean_squared_logarithmic_error: 0.9010\n",
      "Epoch 19/100\n",
      "96089/96089 [==============================] - 22s 228us/step - loss: 3370.1796 - mean_squared_logarithmic_error: 0.8983 - val_loss: 3855.2449 - val_mean_squared_logarithmic_error: 0.8958\n",
      "Epoch 20/100\n",
      "96089/96089 [==============================] - 22s 232us/step - loss: 3396.7605 - mean_squared_logarithmic_error: 0.8935 - val_loss: 3872.5786 - val_mean_squared_logarithmic_error: 0.8912\n",
      "Epoch 21/100\n",
      "96089/96089 [==============================] - 23s 242us/step - loss: 3380.0542 - mean_squared_logarithmic_error: 0.8888 - val_loss: 3854.4911 - val_mean_squared_logarithmic_error: 0.8868\n",
      "Epoch 22/100\n",
      "96089/96089 [==============================] - 22s 232us/step - loss: 3385.7861 - mean_squared_logarithmic_error: 0.8847 - val_loss: 3857.6179 - val_mean_squared_logarithmic_error: 0.8829\n",
      "Epoch 23/100\n",
      "96089/96089 [==============================] - 22s 231us/step - loss: 3365.5068 - mean_squared_logarithmic_error: 0.8809 - val_loss: 3839.7481 - val_mean_squared_logarithmic_error: 0.8793\n",
      "Epoch 24/100\n",
      "96089/96089 [==============================] - 22s 234us/step - loss: 3361.2483 - mean_squared_logarithmic_error: 0.8776 - val_loss: 3848.1692 - val_mean_squared_logarithmic_error: 0.8760\n",
      "Epoch 25/100\n",
      "96089/96089 [==============================] - 22s 233us/step - loss: 3361.7038 - mean_squared_logarithmic_error: 0.8744 - val_loss: 3840.0400 - val_mean_squared_logarithmic_error: 0.8729\n",
      "Epoch 26/100\n",
      "96089/96089 [==============================] - 22s 231us/step - loss: 3353.0908 - mean_squared_logarithmic_error: 0.8714 - val_loss: 3830.2999 - val_mean_squared_logarithmic_error: 0.8699\n",
      "Epoch 27/100\n",
      "96089/96089 [==============================] - 23s 235us/step - loss: 3341.9223 - mean_squared_logarithmic_error: 0.8686 - val_loss: 3827.0726 - val_mean_squared_logarithmic_error: 0.8672\n",
      "Epoch 28/100\n",
      "96089/96089 [==============================] - 23s 237us/step - loss: 3350.3103 - mean_squared_logarithmic_error: 0.8659 - val_loss: 3832.4241 - val_mean_squared_logarithmic_error: 0.8646\n",
      "Epoch 29/100\n",
      "96089/96089 [==============================] - 22s 231us/step - loss: 3345.6039 - mean_squared_logarithmic_error: 0.8633 - val_loss: 3824.9016 - val_mean_squared_logarithmic_error: 0.8621\n",
      "Epoch 30/100\n",
      "96089/96089 [==============================] - 22s 230us/step - loss: 3352.1381 - mean_squared_logarithmic_error: 0.8610 - val_loss: 3818.8676 - val_mean_squared_logarithmic_error: 0.8598\n",
      "Epoch 31/100\n",
      "96089/96089 [==============================] - 22s 228us/step - loss: 3353.6590 - mean_squared_logarithmic_error: 0.8587 - val_loss: 3821.0016 - val_mean_squared_logarithmic_error: 0.8575\n",
      "Epoch 32/100\n",
      "96089/96089 [==============================] - 22s 230us/step - loss: 3338.7536 - mean_squared_logarithmic_error: 0.8564 - val_loss: 3818.2204 - val_mean_squared_logarithmic_error: 0.8554\n",
      "Epoch 33/100\n",
      "96089/96089 [==============================] - 22s 234us/step - loss: 3335.5616 - mean_squared_logarithmic_error: 0.8543 - val_loss: 3815.7220 - val_mean_squared_logarithmic_error: 0.8534\n",
      "Epoch 34/100\n",
      "96089/96089 [==============================] - 23s 238us/step - loss: 3352.3253 - mean_squared_logarithmic_error: 0.8523 - val_loss: 3819.8189 - val_mean_squared_logarithmic_error: 0.8514\n",
      "Epoch 35/100\n",
      "96089/96089 [==============================] - 23s 237us/step - loss: 3344.0462 - mean_squared_logarithmic_error: 0.8503 - val_loss: 3797.4697 - val_mean_squared_logarithmic_error: 0.8494\n",
      "Epoch 36/100\n",
      "96089/96089 [==============================] - 22s 231us/step - loss: 3331.6653 - mean_squared_logarithmic_error: 0.8485 - val_loss: 3812.7883 - val_mean_squared_logarithmic_error: 0.8476\n",
      "Epoch 37/100\n",
      "96089/96089 [==============================] - 22s 226us/step - loss: 3343.3162 - mean_squared_logarithmic_error: 0.8468 - val_loss: 3796.3734 - val_mean_squared_logarithmic_error: 0.8459\n",
      "Epoch 38/100\n",
      "96089/96089 [==============================] - 23s 236us/step - loss: 3329.6972 - mean_squared_logarithmic_error: 0.8450 - val_loss: 3804.4378 - val_mean_squared_logarithmic_error: 0.8442\n",
      "Epoch 39/100\n",
      "96089/96089 [==============================] - 22s 226us/step - loss: 3316.9066 - mean_squared_logarithmic_error: 0.8433 - val_loss: 3793.6278 - val_mean_squared_logarithmic_error: 0.8425\n",
      "Epoch 40/100\n",
      "96089/96089 [==============================] - 23s 238us/step - loss: 3335.3495 - mean_squared_logarithmic_error: 0.8418 - val_loss: 3801.6732 - val_mean_squared_logarithmic_error: 0.8409\n",
      "Epoch 41/100\n",
      "96089/96089 [==============================] - 24s 246us/step - loss: 3336.1100 - mean_squared_logarithmic_error: 0.8401 - val_loss: 3788.0960 - val_mean_squared_logarithmic_error: 0.8394\n",
      "Epoch 42/100\n",
      "96089/96089 [==============================] - 23s 236us/step - loss: 3325.6570 - mean_squared_logarithmic_error: 0.8385 - val_loss: 3784.5326 - val_mean_squared_logarithmic_error: 0.8379\n",
      "Epoch 43/100\n",
      "96089/96089 [==============================] - 23s 238us/step - loss: 3303.2386 - mean_squared_logarithmic_error: 0.8371 - val_loss: 3792.2060 - val_mean_squared_logarithmic_error: 0.8365\n",
      "Epoch 44/100\n",
      "96089/96089 [==============================] - 24s 249us/step - loss: 3319.2436 - mean_squared_logarithmic_error: 0.8356 - val_loss: 3780.1761 - val_mean_squared_logarithmic_error: 0.8350\n",
      "Epoch 45/100\n",
      "96089/96089 [==============================] - 24s 249us/step - loss: 3300.0263 - mean_squared_logarithmic_error: 0.8344 - val_loss: 3792.6216 - val_mean_squared_logarithmic_error: 0.8337\n",
      "Epoch 46/100\n",
      "96089/96089 [==============================] - 23s 239us/step - loss: 3317.4451 - mean_squared_logarithmic_error: 0.8331 - val_loss: 3776.0867 - val_mean_squared_logarithmic_error: 0.8324\n",
      "Epoch 47/100\n",
      "96089/96089 [==============================] - 22s 230us/step - loss: 3303.0495 - mean_squared_logarithmic_error: 0.8316 - val_loss: 3771.5680 - val_mean_squared_logarithmic_error: 0.8311\n",
      "Epoch 48/100\n",
      "96089/96089 [==============================] - 23s 237us/step - loss: 3306.0640 - mean_squared_logarithmic_error: 0.8305 - val_loss: 3787.1593 - val_mean_squared_logarithmic_error: 0.8300\n",
      "Epoch 49/100\n",
      "96089/96089 [==============================] - 25s 258us/step - loss: 3294.9396 - mean_squared_logarithmic_error: 0.8293 - val_loss: 3778.8561 - val_mean_squared_logarithmic_error: 0.8287\n",
      "Epoch 50/100\n",
      "96089/96089 [==============================] - 23s 238us/step - loss: 3305.4100 - mean_squared_logarithmic_error: 0.8282 - val_loss: 3768.5524 - val_mean_squared_logarithmic_error: 0.8276\n",
      "Epoch 51/100\n",
      "96089/96089 [==============================] - 25s 257us/step - loss: 3288.2142 - mean_squared_logarithmic_error: 0.8270 - val_loss: 3760.7647 - val_mean_squared_logarithmic_error: 0.8264\n",
      "Epoch 52/100\n",
      "96089/96089 [==============================] - 22s 232us/step - loss: 3312.7785 - mean_squared_logarithmic_error: 0.8257 - val_loss: 3777.4856 - val_mean_squared_logarithmic_error: 0.8253\n",
      "Epoch 53/100\n",
      "96089/96089 [==============================] - 22s 227us/step - loss: 3304.6938 - mean_squared_logarithmic_error: 0.8248 - val_loss: 3790.2659 - val_mean_squared_logarithmic_error: 0.8243\n",
      "Epoch 54/100\n",
      "96089/96089 [==============================] - 23s 241us/step - loss: 3302.1680 - mean_squared_logarithmic_error: 0.8237 - val_loss: 3770.1399 - val_mean_squared_logarithmic_error: 0.8233\n",
      "Epoch 55/100\n",
      "96089/96089 [==============================] - 25s 263us/step - loss: 3286.4759 - mean_squared_logarithmic_error: 0.8227 - val_loss: 3773.8257 - val_mean_squared_logarithmic_error: 0.8223\n",
      "Epoch 56/100\n",
      "96089/96089 [==============================] - 25s 261us/step - loss: 3296.1222 - mean_squared_logarithmic_error: 0.8218 - val_loss: 3772.0789 - val_mean_squared_logarithmic_error: 0.8213\n",
      "Epoch 57/100\n",
      "96089/96089 [==============================] - 22s 229us/step - loss: 3280.0901 - mean_squared_logarithmic_error: 0.8208 - val_loss: 3770.6260 - val_mean_squared_logarithmic_error: 0.8203\n",
      "Epoch 58/100\n",
      "96089/96089 [==============================] - 21s 223us/step - loss: 3299.9128 - mean_squared_logarithmic_error: 0.8198 - val_loss: 3774.7862 - val_mean_squared_logarithmic_error: 0.8194\n",
      "Epoch 59/100\n",
      "96089/96089 [==============================] - 22s 231us/step - loss: 3291.6561 - mean_squared_logarithmic_error: 0.8189 - val_loss: 3757.1233 - val_mean_squared_logarithmic_error: 0.8185\n",
      "Epoch 60/100\n",
      "96089/96089 [==============================] - 23s 239us/step - loss: 3283.3403 - mean_squared_logarithmic_error: 0.8180 - val_loss: 3747.7358 - val_mean_squared_logarithmic_error: 0.8176\n",
      "Epoch 61/100\n",
      "96089/96089 [==============================] - 23s 235us/step - loss: 3283.9860 - mean_squared_logarithmic_error: 0.8173 - val_loss: 3759.5579 - val_mean_squared_logarithmic_error: 0.8168\n",
      "Epoch 62/100\n",
      "96089/96089 [==============================] - 25s 257us/step - loss: 3293.9062 - mean_squared_logarithmic_error: 0.8164 - val_loss: 3767.8330 - val_mean_squared_logarithmic_error: 0.8160\n",
      "Epoch 63/100\n",
      "96089/96089 [==============================] - 25s 258us/step - loss: 3293.4474 - mean_squared_logarithmic_error: 0.8155 - val_loss: 3781.2276 - val_mean_squared_logarithmic_error: 0.8152\n",
      "Epoch 64/100\n",
      "96089/96089 [==============================] - 23s 236us/step - loss: 3283.0817 - mean_squared_logarithmic_error: 0.8148 - val_loss: 3759.4925 - val_mean_squared_logarithmic_error: 0.8144\n",
      "Epoch 65/100\n",
      "96089/96089 [==============================] - 22s 234us/step - loss: 3278.0333 - mean_squared_logarithmic_error: 0.8139 - val_loss: 3756.0563 - val_mean_squared_logarithmic_error: 0.8136\n",
      "Epoch 66/100\n",
      "96089/96089 [==============================] - 22s 233us/step - loss: 3269.5673 - mean_squared_logarithmic_error: 0.8132 - val_loss: 3775.9319 - val_mean_squared_logarithmic_error: 0.8129\n",
      "Epoch 67/100\n",
      "96089/96089 [==============================] - 22s 233us/step - loss: 3281.9597 - mean_squared_logarithmic_error: 0.8125 - val_loss: 3764.6348 - val_mean_squared_logarithmic_error: 0.8121\n",
      "Epoch 68/100\n",
      "96089/96089 [==============================] - 23s 234us/step - loss: 3297.7024 - mean_squared_logarithmic_error: 0.8116 - val_loss: 3760.4199 - val_mean_squared_logarithmic_error: 0.8113\n",
      "Epoch 69/100\n",
      "96089/96089 [==============================] - 22s 232us/step - loss: 3269.1041 - mean_squared_logarithmic_error: 0.8110 - val_loss: 3761.6071 - val_mean_squared_logarithmic_error: 0.8106\n",
      "Epoch 70/100\n",
      "96089/96089 [==============================] - 22s 233us/step - loss: 3269.1082 - mean_squared_logarithmic_error: 0.8103 - val_loss: 3751.8495 - val_mean_squared_logarithmic_error: 0.8099\n",
      "Epoch 71/100\n",
      "96089/96089 [==============================] - 22s 233us/step - loss: 3290.2174 - mean_squared_logarithmic_error: 0.8096 - val_loss: 3757.8003 - val_mean_squared_logarithmic_error: 0.8092\n",
      "Epoch 72/100\n",
      "96089/96089 [==============================] - 23s 235us/step - loss: 3262.8284 - mean_squared_logarithmic_error: 0.8089 - val_loss: 3756.3182 - val_mean_squared_logarithmic_error: 0.8086\n",
      "Epoch 73/100\n",
      "96089/96089 [==============================] - 23s 235us/step - loss: 3281.5891 - mean_squared_logarithmic_error: 0.8081 - val_loss: 3754.9467 - val_mean_squared_logarithmic_error: 0.8079\n",
      "Epoch 74/100\n",
      "96089/96089 [==============================] - 23s 235us/step - loss: 3278.6427 - mean_squared_logarithmic_error: 0.8076 - val_loss: 3744.9408 - val_mean_squared_logarithmic_error: 0.8073\n",
      "Epoch 75/100\n",
      "96089/96089 [==============================] - 22s 234us/step - loss: 3276.0100 - mean_squared_logarithmic_error: 0.8070 - val_loss: 3749.6134 - val_mean_squared_logarithmic_error: 0.8067\n",
      "Epoch 76/100\n",
      "96089/96089 [==============================] - 22s 231us/step - loss: 3267.8968 - mean_squared_logarithmic_error: 0.8064 - val_loss: 3750.5074 - val_mean_squared_logarithmic_error: 0.8061\n",
      "Epoch 77/100\n",
      "96089/96089 [==============================] - 22s 230us/step - loss: 3255.6120 - mean_squared_logarithmic_error: 0.8058 - val_loss: 3759.8248 - val_mean_squared_logarithmic_error: 0.8055\n",
      "Epoch 78/100\n",
      "96089/96089 [==============================] - 22s 231us/step - loss: 3268.5168 - mean_squared_logarithmic_error: 0.8051 - val_loss: 3744.2976 - val_mean_squared_logarithmic_error: 0.8049\n",
      "Epoch 79/100\n",
      "96089/96089 [==============================] - 22s 231us/step - loss: 3273.2270 - mean_squared_logarithmic_error: 0.8047 - val_loss: 3747.9973 - val_mean_squared_logarithmic_error: 0.8044\n",
      "Epoch 80/100\n",
      "96089/96089 [==============================] - 22s 232us/step - loss: 3273.8060 - mean_squared_logarithmic_error: 0.8041 - val_loss: 3750.7804 - val_mean_squared_logarithmic_error: 0.8038\n",
      "Epoch 81/100\n",
      "96089/96089 [==============================] - 22s 233us/step - loss: 3259.6089 - mean_squared_logarithmic_error: 0.8037 - val_loss: 3750.2500 - val_mean_squared_logarithmic_error: 0.8033\n"
     ]
    },
    {
     "name": "stdout",
     "output_type": "stream",
     "text": [
      "Epoch 82/100\n",
      "96089/96089 [==============================] - 22s 227us/step - loss: 3253.5240 - mean_squared_logarithmic_error: 0.8030 - val_loss: 3757.9796 - val_mean_squared_logarithmic_error: 0.8028\n",
      "Epoch 83/100\n",
      "96089/96089 [==============================] - 22s 227us/step - loss: 3266.6368 - mean_squared_logarithmic_error: 0.8024 - val_loss: 3753.9102 - val_mean_squared_logarithmic_error: 0.8022\n",
      "Epoch 84/100\n",
      "96089/96089 [==============================] - 22s 233us/step - loss: 3280.9492 - mean_squared_logarithmic_error: 0.8019 - val_loss: 3740.0509 - val_mean_squared_logarithmic_error: 0.8017\n",
      "Epoch 85/100\n",
      "96089/96089 [==============================] - 22s 230us/step - loss: 3257.2158 - mean_squared_logarithmic_error: 0.8014 - val_loss: 3747.4856 - val_mean_squared_logarithmic_error: 0.8012\n",
      "Epoch 86/100\n",
      "96089/96089 [==============================] - 22s 231us/step - loss: 3275.1523 - mean_squared_logarithmic_error: 0.8009 - val_loss: 3753.7931 - val_mean_squared_logarithmic_error: 0.8007\n",
      "Epoch 87/100\n",
      "96089/96089 [==============================] - 25s 265us/step - loss: 3264.9767 - mean_squared_logarithmic_error: 0.8005 - val_loss: 3744.4067 - val_mean_squared_logarithmic_error: 0.8002\n",
      "Epoch 88/100\n",
      "96089/96089 [==============================] - 23s 245us/step - loss: 3257.9899 - mean_squared_logarithmic_error: 0.7999 - val_loss: 3756.6427 - val_mean_squared_logarithmic_error: 0.7997\n",
      "Epoch 89/100\n",
      "96089/96089 [==============================] - 22s 231us/step - loss: 3259.1241 - mean_squared_logarithmic_error: 0.7995 - val_loss: 3739.5670 - val_mean_squared_logarithmic_error: 0.7992\n",
      "Epoch 90/100\n",
      "96089/96089 [==============================] - 23s 236us/step - loss: 3271.8410 - mean_squared_logarithmic_error: 0.7989 - val_loss: 3745.0422 - val_mean_squared_logarithmic_error: 0.7988\n",
      "Epoch 91/100\n",
      "96089/96089 [==============================] - 22s 230us/step - loss: 3258.5868 - mean_squared_logarithmic_error: 0.7986 - val_loss: 3743.0352 - val_mean_squared_logarithmic_error: 0.7984\n",
      "Epoch 92/100\n",
      "96089/96089 [==============================] - 22s 234us/step - loss: 3263.0558 - mean_squared_logarithmic_error: 0.7981 - val_loss: 3744.8131 - val_mean_squared_logarithmic_error: 0.7979\n",
      "Epoch 93/100\n",
      "96089/96089 [==============================] - 24s 252us/step - loss: 3256.3691 - mean_squared_logarithmic_error: 0.7978 - val_loss: 3737.1416 - val_mean_squared_logarithmic_error: 0.7975\n",
      "Epoch 94/100\n",
      "96089/96089 [==============================] - 23s 239us/step - loss: 3240.7184 - mean_squared_logarithmic_error: 0.7973 - val_loss: 3732.9389 - val_mean_squared_logarithmic_error: 0.7971\n",
      "Epoch 95/100\n",
      "96089/96089 [==============================] - 23s 238us/step - loss: 3256.0810 - mean_squared_logarithmic_error: 0.7969 - val_loss: 3748.8012 - val_mean_squared_logarithmic_error: 0.7967\n",
      "Epoch 96/100\n",
      "96089/96089 [==============================] - 26s 273us/step - loss: 3252.1815 - mean_squared_logarithmic_error: 0.7964 - val_loss: 3728.0952 - val_mean_squared_logarithmic_error: 0.7963\n",
      "Epoch 97/100\n",
      "96089/96089 [==============================] - 23s 235us/step - loss: 3258.3953 - mean_squared_logarithmic_error: 0.7960 - val_loss: 3741.0843 - val_mean_squared_logarithmic_error: 0.7959\n",
      "Epoch 98/100\n",
      "96089/96089 [==============================] - 23s 239us/step - loss: 3265.7033 - mean_squared_logarithmic_error: 0.7957 - val_loss: 3739.2034 - val_mean_squared_logarithmic_error: 0.7955\n",
      "Epoch 99/100\n",
      "96089/96089 [==============================] - 23s 235us/step - loss: 3267.7566 - mean_squared_logarithmic_error: 0.7953 - val_loss: 3741.7696 - val_mean_squared_logarithmic_error: 0.7951\n",
      "Epoch 100/100\n",
      "96089/96089 [==============================] - 22s 228us/step - loss: 3249.5791 - mean_squared_logarithmic_error: 0.7949 - val_loss: 3750.2982 - val_mean_squared_logarithmic_error: 0.7947\n"
     ]
    }
   ],
   "source": [
    "history = model6.fit(X_train_sc, y_train,\n",
    "                     validation_data=(X_val_sc, y_validation),\n",
    "                     epochs=100,\n",
    "                     batch_size=8,\n",
    "                     callbacks = [early_stop]\n",
    "                     )"
   ]
  },
  {
   "cell_type": "code",
   "execution_count": 133,
   "metadata": {},
   "outputs": [
    {
     "data": {
      "image/png": "[encoded data removed]",
      "text/plain": [
       "<Figure size 1080x720 with 2 Axes>"
      ]
     },
     "metadata": {
      "needs_background": "light"
     },
     "output_type": "display_data"
    }
   ],
   "source": [
    "plot_history(history)"
   ]
  },
  {
   "cell_type": "markdown",
   "metadata": {},
   "source": [
    "## Predictions"
   ]
  },
  {
   "cell_type": "code",
   "execution_count": 169,
   "metadata": {
    "colab": {},
    "colab_type": "code",
    "id": "z8NkmHH_cco6"
   },
   "outputs": [],
   "source": [
    "# function to calculate rmsle*100 per hackathon scoring\n",
    "def rmsle(ytrue, ypred):\n",
    "    return np.sqrt(mean_squared_log_error(ytrue, ypred))*100"
   ]
  },
  {
   "cell_type": "markdown",
   "metadata": {},
   "source": [
    "#### RF"
   ]
  },
  {
   "cell_type": "code",
   "execution_count": 294,
   "metadata": {
    "colab": {},
    "colab_type": "code",
    "id": "F8YwMB65S6U6"
   },
   "outputs": [],
   "source": [
    "rf = RandomForestRegressor()"
   ]
  },
  {
   "cell_type": "code",
   "execution_count": 296,
   "metadata": {
    "colab": {
     "base_uri": "https://localhost:8080/",
     "height": 34
    },
    "colab_type": "code",
    "id": "NeJw6_17S6U7",
    "outputId": "8fbaeb93-f8d0-4947-a28d-793228cb033d"
   },
   "outputs": [
    {
     "data": {
      "text/plain": [
       "0.6181031553333474"
      ]
     },
     "execution_count": 296,
     "metadata": {},
     "output_type": "execute_result"
    }
   ],
   "source": [
    "cross_val_score(rf, X_train, y_train, cv = 5).mean()"
   ]
  },
  {
   "cell_type": "code",
   "execution_count": 297,
   "metadata": {
    "colab": {},
    "colab_type": "code",
    "id": "7pquy7NSS6U9"
   },
   "outputs": [],
   "source": [
    "rf_model_3 = rf.fit(X_train, y_train)"
   ]
  },
  {
   "cell_type": "code",
   "execution_count": 298,
   "metadata": {
    "colab": {},
    "colab_type": "code",
    "id": "H_Ya9Fv6S6U_"
   },
   "outputs": [],
   "source": [
    "rf_trainpreds_3 = rf_model_3.predict(X_train)\n",
    "rf_valpreds_3 = rf_model_3.predict(X_validation)"
   ]
  },
  {
   "cell_type": "code",
   "execution_count": 299,
   "metadata": {
    "colab": {
     "base_uri": "https://localhost:8080/",
     "height": 86
    },
    "colab_type": "code",
    "id": "p3ZhEbxzS6VB",
    "outputId": "3599a53b-c140-499b-ead1-8b4a7e44a51b"
   },
   "outputs": [
    {
     "name": "stdout",
     "output_type": "stream",
     "text": [
      "0.9487979675294066\n",
      "0.6550038559856852\n",
      "24.863166081949032\n",
      "52.531358164106024\n"
     ]
    }
   ],
   "source": [
    "print(r2_score(y_train, rf_trainpreds_3))\n",
    "print(r2_score(y_validation, rf_valpreds_3))\n",
    "print(rmsle(y_train, rf_trainpreds_3))\n",
    "print(rmsle(y_validation, rf_valpreds_3))"
   ]
  },
  {
   "cell_type": "code",
   "execution_count": 300,
   "metadata": {},
   "outputs": [],
   "source": [
    "rf_testpreds_3 = rf_model_3.predict(X_test)"
   ]
  },
  {
   "cell_type": "code",
   "execution_count": 301,
   "metadata": {},
   "outputs": [
    {
     "name": "stdout",
     "output_type": "stream",
     "text": [
      "0.6450372280688308\n",
      "51.98074578087022\n"
     ]
    }
   ],
   "source": [
    "print(r2_score(y_test, rf_testpreds_3))\n",
    "print(rmsle(y_test, rf_testpreds_3))"
   ]
  },
  {
   "cell_type": "markdown",
   "metadata": {},
   "source": [
    "#### NN"
   ]
  },
  {
   "cell_type": "code",
   "execution_count": 168,
   "metadata": {
    "colab": {},
    "colab_type": "code",
    "id": "lhZtc0ASWN7W"
   },
   "outputs": [],
   "source": [
    "nn1_trainpreds = model1.predict(X_train)\n",
    "nn1_valpreds = model1.predict(X_validation)\n",
    "nn1_testpreds = model1.predict(X_test)"
   ]
  },
  {
   "cell_type": "code",
   "execution_count": 170,
   "metadata": {
    "colab": {
     "base_uri": "https://localhost:8080/",
     "height": 52
    },
    "colab_type": "code",
    "id": "Mjjq6sxRce_N",
    "outputId": "f0dd4591-26eb-48b3-f9d8-1ffa0d9cc22d"
   },
   "outputs": [
    {
     "name": "stdout",
     "output_type": "stream",
     "text": [
      "93.29973995239669\n",
      "92.67630648979292\n",
      "92.84792090662602\n"
     ]
    }
   ],
   "source": [
    "\n",
    "print(rmsle(y_train, nn1_trainpreds))\n",
    "print(rmsle(y_validation, nn1_valpreds))\n",
    "print(rmsle(y_test, nn1_testpreds))"
   ]
  },
  {
   "cell_type": "code",
   "execution_count": null,
   "metadata": {
    "colab": {},
    "colab_type": "code",
    "id": "R5VbU7CMgp11"
   },
   "outputs": [],
   "source": [
    "# prediction for test set"
   ]
  },
  {
   "cell_type": "code",
   "execution_count": null,
   "metadata": {
    "colab": {},
    "colab_type": "code",
    "id": "3R0TW_MMgw1w"
   },
   "outputs": [],
   "source": [
    "test.drop(columns=['record_ID', 'week', 'units_sold'], inplace=True)"
   ]
  },
  {
   "cell_type": "code",
   "execution_count": null,
   "metadata": {
    "colab": {
     "base_uri": "https://localhost:8080/",
     "height": 206
    },
    "colab_type": "code",
    "id": "5eVVNyMhg4c3",
    "outputId": "25c7e136-a86d-40b0-a3aa-3aa34ee3ff1f"
   },
   "outputs": [
    {
     "data": {
      "text/html": [
       "<div>\n",
       "<style scoped>\n",
       "    .dataframe tbody tr th:only-of-type {\n",
       "        vertical-align: middle;\n",
       "    }\n",
       "\n",
       "    .dataframe tbody tr th {\n",
       "        vertical-align: top;\n",
       "    }\n",
       "\n",
       "    .dataframe thead th {\n",
       "        text-align: right;\n",
       "    }\n",
       "</style>\n",
       "<table border=\"1\" class=\"dataframe\">\n",
       "  <thead>\n",
       "    <tr style=\"text-align: right;\">\n",
       "      <th></th>\n",
       "      <th>store_id</th>\n",
       "      <th>sku_id</th>\n",
       "      <th>total_price</th>\n",
       "      <th>base_price</th>\n",
       "      <th>is_featured_sku</th>\n",
       "      <th>is_display_sku</th>\n",
       "    </tr>\n",
       "  </thead>\n",
       "  <tbody>\n",
       "    <tr>\n",
       "      <th>0</th>\n",
       "      <td>8091</td>\n",
       "      <td>216418</td>\n",
       "      <td>108.3000</td>\n",
       "      <td>108.3000</td>\n",
       "      <td>0</td>\n",
       "      <td>0</td>\n",
       "    </tr>\n",
       "    <tr>\n",
       "      <th>1</th>\n",
       "      <td>8091</td>\n",
       "      <td>216419</td>\n",
       "      <td>109.0125</td>\n",
       "      <td>109.0125</td>\n",
       "      <td>0</td>\n",
       "      <td>0</td>\n",
       "    </tr>\n",
       "    <tr>\n",
       "      <th>2</th>\n",
       "      <td>8091</td>\n",
       "      <td>216425</td>\n",
       "      <td>133.9500</td>\n",
       "      <td>133.9500</td>\n",
       "      <td>0</td>\n",
       "      <td>0</td>\n",
       "    </tr>\n",
       "    <tr>\n",
       "      <th>3</th>\n",
       "      <td>8091</td>\n",
       "      <td>216233</td>\n",
       "      <td>133.9500</td>\n",
       "      <td>133.9500</td>\n",
       "      <td>0</td>\n",
       "      <td>0</td>\n",
       "    </tr>\n",
       "    <tr>\n",
       "      <th>4</th>\n",
       "      <td>8091</td>\n",
       "      <td>217390</td>\n",
       "      <td>176.7000</td>\n",
       "      <td>176.7000</td>\n",
       "      <td>0</td>\n",
       "      <td>0</td>\n",
       "    </tr>\n",
       "  </tbody>\n",
       "</table>\n",
       "</div>"
      ],
      "text/plain": [
       "   store_id  sku_id  total_price  base_price  is_featured_sku  is_display_sku\n",
       "0      8091  216418     108.3000    108.3000                0               0\n",
       "1      8091  216419     109.0125    109.0125                0               0\n",
       "2      8091  216425     133.9500    133.9500                0               0\n",
       "3      8091  216233     133.9500    133.9500                0               0\n",
       "4      8091  217390     176.7000    176.7000                0               0"
      ]
     },
     "execution_count": 136,
     "metadata": {
      "tags": []
     },
     "output_type": "execute_result"
    }
   ],
   "source": [
    "test.head()"
   ]
  },
  {
   "cell_type": "code",
   "execution_count": null,
   "metadata": {
    "colab": {},
    "colab_type": "code",
    "id": "_X-GCx6IcwR5"
   },
   "outputs": [],
   "source": [
    "nn1_testsetpreds = model1.predict(test)"
   ]
  },
  {
   "cell_type": "code",
   "execution_count": 469,
   "metadata": {
    "colab": {},
    "colab_type": "code",
    "id": "lhZtc0ASWN7W"
   },
   "outputs": [],
   "source": [
    "nn5_trainpreds = model5.predict(X_train_sc)\n",
    "nn5_valpreds = model5.predict(X_val_sc)\n"
   ]
  },
  {
   "cell_type": "code",
   "execution_count": 471,
   "metadata": {
    "colab": {
     "base_uri": "https://localhost:8080/",
     "height": 52
    },
    "colab_type": "code",
    "id": "Mjjq6sxRce_N",
    "outputId": "f0dd4591-26eb-48b3-f9d8-1ffa0d9cc22d"
   },
   "outputs": [
    {
     "name": "stdout",
     "output_type": "stream",
     "text": [
      "79.51707571723557\n",
      "79.93250020708561\n"
     ]
    }
   ],
   "source": [
    "\n",
    "print(rmsle(y_train, nn5_trainpreds))\n",
    "print(rmsle(y_validation, nn5_valpreds))\n"
   ]
  },
  {
   "cell_type": "code",
   "execution_count": 474,
   "metadata": {},
   "outputs": [],
   "source": [
    "nn5_testpreds = model5.predict(X_test_sc)"
   ]
  },
  {
   "cell_type": "code",
   "execution_count": 475,
   "metadata": {},
   "outputs": [
    {
     "name": "stdout",
     "output_type": "stream",
     "text": [
      "79.25530747295123\n"
     ]
    }
   ],
   "source": [
    "print(rmsle(y_test, nn5_testpreds))"
   ]
  },
  {
   "cell_type": "code",
   "execution_count": 122,
   "metadata": {
    "colab": {},
    "colab_type": "code",
    "id": "lhZtc0ASWN7W"
   },
   "outputs": [],
   "source": [
    "nn6_trainpreds = model6.predict(X_train_sc)\n",
    "nn6_valpreds = model6.predict(X_val_sc)\n"
   ]
  },
  {
   "cell_type": "code",
   "execution_count": 124,
   "metadata": {
    "colab": {
     "base_uri": "https://localhost:8080/",
     "height": 52
    },
    "colab_type": "code",
    "id": "Mjjq6sxRce_N",
    "outputId": "f0dd4591-26eb-48b3-f9d8-1ffa0d9cc22d"
   },
   "outputs": [
    {
     "name": "stdout",
     "output_type": "stream",
     "text": [
      "83.09186577827245\n",
      "82.62090055545175\n"
     ]
    }
   ],
   "source": [
    "\n",
    "print(rmsle(y_train, nn6_trainpreds))\n",
    "print(rmsle(y_validation, nn6_valpreds))\n"
   ]
  },
  {
   "cell_type": "code",
   "execution_count": 127,
   "metadata": {},
   "outputs": [],
   "source": [
    "nn6_testpreds = model6.predict(X_test_sc)"
   ]
  },
  {
   "cell_type": "code",
   "execution_count": 128,
   "metadata": {},
   "outputs": [
    {
     "name": "stdout",
     "output_type": "stream",
     "text": [
      "82.08814315413747\n"
     ]
    }
   ],
   "source": [
    "print(rmsle(y_test, nn6_testpreds))"
   ]
  },
  {
   "cell_type": "markdown",
   "metadata": {},
   "source": [
    "### Submission"
   ]
  },
  {
   "cell_type": "code",
   "execution_count": 3,
   "metadata": {},
   "outputs": [],
   "source": [
    "submission_sample = pd.read_csv('./sample_submission_pzljTaX.csv')"
   ]
  },
  {
   "cell_type": "code",
   "execution_count": 4,
   "metadata": {},
   "outputs": [],
   "source": [
    "submission_sample.drop(columns='units_sold', inplace=True)"
   ]
  },
  {
   "cell_type": "code",
   "execution_count": 5,
   "metadata": {},
   "outputs": [],
   "source": [
    "submission_sample['units_sold'] = rf_model2.predict(X_test).astype(int)"
   ]
  },
  {
   "cell_type": "code",
   "execution_count": 6,
   "metadata": {},
   "outputs": [],
   "source": [
    "submission_sample.to_csv('submission_rf.csv', index=False) "
   ]
  },
  {
   "cell_type": "markdown",
   "metadata": {},
   "source": [
    "## Conclusion"
   ]
  },
  {
   "cell_type": "markdown",
   "metadata": {},
   "source": [
    "The Random Forest model was the best solution based on our results and achieved a R2 score of 0.72 and RMLSE of 42 on the test dataset. While we did attempt a neural network solution as well it was overfit and the predictions failed to outperform the Random Forest model."
   ]
  },
  {
   "cell_type": "markdown",
   "metadata": {},
   "source": [
    "## Future Improvements\n",
    "Areas of improvement in the future include better feature engineering to create new relations between the features and additional hyperparameter tuning on the Scikit-Learn classifiers and also additional tuning for the neural network.\n"
   ]
  }
 ],
 "metadata": {
  "accelerator": "TPU",
  "colab": {
   "name": "Janata Hack July 10.ipynb",
   "provenance": []
  },
  "kernelspec": {
   "display_name": "Python 3",
   "language": "python",
   "name": "python3"
  },
  "language_info": {
   "codemirror_mode": {
    "name": "ipython",
    "version": 3
   },
   "file_extension": ".py",
   "mimetype": "text/x-python",
   "name": "python",
   "nbconvert_exporter": "python",
   "pygments_lexer": "ipython3",
   "version": "3.8.3"
  }
 },
 "nbformat": 4,
 "nbformat_minor": 1
}
